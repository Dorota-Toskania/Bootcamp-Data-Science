{
 "cells": [
  {
   "cell_type": "markdown",
   "metadata": {},
   "source": [
    "# Projekt końcowy Data Science \n",
    "### Dorota Gawrońska-Popa \n",
    "## 4. c) Przykłady modeli po PCA \n",
    "(zmniejszaniu liczby wymiarów)"
   ]
  },
  {
   "cell_type": "code",
   "execution_count": 1,
   "metadata": {},
   "outputs": [],
   "source": [
    "import numpy as np \n",
    "import pandas as pd \n",
    "import seaborn as sns\n",
    "#import category_encoders as ce\n",
    "\n",
    "import matplotlib.pyplot as plt\n",
    "\n",
    "%matplotlib inline\n",
    "\n",
    "from sklearn.preprocessing import StandardScaler\n",
    "from sklearn.model_selection import train_test_split\n",
    "from sklearn.linear_model import LinearRegression, Ridge, Lasso\n",
    "from sklearn.linear_model import LogisticRegression\n",
    "from sklearn.neighbors import KNeighborsRegressor\n",
    "from sklearn.naive_bayes import GaussianNB\n",
    "from sklearn.tree import DecisionTreeClassifier\n",
    "from sklearn.tree import DecisionTreeRegressor\n",
    "from sklearn import tree\n",
    "\n",
    "from sklearn.ensemble import RandomForestClassifier\n",
    "from sklearn.ensemble import BaggingClassifier\n",
    "from sklearn.ensemble import AdaBoostClassifier\n",
    "from sklearn.ensemble import GradientBoostingClassifier\n",
    "from sklearn.ensemble import (RandomForestRegressor, GradientBoostingRegressor, AdaBoostRegressor, BaggingRegressor)\n",
    "from sklearn.svm import SVR\n",
    "from sklearn.svm import SVC\n",
    "from sklearn.neighbors import KNeighborsClassifier\n",
    "from sklearn.tree import DecisionTreeClassifier\n",
    "\n",
    "from sklearn import metrics\n",
    "from sklearn.ensemble import VotingRegressor\n",
    "\n",
    "from scipy import stats\n",
    "from scipy.stats import zscore\n",
    "from sklearn.metrics import mean_squared_error,mean_absolute_error,r2_score\n",
    "from sklearn.model_selection import KFold\n",
    "from sklearn.model_selection import cross_val_score\n",
    "from sklearn.model_selection import GridSearchCV\n",
    "from sklearn import preprocessing\n",
    "from sklearn.preprocessing import PolynomialFeatures\n",
    "from sklearn.cluster import KMeans\n",
    "from sklearn.utils import resample\n",
    "\n",
    "\n",
    "from sklearn.metrics import confusion_matrix\n",
    "from sklearn.metrics import classification_report\n",
    "from sklearn.metrics import accuracy_score\n",
    "from sklearn.metrics import roc_curve\n",
    "\n",
    "from sklearn.metrics import precision_recall_curve, auc, roc_auc_score, recall_score\n",
    "\n",
    "from sklearn.decomposition import PCA\n",
    "from sklearn.decomposition import IncrementalPCA\n",
    "\n",
    "from sklearn.feature_extraction.text import CountVectorizer\n",
    "from sklearn.model_selection import learning_curve\n",
    "from sklearn.model_selection import ShuffleSplit"
   ]
  },
  {
   "cell_type": "markdown",
   "metadata": {},
   "source": [
    "#### wczytuję dane z poprzedniej części"
   ]
  },
  {
   "cell_type": "code",
   "execution_count": 2,
   "metadata": {},
   "outputs": [
    {
     "data": {
      "text/html": [
       "<div>\n",
       "<style scoped>\n",
       "    .dataframe tbody tr th:only-of-type {\n",
       "        vertical-align: middle;\n",
       "    }\n",
       "\n",
       "    .dataframe tbody tr th {\n",
       "        vertical-align: top;\n",
       "    }\n",
       "\n",
       "    .dataframe thead th {\n",
       "        text-align: right;\n",
       "    }\n",
       "</style>\n",
       "<table border=\"1\" class=\"dataframe\">\n",
       "  <thead>\n",
       "    <tr style=\"text-align: right;\">\n",
       "      <th></th>\n",
       "      <th>loan_amnt</th>\n",
       "      <th>funded_amnt</th>\n",
       "      <th>term</th>\n",
       "      <th>int_rate</th>\n",
       "      <th>installment</th>\n",
       "      <th>sub_grade</th>\n",
       "      <th>emp_length</th>\n",
       "      <th>annual_inc</th>\n",
       "      <th>issue_d</th>\n",
       "      <th>loan_status</th>\n",
       "      <th>...</th>\n",
       "      <th>addr_state_SD</th>\n",
       "      <th>addr_state_TN</th>\n",
       "      <th>addr_state_TX</th>\n",
       "      <th>addr_state_UT</th>\n",
       "      <th>addr_state_VA</th>\n",
       "      <th>addr_state_VT</th>\n",
       "      <th>addr_state_WA</th>\n",
       "      <th>addr_state_WI</th>\n",
       "      <th>addr_state_WV</th>\n",
       "      <th>addr_state_WY</th>\n",
       "    </tr>\n",
       "  </thead>\n",
       "  <tbody>\n",
       "    <tr>\n",
       "      <th>0</th>\n",
       "      <td>5000.0</td>\n",
       "      <td>5000.0</td>\n",
       "      <td>1</td>\n",
       "      <td>10.65</td>\n",
       "      <td>162.87</td>\n",
       "      <td>1</td>\n",
       "      <td>10</td>\n",
       "      <td>24000.0</td>\n",
       "      <td>2011</td>\n",
       "      <td>1</td>\n",
       "      <td>...</td>\n",
       "      <td>0</td>\n",
       "      <td>0</td>\n",
       "      <td>0</td>\n",
       "      <td>0</td>\n",
       "      <td>0</td>\n",
       "      <td>0</td>\n",
       "      <td>0</td>\n",
       "      <td>0</td>\n",
       "      <td>0</td>\n",
       "      <td>0</td>\n",
       "    </tr>\n",
       "    <tr>\n",
       "      <th>1</th>\n",
       "      <td>2500.0</td>\n",
       "      <td>2500.0</td>\n",
       "      <td>2</td>\n",
       "      <td>15.27</td>\n",
       "      <td>59.83</td>\n",
       "      <td>2</td>\n",
       "      <td>1</td>\n",
       "      <td>30000.0</td>\n",
       "      <td>2011</td>\n",
       "      <td>0</td>\n",
       "      <td>...</td>\n",
       "      <td>0</td>\n",
       "      <td>0</td>\n",
       "      <td>0</td>\n",
       "      <td>0</td>\n",
       "      <td>0</td>\n",
       "      <td>0</td>\n",
       "      <td>0</td>\n",
       "      <td>0</td>\n",
       "      <td>0</td>\n",
       "      <td>0</td>\n",
       "    </tr>\n",
       "    <tr>\n",
       "      <th>2</th>\n",
       "      <td>2400.0</td>\n",
       "      <td>2400.0</td>\n",
       "      <td>1</td>\n",
       "      <td>15.96</td>\n",
       "      <td>84.33</td>\n",
       "      <td>3</td>\n",
       "      <td>10</td>\n",
       "      <td>12252.0</td>\n",
       "      <td>2011</td>\n",
       "      <td>1</td>\n",
       "      <td>...</td>\n",
       "      <td>0</td>\n",
       "      <td>0</td>\n",
       "      <td>0</td>\n",
       "      <td>0</td>\n",
       "      <td>0</td>\n",
       "      <td>0</td>\n",
       "      <td>0</td>\n",
       "      <td>0</td>\n",
       "      <td>0</td>\n",
       "      <td>0</td>\n",
       "    </tr>\n",
       "    <tr>\n",
       "      <th>3</th>\n",
       "      <td>10000.0</td>\n",
       "      <td>10000.0</td>\n",
       "      <td>1</td>\n",
       "      <td>13.49</td>\n",
       "      <td>339.31</td>\n",
       "      <td>4</td>\n",
       "      <td>10</td>\n",
       "      <td>49200.0</td>\n",
       "      <td>2011</td>\n",
       "      <td>1</td>\n",
       "      <td>...</td>\n",
       "      <td>0</td>\n",
       "      <td>0</td>\n",
       "      <td>0</td>\n",
       "      <td>0</td>\n",
       "      <td>0</td>\n",
       "      <td>0</td>\n",
       "      <td>0</td>\n",
       "      <td>0</td>\n",
       "      <td>0</td>\n",
       "      <td>0</td>\n",
       "    </tr>\n",
       "    <tr>\n",
       "      <th>4</th>\n",
       "      <td>3000.0</td>\n",
       "      <td>3000.0</td>\n",
       "      <td>2</td>\n",
       "      <td>12.69</td>\n",
       "      <td>67.79</td>\n",
       "      <td>5</td>\n",
       "      <td>1</td>\n",
       "      <td>80000.0</td>\n",
       "      <td>2011</td>\n",
       "      <td>1</td>\n",
       "      <td>...</td>\n",
       "      <td>0</td>\n",
       "      <td>0</td>\n",
       "      <td>0</td>\n",
       "      <td>0</td>\n",
       "      <td>0</td>\n",
       "      <td>0</td>\n",
       "      <td>0</td>\n",
       "      <td>0</td>\n",
       "      <td>0</td>\n",
       "      <td>0</td>\n",
       "    </tr>\n",
       "    <tr>\n",
       "      <th>...</th>\n",
       "      <td>...</td>\n",
       "      <td>...</td>\n",
       "      <td>...</td>\n",
       "      <td>...</td>\n",
       "      <td>...</td>\n",
       "      <td>...</td>\n",
       "      <td>...</td>\n",
       "      <td>...</td>\n",
       "      <td>...</td>\n",
       "      <td>...</td>\n",
       "      <td>...</td>\n",
       "      <td>...</td>\n",
       "      <td>...</td>\n",
       "      <td>...</td>\n",
       "      <td>...</td>\n",
       "      <td>...</td>\n",
       "      <td>...</td>\n",
       "      <td>...</td>\n",
       "      <td>...</td>\n",
       "      <td>...</td>\n",
       "      <td>...</td>\n",
       "    </tr>\n",
       "    <tr>\n",
       "      <th>42530</th>\n",
       "      <td>3500.0</td>\n",
       "      <td>3500.0</td>\n",
       "      <td>1</td>\n",
       "      <td>10.28</td>\n",
       "      <td>113.39</td>\n",
       "      <td>4</td>\n",
       "      <td>1</td>\n",
       "      <td>180000.0</td>\n",
       "      <td>2007</td>\n",
       "      <td>1</td>\n",
       "      <td>...</td>\n",
       "      <td>0</td>\n",
       "      <td>0</td>\n",
       "      <td>0</td>\n",
       "      <td>0</td>\n",
       "      <td>0</td>\n",
       "      <td>0</td>\n",
       "      <td>0</td>\n",
       "      <td>0</td>\n",
       "      <td>0</td>\n",
       "      <td>0</td>\n",
       "    </tr>\n",
       "    <tr>\n",
       "      <th>42531</th>\n",
       "      <td>1000.0</td>\n",
       "      <td>1000.0</td>\n",
       "      <td>1</td>\n",
       "      <td>9.64</td>\n",
       "      <td>32.11</td>\n",
       "      <td>14</td>\n",
       "      <td>1</td>\n",
       "      <td>12000.0</td>\n",
       "      <td>2007</td>\n",
       "      <td>1</td>\n",
       "      <td>...</td>\n",
       "      <td>0</td>\n",
       "      <td>0</td>\n",
       "      <td>0</td>\n",
       "      <td>0</td>\n",
       "      <td>0</td>\n",
       "      <td>0</td>\n",
       "      <td>0</td>\n",
       "      <td>0</td>\n",
       "      <td>0</td>\n",
       "      <td>0</td>\n",
       "    </tr>\n",
       "    <tr>\n",
       "      <th>42532</th>\n",
       "      <td>2525.0</td>\n",
       "      <td>2525.0</td>\n",
       "      <td>1</td>\n",
       "      <td>9.33</td>\n",
       "      <td>80.69</td>\n",
       "      <td>13</td>\n",
       "      <td>1</td>\n",
       "      <td>110000.0</td>\n",
       "      <td>2007</td>\n",
       "      <td>1</td>\n",
       "      <td>...</td>\n",
       "      <td>0</td>\n",
       "      <td>0</td>\n",
       "      <td>0</td>\n",
       "      <td>0</td>\n",
       "      <td>0</td>\n",
       "      <td>0</td>\n",
       "      <td>0</td>\n",
       "      <td>0</td>\n",
       "      <td>0</td>\n",
       "      <td>0</td>\n",
       "    </tr>\n",
       "    <tr>\n",
       "      <th>42533</th>\n",
       "      <td>6500.0</td>\n",
       "      <td>6500.0</td>\n",
       "      <td>1</td>\n",
       "      <td>8.38</td>\n",
       "      <td>204.84</td>\n",
       "      <td>18</td>\n",
       "      <td>1</td>\n",
       "      <td>60000.0</td>\n",
       "      <td>2007</td>\n",
       "      <td>1</td>\n",
       "      <td>...</td>\n",
       "      <td>0</td>\n",
       "      <td>0</td>\n",
       "      <td>0</td>\n",
       "      <td>0</td>\n",
       "      <td>0</td>\n",
       "      <td>0</td>\n",
       "      <td>0</td>\n",
       "      <td>0</td>\n",
       "      <td>0</td>\n",
       "      <td>0</td>\n",
       "    </tr>\n",
       "    <tr>\n",
       "      <th>42534</th>\n",
       "      <td>5000.0</td>\n",
       "      <td>5000.0</td>\n",
       "      <td>1</td>\n",
       "      <td>7.75</td>\n",
       "      <td>156.11</td>\n",
       "      <td>17</td>\n",
       "      <td>10</td>\n",
       "      <td>70000.0</td>\n",
       "      <td>2007</td>\n",
       "      <td>1</td>\n",
       "      <td>...</td>\n",
       "      <td>0</td>\n",
       "      <td>0</td>\n",
       "      <td>0</td>\n",
       "      <td>0</td>\n",
       "      <td>0</td>\n",
       "      <td>0</td>\n",
       "      <td>0</td>\n",
       "      <td>0</td>\n",
       "      <td>0</td>\n",
       "      <td>0</td>\n",
       "    </tr>\n",
       "  </tbody>\n",
       "</table>\n",
       "<p>42535 rows × 98 columns</p>\n",
       "</div>"
      ],
      "text/plain": [
       "       loan_amnt  funded_amnt  term  int_rate  installment  sub_grade  \\\n",
       "0         5000.0       5000.0     1     10.65       162.87          1   \n",
       "1         2500.0       2500.0     2     15.27        59.83          2   \n",
       "2         2400.0       2400.0     1     15.96        84.33          3   \n",
       "3        10000.0      10000.0     1     13.49       339.31          4   \n",
       "4         3000.0       3000.0     2     12.69        67.79          5   \n",
       "...          ...          ...   ...       ...          ...        ...   \n",
       "42530     3500.0       3500.0     1     10.28       113.39          4   \n",
       "42531     1000.0       1000.0     1      9.64        32.11         14   \n",
       "42532     2525.0       2525.0     1      9.33        80.69         13   \n",
       "42533     6500.0       6500.0     1      8.38       204.84         18   \n",
       "42534     5000.0       5000.0     1      7.75       156.11         17   \n",
       "\n",
       "       emp_length  annual_inc  issue_d  loan_status  ...  addr_state_SD  \\\n",
       "0              10     24000.0     2011            1  ...              0   \n",
       "1               1     30000.0     2011            0  ...              0   \n",
       "2              10     12252.0     2011            1  ...              0   \n",
       "3              10     49200.0     2011            1  ...              0   \n",
       "4               1     80000.0     2011            1  ...              0   \n",
       "...           ...         ...      ...          ...  ...            ...   \n",
       "42530           1    180000.0     2007            1  ...              0   \n",
       "42531           1     12000.0     2007            1  ...              0   \n",
       "42532           1    110000.0     2007            1  ...              0   \n",
       "42533           1     60000.0     2007            1  ...              0   \n",
       "42534          10     70000.0     2007            1  ...              0   \n",
       "\n",
       "       addr_state_TN  addr_state_TX  addr_state_UT  addr_state_VA  \\\n",
       "0                  0              0              0              0   \n",
       "1                  0              0              0              0   \n",
       "2                  0              0              0              0   \n",
       "3                  0              0              0              0   \n",
       "4                  0              0              0              0   \n",
       "...              ...            ...            ...            ...   \n",
       "42530              0              0              0              0   \n",
       "42531              0              0              0              0   \n",
       "42532              0              0              0              0   \n",
       "42533              0              0              0              0   \n",
       "42534              0              0              0              0   \n",
       "\n",
       "       addr_state_VT  addr_state_WA  addr_state_WI  addr_state_WV  \\\n",
       "0                  0              0              0              0   \n",
       "1                  0              0              0              0   \n",
       "2                  0              0              0              0   \n",
       "3                  0              0              0              0   \n",
       "4                  0              0              0              0   \n",
       "...              ...            ...            ...            ...   \n",
       "42530              0              0              0              0   \n",
       "42531              0              0              0              0   \n",
       "42532              0              0              0              0   \n",
       "42533              0              0              0              0   \n",
       "42534              0              0              0              0   \n",
       "\n",
       "       addr_state_WY  \n",
       "0                  0  \n",
       "1                  0  \n",
       "2                  0  \n",
       "3                  0  \n",
       "4                  0  \n",
       "...              ...  \n",
       "42530              0  \n",
       "42531              0  \n",
       "42532              0  \n",
       "42533              0  \n",
       "42534              0  \n",
       "\n",
       "[42535 rows x 98 columns]"
      ]
     },
     "execution_count": 2,
     "metadata": {},
     "output_type": "execute_result"
    }
   ],
   "source": [
    "data_dummies = pd.read_csv('data_dummies.csv')\n",
    "data_dummies.drop('Unnamed: 0', axis=1, inplace=True)\n",
    "data_dummies"
   ]
  },
  {
   "cell_type": "code",
   "execution_count": 3,
   "metadata": {},
   "outputs": [],
   "source": [
    "X = data_dummies.drop('loan_status',axis=1) \n",
    "#target\n",
    "y = data_dummies['loan_status']"
   ]
  },
  {
   "cell_type": "code",
   "execution_count": 4,
   "metadata": {},
   "outputs": [
    {
     "data": {
      "text/plain": [
       "(42535, 97)"
      ]
     },
     "execution_count": 4,
     "metadata": {},
     "output_type": "execute_result"
    }
   ],
   "source": [
    "X.shape"
   ]
  },
  {
   "cell_type": "code",
   "execution_count": 5,
   "metadata": {},
   "outputs": [
    {
     "data": {
      "text/plain": [
       "(42535,)"
      ]
     },
     "execution_count": 5,
     "metadata": {},
     "output_type": "execute_result"
    }
   ],
   "source": [
    "y.shape"
   ]
  },
  {
   "cell_type": "code",
   "execution_count": 6,
   "metadata": {},
   "outputs": [
    {
     "data": {
      "text/plain": [
       "0        1\n",
       "1        0\n",
       "2        1\n",
       "3        1\n",
       "4        1\n",
       "        ..\n",
       "42530    1\n",
       "42531    1\n",
       "42532    1\n",
       "42533    1\n",
       "42534    1\n",
       "Name: loan_status, Length: 42535, dtype: int64"
      ]
     },
     "execution_count": 6,
     "metadata": {},
     "output_type": "execute_result"
    }
   ],
   "source": [
    "y"
   ]
  },
  {
   "cell_type": "markdown",
   "metadata": {},
   "source": [
    "### Standaryzacja, przed wykonaniem PCA "
   ]
  },
  {
   "cell_type": "code",
   "execution_count": 7,
   "metadata": {},
   "outputs": [
    {
     "data": {
      "text/plain": [
       "array([[-0.82173051, -0.81456887, -0.59064503, -0.40859218, -0.76464399],\n",
       "       [-1.15907367, -1.16437427,  1.69306429,  0.83739883, -1.25783589],\n",
       "       [-1.1725674 , -1.17836649, -0.59064503,  1.0234884 , -1.1405688 ],\n",
       "       [-0.14704418, -0.11495806, -0.59064503,  0.35734169,  0.07987056],\n",
       "       [-1.09160504, -1.09441319,  1.69306429,  0.14158567, -1.21973605]])"
      ]
     },
     "execution_count": 7,
     "metadata": {},
     "output_type": "execute_result"
    }
   ],
   "source": [
    "sc = StandardScaler()\n",
    "X_scaled = sc.fit_transform(X)\n",
    "X_scaled[:5, :5]"
   ]
  },
  {
   "cell_type": "code",
   "execution_count": 8,
   "metadata": {
    "scrolled": true
   },
   "outputs": [
    {
     "data": {
      "text/plain": [
       "Index(['loan_amnt', 'funded_amnt', 'term', 'int_rate', 'installment',\n",
       "       'sub_grade', 'emp_length', 'annual_inc', 'issue_d', 'dti',\n",
       "       'delinq_2yrs', 'earliest_cr_line', 'inq_last_6mths',\n",
       "       'mths_since_last_delinq', 'open_acc', 'pub_rec', 'revol_bal',\n",
       "       'revol_util', 'total_acc', 'pub_rec_bankruptcies', 'fico_mean',\n",
       "       'last_fico_mean', 'fico_rating', 'loan_amnt_rating', 'interest_rating',\n",
       "       'home_ownership_MORTGAGE', 'home_ownership_NONE',\n",
       "       'home_ownership_OTHER', 'home_ownership_OWN', 'home_ownership_RENT',\n",
       "       'verification_status_Not Verified',\n",
       "       'verification_status_Source Verified', 'verification_status_Verified',\n",
       "       'purpose_car', 'purpose_credit_card', 'purpose_debt_consolidation',\n",
       "       'purpose_educational', 'purpose_home_improvement', 'purpose_house',\n",
       "       'purpose_major_purchase', 'purpose_medical', 'purpose_moving',\n",
       "       'purpose_other', 'purpose_renewable_energy', 'purpose_small_business',\n",
       "       'purpose_vacation', 'purpose_wedding', 'addr_state_AK', 'addr_state_AL',\n",
       "       'addr_state_AR', 'addr_state_AZ', 'addr_state_CA', 'addr_state_CO',\n",
       "       'addr_state_CT', 'addr_state_DC', 'addr_state_DE', 'addr_state_FL',\n",
       "       'addr_state_GA', 'addr_state_HI', 'addr_state_IA', 'addr_state_ID',\n",
       "       'addr_state_IL', 'addr_state_IN', 'addr_state_KS', 'addr_state_KY',\n",
       "       'addr_state_LA', 'addr_state_MA', 'addr_state_MD', 'addr_state_ME',\n",
       "       'addr_state_MI', 'addr_state_MN', 'addr_state_MO', 'addr_state_MS',\n",
       "       'addr_state_MT', 'addr_state_NC', 'addr_state_NE', 'addr_state_NH',\n",
       "       'addr_state_NJ', 'addr_state_NM', 'addr_state_NV', 'addr_state_NY',\n",
       "       'addr_state_OH', 'addr_state_OK', 'addr_state_OR', 'addr_state_PA',\n",
       "       'addr_state_RI', 'addr_state_SC', 'addr_state_SD', 'addr_state_TN',\n",
       "       'addr_state_TX', 'addr_state_UT', 'addr_state_VA', 'addr_state_VT',\n",
       "       'addr_state_WA', 'addr_state_WI', 'addr_state_WV', 'addr_state_WY'],\n",
       "      dtype='object')"
      ]
     },
     "execution_count": 8,
     "metadata": {},
     "output_type": "execute_result"
    }
   ],
   "source": [
    "X.columns"
   ]
  },
  {
   "cell_type": "code",
   "execution_count": 9,
   "metadata": {},
   "outputs": [
    {
     "data": {
      "text/html": [
       "<div>\n",
       "<style scoped>\n",
       "    .dataframe tbody tr th:only-of-type {\n",
       "        vertical-align: middle;\n",
       "    }\n",
       "\n",
       "    .dataframe tbody tr th {\n",
       "        vertical-align: top;\n",
       "    }\n",
       "\n",
       "    .dataframe thead th {\n",
       "        text-align: right;\n",
       "    }\n",
       "</style>\n",
       "<table border=\"1\" class=\"dataframe\">\n",
       "  <thead>\n",
       "    <tr style=\"text-align: right;\">\n",
       "      <th></th>\n",
       "      <th>loan_amnt</th>\n",
       "      <th>funded_amnt</th>\n",
       "      <th>term</th>\n",
       "      <th>int_rate</th>\n",
       "      <th>installment</th>\n",
       "      <th>sub_grade</th>\n",
       "      <th>emp_length</th>\n",
       "      <th>annual_inc</th>\n",
       "      <th>issue_d</th>\n",
       "      <th>dti</th>\n",
       "      <th>...</th>\n",
       "      <th>addr_state_SD</th>\n",
       "      <th>addr_state_TN</th>\n",
       "      <th>addr_state_TX</th>\n",
       "      <th>addr_state_UT</th>\n",
       "      <th>addr_state_VA</th>\n",
       "      <th>addr_state_VT</th>\n",
       "      <th>addr_state_WA</th>\n",
       "      <th>addr_state_WI</th>\n",
       "      <th>addr_state_WV</th>\n",
       "      <th>addr_state_WY</th>\n",
       "    </tr>\n",
       "  </thead>\n",
       "  <tbody>\n",
       "    <tr>\n",
       "      <th>0</th>\n",
       "      <td>-0.821731</td>\n",
       "      <td>-0.814569</td>\n",
       "      <td>-0.590645</td>\n",
       "      <td>-0.408592</td>\n",
       "      <td>-0.764644</td>\n",
       "      <td>-1.532735</td>\n",
       "      <td>1.395279</td>\n",
       "      <td>-0.704226</td>\n",
       "      <td>0.795288</td>\n",
       "      <td>2.122578</td>\n",
       "      <td>...</td>\n",
       "      <td>-0.03972</td>\n",
       "      <td>-0.027439</td>\n",
       "      <td>-0.271245</td>\n",
       "      <td>-0.08111</td>\n",
       "      <td>-0.190331</td>\n",
       "      <td>-0.036632</td>\n",
       "      <td>-0.146021</td>\n",
       "      <td>-0.110816</td>\n",
       "      <td>-0.066451</td>\n",
       "      <td>-0.045272</td>\n",
       "    </tr>\n",
       "    <tr>\n",
       "      <th>1</th>\n",
       "      <td>-1.159074</td>\n",
       "      <td>-1.164374</td>\n",
       "      <td>1.693064</td>\n",
       "      <td>0.837399</td>\n",
       "      <td>-1.257836</td>\n",
       "      <td>-1.402702</td>\n",
       "      <td>-1.207217</td>\n",
       "      <td>-0.610611</td>\n",
       "      <td>0.795288</td>\n",
       "      <td>-1.839520</td>\n",
       "      <td>...</td>\n",
       "      <td>-0.03972</td>\n",
       "      <td>-0.027439</td>\n",
       "      <td>-0.271245</td>\n",
       "      <td>-0.08111</td>\n",
       "      <td>-0.190331</td>\n",
       "      <td>-0.036632</td>\n",
       "      <td>-0.146021</td>\n",
       "      <td>-0.110816</td>\n",
       "      <td>-0.066451</td>\n",
       "      <td>-0.045272</td>\n",
       "    </tr>\n",
       "    <tr>\n",
       "      <th>2</th>\n",
       "      <td>-1.172567</td>\n",
       "      <td>-1.178366</td>\n",
       "      <td>-0.590645</td>\n",
       "      <td>1.023488</td>\n",
       "      <td>-1.140569</td>\n",
       "      <td>-1.272670</td>\n",
       "      <td>1.395279</td>\n",
       "      <td>-0.887523</td>\n",
       "      <td>0.795288</td>\n",
       "      <td>-0.691775</td>\n",
       "      <td>...</td>\n",
       "      <td>-0.03972</td>\n",
       "      <td>-0.027439</td>\n",
       "      <td>-0.271245</td>\n",
       "      <td>-0.08111</td>\n",
       "      <td>-0.190331</td>\n",
       "      <td>-0.036632</td>\n",
       "      <td>-0.146021</td>\n",
       "      <td>-0.110816</td>\n",
       "      <td>-0.066451</td>\n",
       "      <td>-0.045272</td>\n",
       "    </tr>\n",
       "    <tr>\n",
       "      <th>3</th>\n",
       "      <td>-0.147044</td>\n",
       "      <td>-0.114958</td>\n",
       "      <td>-0.590645</td>\n",
       "      <td>0.357342</td>\n",
       "      <td>0.079871</td>\n",
       "      <td>-1.142637</td>\n",
       "      <td>1.395279</td>\n",
       "      <td>-0.311045</td>\n",
       "      <td>0.795288</td>\n",
       "      <td>0.985240</td>\n",
       "      <td>...</td>\n",
       "      <td>-0.03972</td>\n",
       "      <td>-0.027439</td>\n",
       "      <td>-0.271245</td>\n",
       "      <td>-0.08111</td>\n",
       "      <td>-0.190331</td>\n",
       "      <td>-0.036632</td>\n",
       "      <td>-0.146021</td>\n",
       "      <td>-0.110816</td>\n",
       "      <td>-0.066451</td>\n",
       "      <td>-0.045272</td>\n",
       "    </tr>\n",
       "    <tr>\n",
       "      <th>4</th>\n",
       "      <td>-1.091605</td>\n",
       "      <td>-1.094413</td>\n",
       "      <td>1.693064</td>\n",
       "      <td>0.141586</td>\n",
       "      <td>-1.219736</td>\n",
       "      <td>-1.012604</td>\n",
       "      <td>-1.207217</td>\n",
       "      <td>0.169509</td>\n",
       "      <td>0.795288</td>\n",
       "      <td>0.678977</td>\n",
       "      <td>...</td>\n",
       "      <td>-0.03972</td>\n",
       "      <td>-0.027439</td>\n",
       "      <td>-0.271245</td>\n",
       "      <td>-0.08111</td>\n",
       "      <td>-0.190331</td>\n",
       "      <td>-0.036632</td>\n",
       "      <td>-0.146021</td>\n",
       "      <td>-0.110816</td>\n",
       "      <td>-0.066451</td>\n",
       "      <td>-0.045272</td>\n",
       "    </tr>\n",
       "    <tr>\n",
       "      <th>...</th>\n",
       "      <td>...</td>\n",
       "      <td>...</td>\n",
       "      <td>...</td>\n",
       "      <td>...</td>\n",
       "      <td>...</td>\n",
       "      <td>...</td>\n",
       "      <td>...</td>\n",
       "      <td>...</td>\n",
       "      <td>...</td>\n",
       "      <td>...</td>\n",
       "      <td>...</td>\n",
       "      <td>...</td>\n",
       "      <td>...</td>\n",
       "      <td>...</td>\n",
       "      <td>...</td>\n",
       "      <td>...</td>\n",
       "      <td>...</td>\n",
       "      <td>...</td>\n",
       "      <td>...</td>\n",
       "      <td>...</td>\n",
       "      <td>...</td>\n",
       "    </tr>\n",
       "    <tr>\n",
       "      <th>42530</th>\n",
       "      <td>-1.024136</td>\n",
       "      <td>-1.024452</td>\n",
       "      <td>-0.590645</td>\n",
       "      <td>-0.508379</td>\n",
       "      <td>-1.001476</td>\n",
       "      <td>-1.142637</td>\n",
       "      <td>-1.207217</td>\n",
       "      <td>1.729751</td>\n",
       "      <td>-3.343908</td>\n",
       "      <td>-0.501476</td>\n",
       "      <td>...</td>\n",
       "      <td>-0.03972</td>\n",
       "      <td>-0.027439</td>\n",
       "      <td>-0.271245</td>\n",
       "      <td>-0.08111</td>\n",
       "      <td>-0.190331</td>\n",
       "      <td>-0.036632</td>\n",
       "      <td>-0.146021</td>\n",
       "      <td>-0.110816</td>\n",
       "      <td>-0.066451</td>\n",
       "      <td>-0.045272</td>\n",
       "    </tr>\n",
       "    <tr>\n",
       "      <th>42531</th>\n",
       "      <td>-1.361480</td>\n",
       "      <td>-1.374258</td>\n",
       "      <td>-0.590645</td>\n",
       "      <td>-0.680984</td>\n",
       "      <td>-1.390515</td>\n",
       "      <td>0.157690</td>\n",
       "      <td>-1.207217</td>\n",
       "      <td>-0.891455</td>\n",
       "      <td>-3.343908</td>\n",
       "      <td>-0.501476</td>\n",
       "      <td>...</td>\n",
       "      <td>-0.03972</td>\n",
       "      <td>-0.027439</td>\n",
       "      <td>-0.271245</td>\n",
       "      <td>-0.08111</td>\n",
       "      <td>-0.190331</td>\n",
       "      <td>-0.036632</td>\n",
       "      <td>-0.146021</td>\n",
       "      <td>-0.110816</td>\n",
       "      <td>-0.066451</td>\n",
       "      <td>-0.045272</td>\n",
       "    </tr>\n",
       "    <tr>\n",
       "      <th>42532</th>\n",
       "      <td>-1.155700</td>\n",
       "      <td>-1.160876</td>\n",
       "      <td>-0.590645</td>\n",
       "      <td>-0.764590</td>\n",
       "      <td>-1.157991</td>\n",
       "      <td>0.027657</td>\n",
       "      <td>-1.207217</td>\n",
       "      <td>0.637582</td>\n",
       "      <td>-3.343908</td>\n",
       "      <td>-0.501476</td>\n",
       "      <td>...</td>\n",
       "      <td>-0.03972</td>\n",
       "      <td>-0.027439</td>\n",
       "      <td>-0.271245</td>\n",
       "      <td>-0.08111</td>\n",
       "      <td>-0.190331</td>\n",
       "      <td>-0.036632</td>\n",
       "      <td>-0.146021</td>\n",
       "      <td>-0.110816</td>\n",
       "      <td>-0.066451</td>\n",
       "      <td>-0.045272</td>\n",
       "    </tr>\n",
       "    <tr>\n",
       "      <th>42533</th>\n",
       "      <td>-0.619325</td>\n",
       "      <td>-0.604686</td>\n",
       "      <td>-0.590645</td>\n",
       "      <td>-1.020800</td>\n",
       "      <td>-0.563758</td>\n",
       "      <td>0.677821</td>\n",
       "      <td>-1.207217</td>\n",
       "      <td>-0.142539</td>\n",
       "      <td>-3.343908</td>\n",
       "      <td>-1.393505</td>\n",
       "      <td>...</td>\n",
       "      <td>-0.03972</td>\n",
       "      <td>-0.027439</td>\n",
       "      <td>-0.271245</td>\n",
       "      <td>-0.08111</td>\n",
       "      <td>-0.190331</td>\n",
       "      <td>-0.036632</td>\n",
       "      <td>-0.146021</td>\n",
       "      <td>-0.110816</td>\n",
       "      <td>-0.066451</td>\n",
       "      <td>-0.045272</td>\n",
       "    </tr>\n",
       "    <tr>\n",
       "      <th>42534</th>\n",
       "      <td>-0.821731</td>\n",
       "      <td>-0.814569</td>\n",
       "      <td>-0.590645</td>\n",
       "      <td>-1.190708</td>\n",
       "      <td>-0.797000</td>\n",
       "      <td>0.547788</td>\n",
       "      <td>1.395279</td>\n",
       "      <td>0.013485</td>\n",
       "      <td>-3.343908</td>\n",
       "      <td>-0.678395</td>\n",
       "      <td>...</td>\n",
       "      <td>-0.03972</td>\n",
       "      <td>-0.027439</td>\n",
       "      <td>-0.271245</td>\n",
       "      <td>-0.08111</td>\n",
       "      <td>-0.190331</td>\n",
       "      <td>-0.036632</td>\n",
       "      <td>-0.146021</td>\n",
       "      <td>-0.110816</td>\n",
       "      <td>-0.066451</td>\n",
       "      <td>-0.045272</td>\n",
       "    </tr>\n",
       "  </tbody>\n",
       "</table>\n",
       "<p>42535 rows × 97 columns</p>\n",
       "</div>"
      ],
      "text/plain": [
       "       loan_amnt  funded_amnt      term  int_rate  installment  sub_grade  \\\n",
       "0      -0.821731    -0.814569 -0.590645 -0.408592    -0.764644  -1.532735   \n",
       "1      -1.159074    -1.164374  1.693064  0.837399    -1.257836  -1.402702   \n",
       "2      -1.172567    -1.178366 -0.590645  1.023488    -1.140569  -1.272670   \n",
       "3      -0.147044    -0.114958 -0.590645  0.357342     0.079871  -1.142637   \n",
       "4      -1.091605    -1.094413  1.693064  0.141586    -1.219736  -1.012604   \n",
       "...          ...          ...       ...       ...          ...        ...   \n",
       "42530  -1.024136    -1.024452 -0.590645 -0.508379    -1.001476  -1.142637   \n",
       "42531  -1.361480    -1.374258 -0.590645 -0.680984    -1.390515   0.157690   \n",
       "42532  -1.155700    -1.160876 -0.590645 -0.764590    -1.157991   0.027657   \n",
       "42533  -0.619325    -0.604686 -0.590645 -1.020800    -0.563758   0.677821   \n",
       "42534  -0.821731    -0.814569 -0.590645 -1.190708    -0.797000   0.547788   \n",
       "\n",
       "       emp_length  annual_inc   issue_d       dti  ...  addr_state_SD  \\\n",
       "0        1.395279   -0.704226  0.795288  2.122578  ...       -0.03972   \n",
       "1       -1.207217   -0.610611  0.795288 -1.839520  ...       -0.03972   \n",
       "2        1.395279   -0.887523  0.795288 -0.691775  ...       -0.03972   \n",
       "3        1.395279   -0.311045  0.795288  0.985240  ...       -0.03972   \n",
       "4       -1.207217    0.169509  0.795288  0.678977  ...       -0.03972   \n",
       "...           ...         ...       ...       ...  ...            ...   \n",
       "42530   -1.207217    1.729751 -3.343908 -0.501476  ...       -0.03972   \n",
       "42531   -1.207217   -0.891455 -3.343908 -0.501476  ...       -0.03972   \n",
       "42532   -1.207217    0.637582 -3.343908 -0.501476  ...       -0.03972   \n",
       "42533   -1.207217   -0.142539 -3.343908 -1.393505  ...       -0.03972   \n",
       "42534    1.395279    0.013485 -3.343908 -0.678395  ...       -0.03972   \n",
       "\n",
       "       addr_state_TN  addr_state_TX  addr_state_UT  addr_state_VA  \\\n",
       "0          -0.027439      -0.271245       -0.08111      -0.190331   \n",
       "1          -0.027439      -0.271245       -0.08111      -0.190331   \n",
       "2          -0.027439      -0.271245       -0.08111      -0.190331   \n",
       "3          -0.027439      -0.271245       -0.08111      -0.190331   \n",
       "4          -0.027439      -0.271245       -0.08111      -0.190331   \n",
       "...              ...            ...            ...            ...   \n",
       "42530      -0.027439      -0.271245       -0.08111      -0.190331   \n",
       "42531      -0.027439      -0.271245       -0.08111      -0.190331   \n",
       "42532      -0.027439      -0.271245       -0.08111      -0.190331   \n",
       "42533      -0.027439      -0.271245       -0.08111      -0.190331   \n",
       "42534      -0.027439      -0.271245       -0.08111      -0.190331   \n",
       "\n",
       "       addr_state_VT  addr_state_WA  addr_state_WI  addr_state_WV  \\\n",
       "0          -0.036632      -0.146021      -0.110816      -0.066451   \n",
       "1          -0.036632      -0.146021      -0.110816      -0.066451   \n",
       "2          -0.036632      -0.146021      -0.110816      -0.066451   \n",
       "3          -0.036632      -0.146021      -0.110816      -0.066451   \n",
       "4          -0.036632      -0.146021      -0.110816      -0.066451   \n",
       "...              ...            ...            ...            ...   \n",
       "42530      -0.036632      -0.146021      -0.110816      -0.066451   \n",
       "42531      -0.036632      -0.146021      -0.110816      -0.066451   \n",
       "42532      -0.036632      -0.146021      -0.110816      -0.066451   \n",
       "42533      -0.036632      -0.146021      -0.110816      -0.066451   \n",
       "42534      -0.036632      -0.146021      -0.110816      -0.066451   \n",
       "\n",
       "       addr_state_WY  \n",
       "0          -0.045272  \n",
       "1          -0.045272  \n",
       "2          -0.045272  \n",
       "3          -0.045272  \n",
       "4          -0.045272  \n",
       "...              ...  \n",
       "42530      -0.045272  \n",
       "42531      -0.045272  \n",
       "42532      -0.045272  \n",
       "42533      -0.045272  \n",
       "42534      -0.045272  \n",
       "\n",
       "[42535 rows x 97 columns]"
      ]
     },
     "execution_count": 9,
     "metadata": {},
     "output_type": "execute_result"
    }
   ],
   "source": [
    "X_scaled_df = pd.DataFrame(X_scaled, columns=X.columns)\n",
    "X_scaled_df"
   ]
  },
  {
   "cell_type": "markdown",
   "metadata": {},
   "source": [
    "#### Sprawdzamy korelację "
   ]
  },
  {
   "cell_type": "code",
   "execution_count": 10,
   "metadata": {},
   "outputs": [
    {
     "data": {
      "text/html": [
       "<div>\n",
       "<style scoped>\n",
       "    .dataframe tbody tr th:only-of-type {\n",
       "        vertical-align: middle;\n",
       "    }\n",
       "\n",
       "    .dataframe tbody tr th {\n",
       "        vertical-align: top;\n",
       "    }\n",
       "\n",
       "    .dataframe thead th {\n",
       "        text-align: right;\n",
       "    }\n",
       "</style>\n",
       "<table border=\"1\" class=\"dataframe\">\n",
       "  <thead>\n",
       "    <tr style=\"text-align: right;\">\n",
       "      <th></th>\n",
       "      <th>loan_amnt</th>\n",
       "      <th>funded_amnt</th>\n",
       "      <th>term</th>\n",
       "      <th>int_rate</th>\n",
       "      <th>installment</th>\n",
       "      <th>sub_grade</th>\n",
       "      <th>emp_length</th>\n",
       "      <th>annual_inc</th>\n",
       "      <th>issue_d</th>\n",
       "      <th>dti</th>\n",
       "      <th>...</th>\n",
       "      <th>addr_state_SD</th>\n",
       "      <th>addr_state_TN</th>\n",
       "      <th>addr_state_TX</th>\n",
       "      <th>addr_state_UT</th>\n",
       "      <th>addr_state_VA</th>\n",
       "      <th>addr_state_VT</th>\n",
       "      <th>addr_state_WA</th>\n",
       "      <th>addr_state_WI</th>\n",
       "      <th>addr_state_WV</th>\n",
       "      <th>addr_state_WY</th>\n",
       "    </tr>\n",
       "  </thead>\n",
       "  <tbody>\n",
       "    <tr>\n",
       "      <th>loan_amnt</th>\n",
       "      <td>1.000000</td>\n",
       "      <td>0.981746</td>\n",
       "      <td>0.355647</td>\n",
       "      <td>0.292346</td>\n",
       "      <td>0.930869</td>\n",
       "      <td>0.119626</td>\n",
       "      <td>0.138589</td>\n",
       "      <td>0.276125</td>\n",
       "      <td>0.142493</td>\n",
       "      <td>0.065112</td>\n",
       "      <td>...</td>\n",
       "      <td>-0.007118</td>\n",
       "      <td>-0.011793</td>\n",
       "      <td>0.017900</td>\n",
       "      <td>0.000111</td>\n",
       "      <td>0.010004</td>\n",
       "      <td>-0.010225</td>\n",
       "      <td>-0.003873</td>\n",
       "      <td>0.000184</td>\n",
       "      <td>-0.003483</td>\n",
       "      <td>0.000242</td>\n",
       "    </tr>\n",
       "    <tr>\n",
       "      <th>funded_amnt</th>\n",
       "      <td>0.981746</td>\n",
       "      <td>1.000000</td>\n",
       "      <td>0.335137</td>\n",
       "      <td>0.295154</td>\n",
       "      <td>0.956522</td>\n",
       "      <td>0.115749</td>\n",
       "      <td>0.138117</td>\n",
       "      <td>0.272070</td>\n",
       "      <td>0.152112</td>\n",
       "      <td>0.064821</td>\n",
       "      <td>...</td>\n",
       "      <td>-0.006992</td>\n",
       "      <td>-0.015116</td>\n",
       "      <td>0.016872</td>\n",
       "      <td>0.000063</td>\n",
       "      <td>0.011842</td>\n",
       "      <td>-0.010569</td>\n",
       "      <td>-0.002099</td>\n",
       "      <td>0.000458</td>\n",
       "      <td>-0.002075</td>\n",
       "      <td>0.000828</td>\n",
       "    </tr>\n",
       "    <tr>\n",
       "      <th>term</th>\n",
       "      <td>0.355647</td>\n",
       "      <td>0.335137</td>\n",
       "      <td>1.000000</td>\n",
       "      <td>0.428649</td>\n",
       "      <td>0.097614</td>\n",
       "      <td>0.190461</td>\n",
       "      <td>0.111158</td>\n",
       "      <td>0.043496</td>\n",
       "      <td>0.281890</td>\n",
       "      <td>0.077059</td>\n",
       "      <td>...</td>\n",
       "      <td>0.003617</td>\n",
       "      <td>-0.016207</td>\n",
       "      <td>-0.011033</td>\n",
       "      <td>0.002065</td>\n",
       "      <td>0.002166</td>\n",
       "      <td>-0.004024</td>\n",
       "      <td>-0.007010</td>\n",
       "      <td>0.011548</td>\n",
       "      <td>0.005385</td>\n",
       "      <td>-0.006537</td>\n",
       "    </tr>\n",
       "    <tr>\n",
       "      <th>int_rate</th>\n",
       "      <td>0.292346</td>\n",
       "      <td>0.295154</td>\n",
       "      <td>0.428649</td>\n",
       "      <td>1.000000</td>\n",
       "      <td>0.271433</td>\n",
       "      <td>0.313232</td>\n",
       "      <td>-0.012695</td>\n",
       "      <td>0.054377</td>\n",
       "      <td>0.006153</td>\n",
       "      <td>0.119607</td>\n",
       "      <td>...</td>\n",
       "      <td>-0.006738</td>\n",
       "      <td>-0.001938</td>\n",
       "      <td>0.002413</td>\n",
       "      <td>0.000201</td>\n",
       "      <td>0.005777</td>\n",
       "      <td>-0.008556</td>\n",
       "      <td>0.006209</td>\n",
       "      <td>0.000731</td>\n",
       "      <td>-0.005369</td>\n",
       "      <td>0.005543</td>\n",
       "    </tr>\n",
       "    <tr>\n",
       "      <th>installment</th>\n",
       "      <td>0.930869</td>\n",
       "      <td>0.956522</td>\n",
       "      <td>0.097614</td>\n",
       "      <td>0.271433</td>\n",
       "      <td>1.000000</td>\n",
       "      <td>0.102561</td>\n",
       "      <td>0.108253</td>\n",
       "      <td>0.278342</td>\n",
       "      <td>0.072136</td>\n",
       "      <td>0.054948</td>\n",
       "      <td>...</td>\n",
       "      <td>-0.009050</td>\n",
       "      <td>-0.012582</td>\n",
       "      <td>0.020323</td>\n",
       "      <td>-0.000956</td>\n",
       "      <td>0.010888</td>\n",
       "      <td>-0.009995</td>\n",
       "      <td>0.000584</td>\n",
       "      <td>-0.002843</td>\n",
       "      <td>-0.005191</td>\n",
       "      <td>0.003201</td>\n",
       "    </tr>\n",
       "    <tr>\n",
       "      <th>...</th>\n",
       "      <td>...</td>\n",
       "      <td>...</td>\n",
       "      <td>...</td>\n",
       "      <td>...</td>\n",
       "      <td>...</td>\n",
       "      <td>...</td>\n",
       "      <td>...</td>\n",
       "      <td>...</td>\n",
       "      <td>...</td>\n",
       "      <td>...</td>\n",
       "      <td>...</td>\n",
       "      <td>...</td>\n",
       "      <td>...</td>\n",
       "      <td>...</td>\n",
       "      <td>...</td>\n",
       "      <td>...</td>\n",
       "      <td>...</td>\n",
       "      <td>...</td>\n",
       "      <td>...</td>\n",
       "      <td>...</td>\n",
       "      <td>...</td>\n",
       "    </tr>\n",
       "    <tr>\n",
       "      <th>addr_state_VT</th>\n",
       "      <td>-0.010225</td>\n",
       "      <td>-0.010569</td>\n",
       "      <td>-0.004024</td>\n",
       "      <td>-0.008556</td>\n",
       "      <td>-0.009995</td>\n",
       "      <td>-0.000909</td>\n",
       "      <td>0.005953</td>\n",
       "      <td>-0.008894</td>\n",
       "      <td>0.002532</td>\n",
       "      <td>-0.000426</td>\n",
       "      <td>...</td>\n",
       "      <td>-0.001455</td>\n",
       "      <td>-0.001005</td>\n",
       "      <td>-0.009936</td>\n",
       "      <td>-0.002971</td>\n",
       "      <td>-0.006972</td>\n",
       "      <td>1.000000</td>\n",
       "      <td>-0.005349</td>\n",
       "      <td>-0.004059</td>\n",
       "      <td>-0.002434</td>\n",
       "      <td>-0.001658</td>\n",
       "    </tr>\n",
       "    <tr>\n",
       "      <th>addr_state_WA</th>\n",
       "      <td>-0.003873</td>\n",
       "      <td>-0.002099</td>\n",
       "      <td>-0.007010</td>\n",
       "      <td>0.006209</td>\n",
       "      <td>0.000584</td>\n",
       "      <td>-0.000473</td>\n",
       "      <td>0.000559</td>\n",
       "      <td>-0.005645</td>\n",
       "      <td>0.003483</td>\n",
       "      <td>-0.002305</td>\n",
       "      <td>...</td>\n",
       "      <td>-0.005800</td>\n",
       "      <td>-0.004007</td>\n",
       "      <td>-0.039607</td>\n",
       "      <td>-0.011844</td>\n",
       "      <td>-0.027792</td>\n",
       "      <td>-0.005349</td>\n",
       "      <td>1.000000</td>\n",
       "      <td>-0.016181</td>\n",
       "      <td>-0.009703</td>\n",
       "      <td>-0.006611</td>\n",
       "    </tr>\n",
       "    <tr>\n",
       "      <th>addr_state_WI</th>\n",
       "      <td>0.000184</td>\n",
       "      <td>0.000458</td>\n",
       "      <td>0.011548</td>\n",
       "      <td>0.000731</td>\n",
       "      <td>-0.002843</td>\n",
       "      <td>0.000552</td>\n",
       "      <td>0.009861</td>\n",
       "      <td>-0.010436</td>\n",
       "      <td>-0.006541</td>\n",
       "      <td>0.003232</td>\n",
       "      <td>...</td>\n",
       "      <td>-0.004402</td>\n",
       "      <td>-0.003041</td>\n",
       "      <td>-0.030058</td>\n",
       "      <td>-0.008988</td>\n",
       "      <td>-0.021092</td>\n",
       "      <td>-0.004059</td>\n",
       "      <td>-0.016181</td>\n",
       "      <td>1.000000</td>\n",
       "      <td>-0.007364</td>\n",
       "      <td>-0.005017</td>\n",
       "    </tr>\n",
       "    <tr>\n",
       "      <th>addr_state_WV</th>\n",
       "      <td>-0.003483</td>\n",
       "      <td>-0.002075</td>\n",
       "      <td>0.005385</td>\n",
       "      <td>-0.005369</td>\n",
       "      <td>-0.005191</td>\n",
       "      <td>-0.009206</td>\n",
       "      <td>0.011335</td>\n",
       "      <td>-0.015449</td>\n",
       "      <td>0.006883</td>\n",
       "      <td>0.018204</td>\n",
       "      <td>...</td>\n",
       "      <td>-0.002639</td>\n",
       "      <td>-0.001823</td>\n",
       "      <td>-0.018025</td>\n",
       "      <td>-0.005390</td>\n",
       "      <td>-0.012648</td>\n",
       "      <td>-0.002434</td>\n",
       "      <td>-0.009703</td>\n",
       "      <td>-0.007364</td>\n",
       "      <td>1.000000</td>\n",
       "      <td>-0.003008</td>\n",
       "    </tr>\n",
       "    <tr>\n",
       "      <th>addr_state_WY</th>\n",
       "      <td>0.000242</td>\n",
       "      <td>0.000828</td>\n",
       "      <td>-0.006537</td>\n",
       "      <td>0.005543</td>\n",
       "      <td>0.003201</td>\n",
       "      <td>-0.004905</td>\n",
       "      <td>0.008846</td>\n",
       "      <td>-0.006274</td>\n",
       "      <td>-0.000074</td>\n",
       "      <td>0.006579</td>\n",
       "      <td>...</td>\n",
       "      <td>-0.001798</td>\n",
       "      <td>-0.001242</td>\n",
       "      <td>-0.012280</td>\n",
       "      <td>-0.003672</td>\n",
       "      <td>-0.008617</td>\n",
       "      <td>-0.001658</td>\n",
       "      <td>-0.006611</td>\n",
       "      <td>-0.005017</td>\n",
       "      <td>-0.003008</td>\n",
       "      <td>1.000000</td>\n",
       "    </tr>\n",
       "  </tbody>\n",
       "</table>\n",
       "<p>97 rows × 97 columns</p>\n",
       "</div>"
      ],
      "text/plain": [
       "               loan_amnt  funded_amnt      term  int_rate  installment  \\\n",
       "loan_amnt       1.000000     0.981746  0.355647  0.292346     0.930869   \n",
       "funded_amnt     0.981746     1.000000  0.335137  0.295154     0.956522   \n",
       "term            0.355647     0.335137  1.000000  0.428649     0.097614   \n",
       "int_rate        0.292346     0.295154  0.428649  1.000000     0.271433   \n",
       "installment     0.930869     0.956522  0.097614  0.271433     1.000000   \n",
       "...                  ...          ...       ...       ...          ...   \n",
       "addr_state_VT  -0.010225    -0.010569 -0.004024 -0.008556    -0.009995   \n",
       "addr_state_WA  -0.003873    -0.002099 -0.007010  0.006209     0.000584   \n",
       "addr_state_WI   0.000184     0.000458  0.011548  0.000731    -0.002843   \n",
       "addr_state_WV  -0.003483    -0.002075  0.005385 -0.005369    -0.005191   \n",
       "addr_state_WY   0.000242     0.000828 -0.006537  0.005543     0.003201   \n",
       "\n",
       "               sub_grade  emp_length  annual_inc   issue_d       dti  ...  \\\n",
       "loan_amnt       0.119626    0.138589    0.276125  0.142493  0.065112  ...   \n",
       "funded_amnt     0.115749    0.138117    0.272070  0.152112  0.064821  ...   \n",
       "term            0.190461    0.111158    0.043496  0.281890  0.077059  ...   \n",
       "int_rate        0.313232   -0.012695    0.054377  0.006153  0.119607  ...   \n",
       "installment     0.102561    0.108253    0.278342  0.072136  0.054948  ...   \n",
       "...                  ...         ...         ...       ...       ...  ...   \n",
       "addr_state_VT  -0.000909    0.005953   -0.008894  0.002532 -0.000426  ...   \n",
       "addr_state_WA  -0.000473    0.000559   -0.005645  0.003483 -0.002305  ...   \n",
       "addr_state_WI   0.000552    0.009861   -0.010436 -0.006541  0.003232  ...   \n",
       "addr_state_WV  -0.009206    0.011335   -0.015449  0.006883  0.018204  ...   \n",
       "addr_state_WY  -0.004905    0.008846   -0.006274 -0.000074  0.006579  ...   \n",
       "\n",
       "               addr_state_SD  addr_state_TN  addr_state_TX  addr_state_UT  \\\n",
       "loan_amnt          -0.007118      -0.011793       0.017900       0.000111   \n",
       "funded_amnt        -0.006992      -0.015116       0.016872       0.000063   \n",
       "term                0.003617      -0.016207      -0.011033       0.002065   \n",
       "int_rate           -0.006738      -0.001938       0.002413       0.000201   \n",
       "installment        -0.009050      -0.012582       0.020323      -0.000956   \n",
       "...                      ...            ...            ...            ...   \n",
       "addr_state_VT      -0.001455      -0.001005      -0.009936      -0.002971   \n",
       "addr_state_WA      -0.005800      -0.004007      -0.039607      -0.011844   \n",
       "addr_state_WI      -0.004402      -0.003041      -0.030058      -0.008988   \n",
       "addr_state_WV      -0.002639      -0.001823      -0.018025      -0.005390   \n",
       "addr_state_WY      -0.001798      -0.001242      -0.012280      -0.003672   \n",
       "\n",
       "               addr_state_VA  addr_state_VT  addr_state_WA  addr_state_WI  \\\n",
       "loan_amnt           0.010004      -0.010225      -0.003873       0.000184   \n",
       "funded_amnt         0.011842      -0.010569      -0.002099       0.000458   \n",
       "term                0.002166      -0.004024      -0.007010       0.011548   \n",
       "int_rate            0.005777      -0.008556       0.006209       0.000731   \n",
       "installment         0.010888      -0.009995       0.000584      -0.002843   \n",
       "...                      ...            ...            ...            ...   \n",
       "addr_state_VT      -0.006972       1.000000      -0.005349      -0.004059   \n",
       "addr_state_WA      -0.027792      -0.005349       1.000000      -0.016181   \n",
       "addr_state_WI      -0.021092      -0.004059      -0.016181       1.000000   \n",
       "addr_state_WV      -0.012648      -0.002434      -0.009703      -0.007364   \n",
       "addr_state_WY      -0.008617      -0.001658      -0.006611      -0.005017   \n",
       "\n",
       "               addr_state_WV  addr_state_WY  \n",
       "loan_amnt          -0.003483       0.000242  \n",
       "funded_amnt        -0.002075       0.000828  \n",
       "term                0.005385      -0.006537  \n",
       "int_rate           -0.005369       0.005543  \n",
       "installment        -0.005191       0.003201  \n",
       "...                      ...            ...  \n",
       "addr_state_VT      -0.002434      -0.001658  \n",
       "addr_state_WA      -0.009703      -0.006611  \n",
       "addr_state_WI      -0.007364      -0.005017  \n",
       "addr_state_WV       1.000000      -0.003008  \n",
       "addr_state_WY      -0.003008       1.000000  \n",
       "\n",
       "[97 rows x 97 columns]"
      ]
     },
     "execution_count": 10,
     "metadata": {},
     "output_type": "execute_result"
    },
    {
     "data": {
      "text/plain": [
       "<Figure size 1440x720 with 0 Axes>"
      ]
     },
     "metadata": {},
     "output_type": "display_data"
    }
   ],
   "source": [
    "plt.figure(figsize = (20,10))       \n",
    "X_scaled_df.corr()"
   ]
  },
  {
   "cell_type": "markdown",
   "metadata": {},
   "source": [
    "### PCA redukcja wymiarów"
   ]
  },
  {
   "cell_type": "code",
   "execution_count": 11,
   "metadata": {},
   "outputs": [
    {
     "data": {
      "text/plain": [
       "PCA(random_state=42)"
      ]
     },
     "execution_count": 11,
     "metadata": {},
     "output_type": "execute_result"
    }
   ],
   "source": [
    "pca = PCA(random_state=42)\n",
    "pca.fit(X_scaled)"
   ]
  },
  {
   "cell_type": "markdown",
   "metadata": {},
   "source": [
    "#### Sprawdzam liczbę komponentów"
   ]
  },
  {
   "cell_type": "code",
   "execution_count": 12,
   "metadata": {
    "scrolled": true
   },
   "outputs": [
    {
     "data": {
      "text/plain": [
       "array([ 3.98663613e-01,  3.97415860e-01,  1.75253811e-01,  1.49808078e-01,\n",
       "        3.73623051e-01,  7.26308430e-02,  1.17359348e-01,  1.68026467e-01,\n",
       "        9.01326971e-02,  7.89990740e-02, -3.45799486e-03, -1.47489234e-01,\n",
       "        1.22166090e-03,  1.76536828e-02,  1.60700550e-01, -1.27456455e-02,\n",
       "        1.76637691e-01,  6.06719717e-02,  2.05562709e-01, -5.02451223e-03,\n",
       "        2.92654586e-02,  3.51002763e-02, -1.29941452e-02,  3.57000230e-01,\n",
       "       -3.56261233e-02,  1.63683343e-01, -7.86086491e-03, -7.53057314e-03,\n",
       "       -2.19799777e-02, -1.50166856e-01, -1.87402351e-01, -3.67182189e-02,\n",
       "        2.33837977e-01, -5.60760418e-02,  1.36321709e-02,  9.87598382e-02,\n",
       "       -3.97916297e-02,  2.40204415e-02,  3.01376786e-03, -5.63334818e-02,\n",
       "       -2.37687289e-02, -4.33795388e-02, -7.96720393e-02, -3.64677788e-03,\n",
       "        3.17435180e-02, -3.37189468e-02, -2.37466492e-02,  7.47535356e-03,\n",
       "        5.00539201e-03,  7.64054869e-04,  1.22576842e-03, -6.36342295e-03,\n",
       "       -4.73190966e-04,  4.18245767e-03,  3.21364884e-03,  1.02145253e-04,\n",
       "       -1.06614185e-02,  7.63250010e-03, -3.36724690e-03, -4.87892843e-03,\n",
       "       -5.72070206e-03,  6.66503855e-03, -9.57389476e-03, -1.23677513e-03,\n",
       "        3.37825240e-03, -2.13857056e-03, -1.67452747e-03,  6.32479087e-03,\n",
       "       -7.63750339e-03,  5.25425681e-03, -5.07180038e-03, -1.06520751e-03,\n",
       "       -6.94373179e-03, -6.78989188e-04,  4.50604605e-03, -4.10559373e-03,\n",
       "        3.69702505e-03,  4.00292628e-03, -9.11197612e-04, -9.67103238e-05,\n",
       "       -1.24336204e-02,  5.68848655e-04,  3.10858746e-03, -5.00049706e-03,\n",
       "       -6.46749268e-03, -4.96198826e-03, -3.33212517e-04, -1.86794312e-03,\n",
       "       -1.03205283e-02,  1.38524425e-02,  2.89482895e-03,  7.81117359e-03,\n",
       "       -6.46775018e-03, -1.01981039e-03,  1.99175802e-03,  4.08706332e-04,\n",
       "        8.44971693e-04])"
      ]
     },
     "execution_count": 12,
     "metadata": {},
     "output_type": "execute_result"
    }
   ],
   "source": [
    "pca.components_[0]"
   ]
  },
  {
   "cell_type": "code",
   "execution_count": 13,
   "metadata": {
    "scrolled": true
   },
   "outputs": [
    {
     "data": {
      "text/plain": [
       "array([5.36600393e-02, 3.33538833e-02, 2.46932832e-02, 1.99650149e-02,\n",
       "       1.89639579e-02, 1.76088981e-02, 1.55906721e-02, 1.46576546e-02,\n",
       "       1.42656015e-02, 1.32954042e-02, 1.29603083e-02, 1.25189207e-02,\n",
       "       1.21724170e-02, 1.17997133e-02, 1.15013606e-02, 1.13861075e-02,\n",
       "       1.12913340e-02, 1.11791430e-02, 1.11144655e-02, 1.10909198e-02,\n",
       "       1.09967637e-02, 1.09566878e-02, 1.08591267e-02, 1.08375646e-02,\n",
       "       1.07571345e-02, 1.07411810e-02, 1.06999495e-02, 1.06931807e-02,\n",
       "       1.06807625e-02, 1.06634483e-02, 1.06375786e-02, 1.06205350e-02,\n",
       "       1.05754055e-02, 1.05522768e-02, 1.05331589e-02, 1.05221234e-02,\n",
       "       1.05001026e-02, 1.04931010e-02, 1.04708469e-02, 1.04663513e-02,\n",
       "       1.04490882e-02, 1.04345887e-02, 1.04224166e-02, 1.04122505e-02,\n",
       "       1.04053309e-02, 1.04007455e-02, 1.03892348e-02, 1.03844509e-02,\n",
       "       1.03712557e-02, 1.03644878e-02, 1.03592249e-02, 1.03544839e-02,\n",
       "       1.03482132e-02, 1.03388644e-02, 1.03295674e-02, 1.03261227e-02,\n",
       "       1.03166074e-02, 1.03109621e-02, 1.03041759e-02, 1.02739394e-02,\n",
       "       1.02638803e-02, 1.02589126e-02, 1.02342300e-02, 1.02031817e-02,\n",
       "       1.01654416e-02, 1.01006843e-02, 1.00692783e-02, 1.00564559e-02,\n",
       "       1.00376447e-02, 1.00026466e-02, 9.92638859e-03, 9.79511419e-03,\n",
       "       9.73167852e-03, 9.62580878e-03, 9.30353684e-03, 8.75380036e-03,\n",
       "       8.46124635e-03, 8.12309707e-03, 7.71579792e-03, 7.37559815e-03,\n",
       "       7.34657157e-03, 6.74812327e-03, 6.09740546e-03, 5.44223969e-03,\n",
       "       4.91044264e-03, 4.05097897e-03, 3.37795579e-03, 2.47588194e-03,\n",
       "       2.39867183e-03, 1.77979691e-03, 1.17939184e-03, 2.82698123e-04,\n",
       "       8.30302496e-05, 1.09857257e-32, 1.62666911e-33, 9.77512931e-34,\n",
       "       4.24568656e-34])"
      ]
     },
     "execution_count": 13,
     "metadata": {},
     "output_type": "execute_result"
    }
   ],
   "source": [
    "pca.explained_variance_ratio_"
   ]
  },
  {
   "cell_type": "markdown",
   "metadata": {},
   "source": [
    "#### Skumulowana suma wariancji"
   ]
  },
  {
   "cell_type": "code",
   "execution_count": 14,
   "metadata": {},
   "outputs": [
    {
     "data": {
      "text/plain": [
       "array([0.05366004, 0.08701392, 0.11170721, 0.13167222, 0.15063618,\n",
       "       0.16824508, 0.18383575, 0.1984934 , 0.21275901, 0.22605441,\n",
       "       0.23901472, 0.25153364, 0.26370606, 0.27550577, 0.28700713,\n",
       "       0.29839324, 0.30968457, 0.32086371, 0.33197818, 0.3430691 ,\n",
       "       0.35406586, 0.36502255, 0.37588168, 0.38671924, 0.39747638,\n",
       "       0.40821756, 0.41891751, 0.42961069, 0.44029145, 0.4509549 ,\n",
       "       0.46159248, 0.47221301, 0.48278842, 0.49334069, 0.50387385,\n",
       "       0.51439598, 0.52489608, 0.53538918, 0.54586003, 0.55632638,\n",
       "       0.56677547, 0.57721006, 0.58763247, 0.59804472, 0.60845005,\n",
       "       0.6188508 , 0.62924003, 0.63962448, 0.64999574, 0.66036023,\n",
       "       0.67071945, 0.68107394, 0.69142215, 0.70176101, 0.71209058,\n",
       "       0.7224167 , 0.73273331, 0.74304427, 0.75334845, 0.76362239,\n",
       "       0.77388627, 0.78414518, 0.79437941, 0.80458259, 0.81474804,\n",
       "       0.82484872, 0.834918  , 0.84497445, 0.8550121 , 0.86501474,\n",
       "       0.87494113, 0.88473625, 0.89446793, 0.90409374, 0.91339727,\n",
       "       0.92215107, 0.93061232, 0.93873542, 0.94645121, 0.95382681,\n",
       "       0.96117338, 0.96792151, 0.97401891, 0.97946115, 0.98437159,\n",
       "       0.98842257, 0.99180053, 0.99427641, 0.99667508, 0.99845488,\n",
       "       0.99963427, 0.99991697, 1.        , 1.        , 1.        ,\n",
       "       1.        , 1.        ])"
      ]
     },
     "execution_count": 14,
     "metadata": {},
     "output_type": "execute_result"
    }
   ],
   "source": [
    "var_cumu = np.cumsum(pca.explained_variance_ratio_)\n",
    "var_cumu"
   ]
  },
  {
   "cell_type": "code",
   "execution_count": 15,
   "metadata": {},
   "outputs": [
    {
     "data": {
      "image/png": "[encoded data removed]",
      "text/plain": [
       "<Figure size 800x600 with 1 Axes>"
      ]
     },
     "metadata": {
      "needs_background": "light"
     },
     "output_type": "display_data"
    }
   ],
   "source": [
    "fig = plt.figure(figsize=[8,6],dpi=100)\n",
    "plt.vlines(x=79, ymax=1, ymin=0, colors=\"r\", linestyles=\"--\")\n",
    "plt.hlines(y=0.95, xmax=100, xmin=0, colors=\"g\", linestyles=\"--\")\n",
    "plt.plot(var_cumu)\n",
    "plt.ylabel(\"Cumulative variance explained\")\n",
    "plt.show()"
   ]
  },
  {
   "cell_type": "markdown",
   "metadata": {},
   "source": [
    "#### Mamy 79 komponentów, \n",
    "przy których zachowujemy 95% pierwotnych danych. Budujemy nowe dane. 79 komponentów to ponad 81% wszystkich, co prawdopodobnie nie da wielkiej zmiany. Przyjęłam do obliczeń różne wartości komponentów:\n",
    "- n_components=2 => AUROC LG = 0.7975915\n",
    "- n_components=20 => AUROC LG = 0.737982\n",
    "- n_components=30 => AUROC LG = 0.743456\n",
    "- n_components=50 => AUROC LG = 0.730057\n",
    "- n_components=79 => AUROC LG = 0.758493\n",
    "\n",
    "Najwyższe wartości są dla skrajnych liczb komponentów n=2 i n=79. Sprawdzam dla różnych n, i ostatecznie wybieram na po analizie.  "
   ]
  },
  {
   "cell_type": "code",
   "execution_count": 16,
   "metadata": {},
   "outputs": [],
   "source": [
    "pca_final = PCA(n_components=60, random_state=67)\n",
    "X_pca_final = pca_final.fit_transform(X_scaled)"
   ]
  },
  {
   "cell_type": "code",
   "execution_count": 17,
   "metadata": {},
   "outputs": [
    {
     "name": "stdout",
     "output_type": "stream",
     "text": [
      "(42535, 97)\n",
      "(42535, 60)\n"
     ]
    }
   ],
   "source": [
    "print(X.shape)\n",
    "print(X_pca_final.shape)"
   ]
  },
  {
   "cell_type": "code",
   "execution_count": 18,
   "metadata": {},
   "outputs": [],
   "source": [
    "X = X_pca_final\n",
    "y = data_dummies['loan_status']"
   ]
  },
  {
   "cell_type": "code",
   "execution_count": 19,
   "metadata": {},
   "outputs": [],
   "source": [
    "X_train, X_test, y_train, y_test = train_test_split(X, y, test_size=0.3, random_state=0)"
   ]
  },
  {
   "cell_type": "code",
   "execution_count": 20,
   "metadata": {},
   "outputs": [
    {
     "data": {
      "text/plain": [
       "array([[-1.13915721, -0.78008089, -0.549711  , ..., -0.30889461,\n",
       "        -0.26340202, -2.37898625],\n",
       "       [-1.30916994,  0.02361284,  0.2034459 , ..., -0.1966055 ,\n",
       "        -0.40182079,  0.52121232],\n",
       "       [-0.12324974,  1.13157697,  0.62666237, ...,  0.55362987,\n",
       "         0.53596514,  0.30089312],\n",
       "       ...,\n",
       "       [ 0.3790809 ,  1.47120904, -0.55698086, ..., -0.16396143,\n",
       "         0.79168164,  0.4471615 ],\n",
       "       [ 0.87702519, -1.55075332, -1.01377858, ...,  0.31099657,\n",
       "        -0.42649259, -0.55116541],\n",
       "       [ 0.28118921, -0.2912634 ,  2.36675704, ..., -0.66702674,\n",
       "        -0.11695606,  0.7017783 ]])"
      ]
     },
     "execution_count": 20,
     "metadata": {},
     "output_type": "execute_result"
    }
   ],
   "source": [
    "sc = StandardScaler()\n",
    "X_train = sc.fit_transform(X_train)\n",
    "X_test = sc.transform(X_test)\n",
    "X_test "
   ]
  },
  {
   "cell_type": "code",
   "execution_count": 21,
   "metadata": {},
   "outputs": [
    {
     "data": {
      "text/plain": [
       "12060    0\n",
       "Name: loan_status, dtype: int64"
      ]
     },
     "execution_count": 21,
     "metadata": {},
     "output_type": "execute_result"
    }
   ],
   "source": [
    "y_test.sample()"
   ]
  },
  {
   "cell_type": "markdown",
   "metadata": {},
   "source": [
    "### Logistic Regression"
   ]
  },
  {
   "cell_type": "code",
   "execution_count": 22,
   "metadata": {},
   "outputs": [
    {
     "name": "stdout",
     "output_type": "stream",
     "text": [
      "              precision    recall  f1-score   support\n",
      "\n",
      "           0       0.65      0.09      0.16      1978\n",
      "           1       0.86      0.99      0.92     10783\n",
      "\n",
      "    accuracy                           0.85     12761\n",
      "   macro avg       0.75      0.54      0.54     12761\n",
      "weighted avg       0.82      0.85      0.80     12761\n",
      "\n",
      "[[  185  1793]\n",
      " [  101 10682]]\n",
      "Training accuracy: 0.8556794518707598\n",
      "Test accuracy: 0.8515790298565943\n"
     ]
    }
   ],
   "source": [
    "log = LogisticRegression()\n",
    "log.fit(X_train, y_train)\n",
    "\n",
    "log_pred = log.predict(X_test)\n",
    "    \n",
    "# Summary of the prediction\n",
    "print(classification_report(y_test, log_pred))\n",
    "print(confusion_matrix(y_test, log_pred))\n",
    "\n",
    "# Accuracy\n",
    "print('Training accuracy:', log.score(X_train, y_train))\n",
    "print('Test accuracy:', log.score(X_test, y_test))"
   ]
  },
  {
   "cell_type": "code",
   "execution_count": 23,
   "metadata": {},
   "outputs": [
    {
     "name": "stdout",
     "output_type": "stream",
     "text": [
      "AUROC = 0.7515628459716636\n"
     ]
    }
   ],
   "source": [
    "auroc_log = roc_auc_score(log_pred,y_test)\n",
    "print('AUROC =', auroc_log)"
   ]
  },
  {
   "cell_type": "markdown",
   "metadata": {},
   "source": [
    "### Logistic Regression z regularyzacją"
   ]
  },
  {
   "cell_type": "code",
   "execution_count": 24,
   "metadata": {},
   "outputs": [
    {
     "name": "stdout",
     "output_type": "stream",
     "text": [
      "              precision    recall  f1-score   support\n",
      "\n",
      "           0       0.70      0.06      0.10      1978\n",
      "           1       0.85      1.00      0.92     10783\n",
      "\n",
      "    accuracy                           0.85     12761\n",
      "   macro avg       0.78      0.53      0.51     12761\n",
      "weighted avg       0.83      0.85      0.79     12761\n",
      "\n",
      "[[  112  1866]\n",
      " [   48 10735]]\n",
      "Training accuracy: 0.8535970981393162\n",
      "Test accuracy: 0.8500117545646892\n"
     ]
    }
   ],
   "source": [
    "log1 = LogisticRegression(penalty='l1', C=.01, solver='liblinear')\n",
    "log1.fit(X_train, y_train)\n",
    "log1_pred = log1.predict(X_test)\n",
    "\n",
    "# Summary of the prediction\n",
    "print(classification_report(y_test, log1_pred))\n",
    "print(confusion_matrix(y_test, log1_pred))\n",
    "\n",
    "# Accuracy\n",
    "print('Training accuracy:', log1.score(X_train, y_train))\n",
    "print('Test accuracy:', log1.score(X_test, y_test))"
   ]
  },
  {
   "cell_type": "code",
   "execution_count": 25,
   "metadata": {},
   "outputs": [
    {
     "name": "stdout",
     "output_type": "stream",
     "text": [
      "AUROC = 0.7759582572811682\n"
     ]
    }
   ],
   "source": [
    "auroc_log1 = roc_auc_score(log1_pred,y_test)\n",
    "print('AUROC =', auroc_log1)"
   ]
  },
  {
   "cell_type": "markdown",
   "metadata": {},
   "source": [
    "#### Uwaga \n",
    "Wyniki ewaluacji LR z regularyzacją wyszły lepsze po ponownym skalowanie nowych danych. "
   ]
  },
  {
   "cell_type": "code",
   "execution_count": 26,
   "metadata": {},
   "outputs": [],
   "source": [
    "def evaluate(prediction,y_test): \n",
    "    result = classification_report(y_test,prediction,output_dict=True)\n",
    "    f1 = result['1']['f1-score']\n",
    "    accuracy = result['accuracy']\n",
    "    performance_data= {'f1-score':round(f1, 2),\n",
    "                      'accuracy':round(accuracy, 2)}\n",
    "    return performance_data"
   ]
  },
  {
   "cell_type": "markdown",
   "metadata": {},
   "source": [
    "### Random Forest Classifier"
   ]
  },
  {
   "cell_type": "code",
   "execution_count": 27,
   "metadata": {},
   "outputs": [],
   "source": [
    "rf = RandomForestClassifier(n_estimators=100, random_state=0)"
   ]
  },
  {
   "cell_type": "code",
   "execution_count": 28,
   "metadata": {},
   "outputs": [
    {
     "data": {
      "text/plain": [
       "RandomForestClassifier(random_state=0)"
      ]
     },
     "execution_count": 28,
     "metadata": {},
     "output_type": "execute_result"
    }
   ],
   "source": [
    "rf.fit(X_train, y_train)"
   ]
  },
  {
   "cell_type": "code",
   "execution_count": 29,
   "metadata": {},
   "outputs": [],
   "source": [
    "rf_prediction = rf.predict(X_test)"
   ]
  },
  {
   "cell_type": "code",
   "execution_count": 30,
   "metadata": {},
   "outputs": [
    {
     "name": "stdout",
     "output_type": "stream",
     "text": [
      "              precision    recall  f1-score   support\n",
      "\n",
      "           0       0.64      0.05      0.09      1978\n",
      "           1       0.85      0.99      0.92     10783\n",
      "\n",
      "    accuracy                           0.85     12761\n",
      "   macro avg       0.75      0.52      0.50     12761\n",
      "weighted avg       0.82      0.85      0.79     12761\n",
      "\n",
      "[[   96  1882]\n",
      " [   54 10729]]\n",
      "Training accuracy: 0.9999664136494928\n",
      "Test accuracy: 0.8482877517435937\n"
     ]
    }
   ],
   "source": [
    "rf_pr = evaluate(rf_prediction,y_test)\n",
    "rf_pr\n",
    "\n",
    "# Summary of the prediction\n",
    "print(classification_report(y_test, rf_prediction))\n",
    "print(confusion_matrix(y_test, rf_prediction))\n",
    "# Accuracy\n",
    "print('Training accuracy:', rf.score(X_train, y_train))\n",
    "print('Test accuracy:', rf.score(X_test, y_test))"
   ]
  },
  {
   "cell_type": "code",
   "execution_count": 31,
   "metadata": {},
   "outputs": [
    {
     "name": "stdout",
     "output_type": "stream",
     "text": [
      "0.7453826024898899\n"
     ]
    }
   ],
   "source": [
    "auroc_rf = roc_auc_score(rf_prediction,y_test)\n",
    "print(auroc_rf)"
   ]
  },
  {
   "cell_type": "markdown",
   "metadata": {},
   "source": [
    "### K Nearest Neighbors (KNN)"
   ]
  },
  {
   "cell_type": "code",
   "execution_count": 32,
   "metadata": {},
   "outputs": [],
   "source": [
    "knn = KNeighborsClassifier(n_neighbors=5)"
   ]
  },
  {
   "cell_type": "code",
   "execution_count": 33,
   "metadata": {},
   "outputs": [
    {
     "data": {
      "text/plain": [
       "{'algorithm': 'auto',\n",
       " 'leaf_size': 30,\n",
       " 'metric': 'minkowski',\n",
       " 'metric_params': None,\n",
       " 'n_jobs': None,\n",
       " 'n_neighbors': 5,\n",
       " 'p': 2,\n",
       " 'weights': 'uniform'}"
      ]
     },
     "execution_count": 33,
     "metadata": {},
     "output_type": "execute_result"
    }
   ],
   "source": [
    "knn.get_params()"
   ]
  },
  {
   "cell_type": "code",
   "execution_count": 34,
   "metadata": {},
   "outputs": [
    {
     "data": {
      "text/plain": [
       "KNeighborsClassifier()"
      ]
     },
     "execution_count": 34,
     "metadata": {},
     "output_type": "execute_result"
    }
   ],
   "source": [
    "knn.fit(X_train,y_train)"
   ]
  },
  {
   "cell_type": "code",
   "execution_count": 35,
   "metadata": {},
   "outputs": [],
   "source": [
    "knn_prediction = knn.predict(X_test)"
   ]
  },
  {
   "cell_type": "code",
   "execution_count": 36,
   "metadata": {},
   "outputs": [
    {
     "name": "stdout",
     "output_type": "stream",
     "text": [
      "              precision    recall  f1-score   support\n",
      "\n",
      "           0       0.31      0.07      0.11      1978\n",
      "           1       0.85      0.97      0.91     10783\n",
      "\n",
      "    accuracy                           0.83     12761\n",
      "   macro avg       0.58      0.52      0.51     12761\n",
      "weighted avg       0.77      0.83      0.78     12761\n",
      "\n",
      "[[  139  1839]\n",
      " [  305 10478]]\n",
      "Training accuracy: 0.8683750923624639\n",
      "Test accuracy: 0.8319880887077815\n"
     ]
    }
   ],
   "source": [
    "knn_pr = evaluate(knn_prediction,y_test)\n",
    "knn_pr\n",
    "# Summary of the prediction\n",
    "print(classification_report(y_test, knn_prediction))\n",
    "print(confusion_matrix(y_test, knn_prediction))\n",
    "# Accuracy\n",
    "print('Training accuracy:', knn.score(X_train, y_train))\n",
    "print('Test accuracy:', knn.score(X_test, y_test))"
   ]
  },
  {
   "cell_type": "code",
   "execution_count": 37,
   "metadata": {},
   "outputs": [
    {
     "name": "stdout",
     "output_type": "stream",
     "text": [
      "AUROC = 0.5818786128013212\n"
     ]
    }
   ],
   "source": [
    "auroc_knn = roc_auc_score(knn_prediction,y_test)\n",
    "print('AUROC =', auroc_knn)"
   ]
  },
  {
   "cell_type": "markdown",
   "metadata": {},
   "source": [
    "### Bagging Classifier"
   ]
  },
  {
   "cell_type": "code",
   "execution_count": 38,
   "metadata": {},
   "outputs": [
    {
     "name": "stdout",
     "output_type": "stream",
     "text": [
      "              precision    recall  f1-score   support\n",
      "\n",
      "           0       0.39      0.18      0.25      1978\n",
      "           1       0.86      0.95      0.90     10783\n",
      "\n",
      "    accuracy                           0.83     12761\n",
      "   macro avg       0.63      0.57      0.58     12761\n",
      "weighted avg       0.79      0.83      0.80     12761\n",
      "\n",
      "[[  364  1614]\n",
      " [  577 10206]]\n"
     ]
    }
   ],
   "source": [
    "xgbc = BaggingClassifier(tree.DecisionTreeClassifier(random_state=1))\n",
    "xgbc.fit(X_train,y_train)\n",
    "xgbc_prediction = xgbc.predict(X_test)\n",
    "\n",
    "xgbc = evaluate(xgbc_prediction,y_test)\n",
    "xgbc\n",
    "\n",
    "# Summary of the prediction\n",
    "print(classification_report(y_test, xgbc_prediction))\n",
    "print(confusion_matrix(y_test, xgbc_prediction))"
   ]
  },
  {
   "cell_type": "code",
   "execution_count": 39,
   "metadata": {},
   "outputs": [
    {
     "name": "stdout",
     "output_type": "stream",
     "text": [
      "AUROC = 0.6251371529369878\n"
     ]
    }
   ],
   "source": [
    "auroc_xgbc = roc_auc_score(xgbc_prediction,y_test)\n",
    "print('AUROC =', auroc_xgbc)"
   ]
  },
  {
   "cell_type": "markdown",
   "metadata": {},
   "source": [
    "### ADA Boost Classifier "
   ]
  },
  {
   "cell_type": "code",
   "execution_count": 40,
   "metadata": {},
   "outputs": [
    {
     "name": "stdout",
     "output_type": "stream",
     "text": [
      "              precision    recall  f1-score   support\n",
      "\n",
      "           0       0.54      0.12      0.19      1978\n",
      "           1       0.86      0.98      0.92     10783\n",
      "\n",
      "    accuracy                           0.85     12761\n",
      "   macro avg       0.70      0.55      0.55     12761\n",
      "weighted avg       0.81      0.85      0.80     12761\n",
      "\n",
      "              precision    recall  f1-score   support\n",
      "\n",
      "           0       0.54      0.12      0.19      1978\n",
      "           1       0.86      0.98      0.92     10783\n",
      "\n",
      "    accuracy                           0.85     12761\n",
      "   macro avg       0.70      0.55      0.55     12761\n",
      "weighted avg       0.81      0.85      0.80     12761\n",
      "\n",
      "[[  233  1745]\n",
      " [  202 10581]]\n"
     ]
    }
   ],
   "source": [
    "ada = AdaBoostClassifier(random_state=1)\n",
    "ada.fit(X_train, y_train)\n",
    "ada_prediction = ada.predict(X_test)\n",
    "print(classification_report(y_test, ada_prediction))\n",
    "ada = evaluate(ada_prediction,y_test)\n",
    "ada\n",
    "\n",
    "# Summary of the prediction\n",
    "print(classification_report(y_test, ada_prediction))\n",
    "print(confusion_matrix(y_test, ada_prediction))"
   ]
  },
  {
   "cell_type": "code",
   "execution_count": 41,
   "metadata": {},
   "outputs": [
    {
     "name": "stdout",
     "output_type": "stream",
     "text": [
      "AUROC = 0.6970307601351037\n"
     ]
    }
   ],
   "source": [
    "auroc_ada = roc_auc_score(ada_prediction,y_test)\n",
    "print('AUROC =', auroc_ada)"
   ]
  },
  {
   "cell_type": "markdown",
   "metadata": {},
   "source": [
    "### XGB Classifier"
   ]
  },
  {
   "cell_type": "code",
   "execution_count": 42,
   "metadata": {},
   "outputs": [
    {
     "name": "stdout",
     "output_type": "stream",
     "text": [
      "              precision    recall  f1-score   support\n",
      "\n",
      "           0       0.61      0.03      0.06      1978\n",
      "           1       0.85      1.00      0.92     10783\n",
      "\n",
      "    accuracy                           0.85     12761\n",
      "   macro avg       0.73      0.51      0.49     12761\n",
      "weighted avg       0.81      0.85      0.78     12761\n",
      "\n",
      "[[   61  1917]\n",
      " [   39 10744]]\n"
     ]
    }
   ],
   "source": [
    "import xgboost as xgb \n",
    "xgb_clas=xgb.XGBClassifier(random_state=1,learning_rate=0.01)\n",
    "xgb_clas.fit(X_train, y_train)\n",
    "xgb_clas_prediction = xgb_clas.predict(X_test)\n",
    "xgb_clas = evaluate(xgb_clas_prediction,y_test)\n",
    "xgb_clas\n",
    "\n",
    "# Summary of the prediction\n",
    "print(classification_report(y_test, xgb_clas_prediction))\n",
    "print(confusion_matrix(y_test, xgb_clas_prediction))"
   ]
  },
  {
   "cell_type": "code",
   "execution_count": 43,
   "metadata": {},
   "outputs": [
    {
     "name": "stdout",
     "output_type": "stream",
     "text": [
      "AUROC = 0.7292950793776163\n"
     ]
    }
   ],
   "source": [
    "auroc_xgb_clas = roc_auc_score(xgb_clas_prediction,y_test)\n",
    "print('AUROC =', auroc_xgb_clas)"
   ]
  },
  {
   "cell_type": "markdown",
   "metadata": {},
   "source": [
    "#### Nie liczy AUROC po PCA \n",
    "\n",
    "### Support Vector Machine (SVM)"
   ]
  },
  {
   "cell_type": "code",
   "execution_count": 44,
   "metadata": {},
   "outputs": [],
   "source": [
    "#supvm = SVC(C=1.0, kernel='linear', random_state = 12)"
   ]
  },
  {
   "cell_type": "code",
   "execution_count": 45,
   "metadata": {},
   "outputs": [],
   "source": [
    "#supvm.fit(X_train,y_train)"
   ]
  },
  {
   "cell_type": "code",
   "execution_count": 46,
   "metadata": {},
   "outputs": [],
   "source": [
    "#svm_prediction = supvm.predict(X_test)"
   ]
  },
  {
   "cell_type": "code",
   "execution_count": 47,
   "metadata": {},
   "outputs": [],
   "source": [
    "# svm_pr = evaluate(svm_prediction,y_test)\n",
    "# svm_pr\n",
    "# # Summary of the prediction\n",
    "# print(classification_report(y_test, svm_prediction))\n",
    "# print(confusion_matrix(y_test, svm_prediction))\n",
    "\n",
    "# # Accuracy\n",
    "# print('Training accuracy:', supvm.score(X_train, y_train))\n",
    "# print('Test accuracy:', supvm.score(X_test, y_test))"
   ]
  },
  {
   "cell_type": "markdown",
   "metadata": {},
   "source": [
    "#### Nie liczy AUROC po PCA \n",
    "### Decision Tree"
   ]
  },
  {
   "cell_type": "code",
   "execution_count": 48,
   "metadata": {},
   "outputs": [],
   "source": [
    "#dtree = DecisionTreeClassifier(max_depth = 2, random_state = 0)"
   ]
  },
  {
   "cell_type": "code",
   "execution_count": 49,
   "metadata": {},
   "outputs": [],
   "source": [
    "#dtree.fit(X_train,y_train)"
   ]
  },
  {
   "cell_type": "code",
   "execution_count": 50,
   "metadata": {},
   "outputs": [],
   "source": [
    "#dt_pred = dtree.predict(X_test)"
   ]
  },
  {
   "cell_type": "code",
   "execution_count": 51,
   "metadata": {},
   "outputs": [],
   "source": [
    "# dtree_pr = evaluate(dt_prediction,y_test)\n",
    "# dtree_pr\n",
    "\n",
    "# # Summary of the prediction\n",
    "# print(classification_report(y_test, dt_pred))\n",
    "# print(confusion_matrix(y_test, dt_pred))\n",
    "# # Accuracy\n",
    "# print('Training accuracy:', dtree.score(X_train, y_train))\n",
    "# print('Test accuracy:', dtree.score(X_test, y_test))\n",
    "# # metrics.f1_score(y_test, dt_pred, average='weighted', labels=np.unique(dt_pred))\n",
    "\n",
    "# # import warnings\n",
    "# # warnings.filterwarnings('always')  # \"error\", \"ignore\", \"always\", \"default\", \"module\" or \"once\""
   ]
  },
  {
   "cell_type": "code",
   "execution_count": 52,
   "metadata": {},
   "outputs": [],
   "source": [
    "# auroc_dtree = roc_auc_score(dt_prediction,y_test)\n",
    "# print('AUROC =', auroc_dtree)\n",
    "# metrics.f1_score(y_test, dt_prediction, average='weighted', labels=np.unique(dt_prediction))"
   ]
  },
  {
   "cell_type": "markdown",
   "metadata": {},
   "source": [
    "#### Nie liczy AUROC po PCA \n",
    "### Gradient Boosting Classifier"
   ]
  },
  {
   "cell_type": "code",
   "execution_count": 53,
   "metadata": {
    "scrolled": true
   },
   "outputs": [],
   "source": [
    "# gbc = GradientBoostingClassifier(learning_rate=0.01, random_state=0)\n",
    "# gbc.fit(X_train, y_train)\n",
    "# gbc_predpca = gbc.predict(X_test)\n",
    "# # gbc = evaluate(gbc_predpca,y_test)\n",
    "# gbc\n",
    "\n",
    "# # Summary of the prediction\n",
    "# print(classification_report(y_test, gbc_predpca))\n",
    "# print(confusion_matrix(y_test, gbc_predpca))"
   ]
  },
  {
   "cell_type": "code",
   "execution_count": 54,
   "metadata": {
    "scrolled": true
   },
   "outputs": [],
   "source": [
    "# auroc_gbc = roc_auc_score(gbc_predpca,y_test)\n",
    "# print('AUROC =', gbc_predpca)"
   ]
  },
  {
   "cell_type": "markdown",
   "metadata": {},
   "source": [
    "## 4. d) Finalny model \n",
    "### Analiza"
   ]
  },
  {
   "cell_type": "markdown",
   "metadata": {},
   "source": [
    "Po wykonaniu PCA i skalowaniu danych wyniki AUROC dla większości modeli były niższe niż przed wykonaniem PCA. Ponadto w przypadku kilka modeli, nie dało się ich wdrożyć po kompresji danych za pomocą PCA. \n",
    "\n",
    "Sprawdzałam działanie wszystkich powyższych modeli na różnych wartościach komponentów n=2, n=30, n=60 i n=79. Najbardziej wrażliwy na zmianę liczby komponentów okazał się algorytm 'Logistic Regression (z regularyzacją)', który miał dla odpowiedniej liczby komponentów następujace wyniki:\n",
    "- n_components=2 => AUROC LG = 0.922531 (wartość odstająca, przy pewnym random_forest)\n",
    "- n_components=30 => AUROC LG = 0.766530\n",
    "- n_components=60 => AUROC LG = 0.775958\n",
    "- n_components=79 => AUROC LG = 0.763670\n",
    "\n",
    "Z modeli bez kompresji PCA najlepszy okazał się Gradient Boosting Classifier, który miał\n",
    "- AUROC GBC = 0.830432"
   ]
  },
  {
   "cell_type": "markdown",
   "metadata": {},
   "source": [
    "### Finalny model\n",
    "### Gradient Boosting Classifier\n",
    "Ten model wybieram jako finalny, poniżej zrobię krosswalidację i ...!!!!!"
   ]
  },
  {
   "cell_type": "code",
   "execution_count": 55,
   "metadata": {},
   "outputs": [],
   "source": [
    "X1 = data_dummies.drop('loan_status',axis=1) \n",
    "#target\n",
    "y1 = data_dummies['loan_status']\n",
    "\n",
    "X1_train, X1_test, y1_train, y1_test = train_test_split(X1, y1, test_size=0.3, random_state=0)"
   ]
  },
  {
   "cell_type": "code",
   "execution_count": 56,
   "metadata": {},
   "outputs": [
    {
     "data": {
      "text/plain": [
       "array([[-0.95313026, -0.95140853, -0.59377133, ..., -0.10937932,\n",
       "        -0.06622215, -0.0456804 ],\n",
       "       [-1.22287358, -1.23096153, -0.59377133, ..., -0.10937932,\n",
       "        -0.06622215, -0.0456804 ],\n",
       "       [ 0.12584299, -0.31891988, -0.59377133, ..., -0.10937932,\n",
       "        -0.06622215, -0.0456804 ],\n",
       "       ...,\n",
       "       [ 0.28768898,  0.33453524, -0.59377133, ..., -0.10937932,\n",
       "        -0.06622215, -0.0456804 ],\n",
       "       [ 0.66532962,  0.72590943,  1.68415002, ..., -0.10937932,\n",
       "        -0.06622215, -0.0456804 ],\n",
       "       [ 0.12584299,  0.16680344, -0.59377133, ..., -0.10937932,\n",
       "        -0.06622215, -0.0456804 ]])"
      ]
     },
     "execution_count": 56,
     "metadata": {},
     "output_type": "execute_result"
    }
   ],
   "source": [
    "sc = StandardScaler()\n",
    "X1_train = sc.fit_transform(X1_train)\n",
    "X1_test = sc.transform(X1_test)\n",
    "X1_test"
   ]
  },
  {
   "cell_type": "code",
   "execution_count": 57,
   "metadata": {},
   "outputs": [
    {
     "name": "stdout",
     "output_type": "stream",
     "text": [
      "              precision    recall  f1-score   support\n",
      "\n",
      "           0       0.81      0.06      0.10      1978\n",
      "           1       0.85      1.00      0.92     10783\n",
      "\n",
      "    accuracy                           0.85     12761\n",
      "   macro avg       0.83      0.53      0.51     12761\n",
      "weighted avg       0.85      0.85      0.79     12761\n",
      "\n",
      "[[  110  1868]\n",
      " [   26 10757]]\n"
     ]
    }
   ],
   "source": [
    "gbc= GradientBoostingClassifier(learning_rate=0.01, random_state=1)\n",
    "gbc.fit(X1_train, y1_train)\n",
    "gbc_prediction = gbc.predict(X1_test)\n",
    "gbc = evaluate(gbc_prediction,y1_test)\n",
    "gbc\n",
    "\n",
    "# Summary of the prediction\n",
    "print(classification_report(y1_test, gbc_prediction))\n",
    "print(confusion_matrix(y1_test, gbc_prediction))"
   ]
  },
  {
   "cell_type": "code",
   "execution_count": 58,
   "metadata": {},
   "outputs": [
    {
     "name": "stdout",
     "output_type": "stream",
     "text": [
      "AUROC = 0.8304315666860803\n"
     ]
    }
   ],
   "source": [
    "auroc_gbc = roc_auc_score(gbc_prediction,y1_test)\n",
    "print('AUROC =', auroc_gbc)"
   ]
  },
  {
   "cell_type": "code",
   "execution_count": 59,
   "metadata": {},
   "outputs": [],
   "source": [
    "## żródło: http://scikit-learn.org/stable/auto_examples/model_selection/plot_learning_curve.html\n",
    "def plot_learning_curve(estimator, title, X, y, ylim=None, cv=None,\n",
    "                        n_jobs=1, train_sizes=np.linspace(.1, 1.0, 5)):\n",
    "  \n",
    "    plt.figure()\n",
    "    plt.title(title)\n",
    "    if ylim is not None:\n",
    "        plt.ylim(*ylim)\n",
    "    plt.xlabel(\"Training examples\")\n",
    "    plt.ylabel(\"Score\")\n",
    "    train_sizes, train_scores, test_scores = learning_curve(\n",
    "        estimator, X, y, cv=cv, n_jobs=n_jobs, train_sizes=train_sizes)\n",
    "    train_scores_mean = np.mean(train_scores, axis=1)\n",
    "    train_scores_std = np.std(train_scores, axis=1)\n",
    "    test_scores_mean = np.mean(test_scores, axis=1)\n",
    "    test_scores_std = np.std(test_scores, axis=1)\n",
    "    plt.grid()\n",
    "\n",
    "    plt.fill_between(train_sizes, train_scores_mean - train_scores_std,\n",
    "                     train_scores_mean + train_scores_std, alpha=0.1,\n",
    "                     color=\"r\")\n",
    "    plt.fill_between(train_sizes, test_scores_mean - test_scores_std,\n",
    "                     test_scores_mean + test_scores_std, alpha=0.1, color=\"g\")\n",
    "    plt.plot(train_sizes, train_scores_mean, 'o-', color=\"r\",\n",
    "             label=\"Training score\")\n",
    "    plt.plot(train_sizes, test_scores_mean, 'o-', color=\"g\",\n",
    "             label=\"Cross-validation score\")\n",
    "\n",
    "    plt.legend(loc=\"best\")\n",
    "    return plt"
   ]
  },
  {
   "cell_type": "code",
   "execution_count": 60,
   "metadata": {},
   "outputs": [],
   "source": [
    "# Shuffle for learning curves\n",
    "cv = ShuffleSplit(n_splits=100, test_size=0.2, random_state=0)"
   ]
  },
  {
   "cell_type": "code",
   "execution_count": 61,
   "metadata": {},
   "outputs": [
    {
     "data": {
      "text/plain": [
       "<Figure size 1440x1008 with 0 Axes>"
      ]
     },
     "metadata": {},
     "output_type": "display_data"
    },
    {
     "data": {
      "image/png": "[encoded data removed]",
      "text/plain": [
       "<Figure size 432x288 with 1 Axes>"
      ]
     },
     "metadata": {
      "needs_background": "light"
     },
     "output_type": "display_data"
    }
   ],
   "source": [
    "gbc = GradientBoostingClassifier(learning_rate=0.01, random_state=1)\n",
    "plt.figure(figsize=(20,14))\n",
    "plot_learning_curve(gbc, 'Gradient Boosting Classifier', X1, y1, (0.7, 1.01), cv=cv, n_jobs=4)\n",
    "plt.show()"
   ]
  },
  {
   "cell_type": "code",
   "execution_count": 62,
   "metadata": {},
   "outputs": [
    {
     "name": "stderr",
     "output_type": "stream",
     "text": [
      "/Library/Frameworks/Python.framework/Versions/3.8/lib/python3.8/site-packages/sklearn/model_selection/_split.py:293: FutureWarning: Setting a random_state has no effect since shuffle is False. This will raise an error in 0.24. You should leave random_state to its default (None), or set shuffle=True.\n",
      "  warnings.warn(\n"
     ]
    },
    {
     "name": "stdout",
     "output_type": "stream",
     "text": [
      "Average accuracy:  0.8557662777909454\n",
      "Standard Deviation:  0.0352216027446583\n"
     ]
    }
   ],
   "source": [
    "num_folds = 18\n",
    "seed = 77\n",
    "kfold = KFold(n_splits=num_folds, random_state=seed)\n",
    "results1 = cross_val_score(gbc,X1, y1, cv=kfold)\n",
    "accuracy=np.mean(abs(results1))\n",
    "print('Average accuracy: ',accuracy)\n",
    "print('Standard Deviation: ',results1.std())"
   ]
  },
  {
   "cell_type": "markdown",
   "metadata": {},
   "source": [
    "#### Zapisywanie modelu na dysku"
   ]
  },
  {
   "cell_type": "code",
   "execution_count": 63,
   "metadata": {},
   "outputs": [],
   "source": [
    "import pickle\n",
    "\n",
    "# save the model to disk\n",
    "gbc_final_model = 'finalized_model.sav'\n",
    "pickle.dump(gbc, open(gbc_final_model, 'wb'))"
   ]
  },
  {
   "cell_type": "markdown",
   "metadata": {},
   "source": [
    "### Łódź 4.10.2020"
   ]
  }
 ],
 "metadata": {
  "kernelspec": {
   "display_name": "Python 3",
   "language": "python",
   "name": "python3"
  },
  "language_info": {
   "codemirror_mode": {
    "name": "ipython",
    "version": 3
   },
   "file_extension": ".py",
   "mimetype": "text/x-python",
   "name": "python",
   "nbconvert_exporter": "python",
   "pygments_lexer": "ipython3",
   "version": "3.8.5"
  }
 },
 "nbformat": 4,
 "nbformat_minor": 4
}
