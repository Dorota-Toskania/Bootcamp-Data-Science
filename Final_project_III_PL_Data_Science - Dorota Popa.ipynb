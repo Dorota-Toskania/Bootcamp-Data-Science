{
 "cells": [
  {
   "cell_type": "markdown",
   "metadata": {},
   "source": [
    "# Projekt końcowy Data Science \n",
    "### Dorota Gawrońska-Popa \n",
    "## 4. Modelowanie "
   ]
  },
  {
   "cell_type": "code",
   "execution_count": 1,
   "metadata": {},
   "outputs": [],
   "source": [
    "import numpy as np \n",
    "import pandas as pd \n",
    "import seaborn as sns\n",
    "#import category_encoders as ce\n",
    "\n",
    "import matplotlib.pyplot as plt\n",
    "\n",
    "%matplotlib inline\n",
    "\n",
    "from sklearn.preprocessing import LabelEncoder\n",
    "from sklearn.preprocessing import OrdinalEncoder\n",
    "\n",
    "from sklearn.preprocessing import StandardScaler\n",
    "from sklearn.model_selection import train_test_split\n",
    "from sklearn.linear_model import LinearRegression, Ridge, Lasso\n",
    "from sklearn.linear_model import LogisticRegression\n",
    "from sklearn.neighbors import KNeighborsRegressor\n",
    "from sklearn.naive_bayes import GaussianNB\n",
    "from sklearn.tree import DecisionTreeClassifier\n",
    "from sklearn.tree import DecisionTreeRegressor\n",
    "from sklearn import tree\n",
    "\n",
    "from sklearn.ensemble import RandomForestClassifier\n",
    "from sklearn.ensemble import BaggingClassifier\n",
    "from sklearn.ensemble import AdaBoostClassifier\n",
    "from sklearn.ensemble import GradientBoostingClassifier\n",
    "from sklearn.ensemble import (RandomForestRegressor, GradientBoostingRegressor, AdaBoostRegressor, BaggingRegressor)\n",
    "from sklearn.svm import SVR\n",
    "from sklearn.svm import SVC\n",
    "from sklearn.neighbors import KNeighborsClassifier\n",
    "from sklearn.tree import DecisionTreeClassifier\n",
    "\n",
    "from sklearn import metrics\n",
    "from sklearn.ensemble import VotingRegressor\n",
    "\n",
    "from scipy import stats\n",
    "from scipy.stats import zscore\n",
    "from sklearn.metrics import mean_squared_error,mean_absolute_error,r2_score\n",
    "from sklearn.model_selection import KFold\n",
    "from sklearn.model_selection import cross_val_score\n",
    "from sklearn.model_selection import GridSearchCV\n",
    "from sklearn import preprocessing\n",
    "from sklearn.preprocessing import PolynomialFeatures\n",
    "from sklearn.cluster import KMeans\n",
    "from sklearn.utils import resample\n",
    "\n",
    "\n",
    "from sklearn.metrics import confusion_matrix\n",
    "from sklearn.metrics import classification_report\n",
    "from sklearn.metrics import accuracy_score\n",
    "from sklearn.metrics import roc_curve\n",
    "\n",
    "from sklearn.metrics import precision_recall_curve, auc, roc_auc_score, recall_score\n",
    "\n",
    "from sklearn.decomposition import PCA\n",
    "from sklearn.decomposition import IncrementalPCA"
   ]
  },
  {
   "cell_type": "code",
   "execution_count": 2,
   "metadata": {},
   "outputs": [
    {
     "data": {
      "text/html": [
       "<div>\n",
       "<style scoped>\n",
       "    .dataframe tbody tr th:only-of-type {\n",
       "        vertical-align: middle;\n",
       "    }\n",
       "\n",
       "    .dataframe tbody tr th {\n",
       "        vertical-align: top;\n",
       "    }\n",
       "\n",
       "    .dataframe thead th {\n",
       "        text-align: right;\n",
       "    }\n",
       "</style>\n",
       "<table border=\"1\" class=\"dataframe\">\n",
       "  <thead>\n",
       "    <tr style=\"text-align: right;\">\n",
       "      <th></th>\n",
       "      <th>loan_amnt</th>\n",
       "      <th>funded_amnt</th>\n",
       "      <th>term</th>\n",
       "      <th>int_rate</th>\n",
       "      <th>installment</th>\n",
       "      <th>sub_grade</th>\n",
       "      <th>emp_length</th>\n",
       "      <th>home_ownership</th>\n",
       "      <th>annual_inc</th>\n",
       "      <th>verification_status</th>\n",
       "      <th>...</th>\n",
       "      <th>pub_rec</th>\n",
       "      <th>revol_bal</th>\n",
       "      <th>revol_util</th>\n",
       "      <th>total_acc</th>\n",
       "      <th>pub_rec_bankruptcies</th>\n",
       "      <th>fico_mean</th>\n",
       "      <th>last_fico_mean</th>\n",
       "      <th>fico_rating</th>\n",
       "      <th>loan_amnt_rating</th>\n",
       "      <th>interest_rating</th>\n",
       "    </tr>\n",
       "  </thead>\n",
       "  <tbody>\n",
       "    <tr>\n",
       "      <th>0</th>\n",
       "      <td>5000.0</td>\n",
       "      <td>5000.0</td>\n",
       "      <td>1</td>\n",
       "      <td>10.65</td>\n",
       "      <td>162.87</td>\n",
       "      <td>1</td>\n",
       "      <td>10</td>\n",
       "      <td>RENT</td>\n",
       "      <td>24000.0</td>\n",
       "      <td>Verified</td>\n",
       "      <td>...</td>\n",
       "      <td>0.0</td>\n",
       "      <td>13648.0</td>\n",
       "      <td>83.7</td>\n",
       "      <td>9.0</td>\n",
       "      <td>0.0</td>\n",
       "      <td>737.0</td>\n",
       "      <td>737.0</td>\n",
       "      <td>1</td>\n",
       "      <td>1</td>\n",
       "      <td>1</td>\n",
       "    </tr>\n",
       "    <tr>\n",
       "      <th>1</th>\n",
       "      <td>2500.0</td>\n",
       "      <td>2500.0</td>\n",
       "      <td>2</td>\n",
       "      <td>15.27</td>\n",
       "      <td>59.83</td>\n",
       "      <td>2</td>\n",
       "      <td>1</td>\n",
       "      <td>RENT</td>\n",
       "      <td>30000.0</td>\n",
       "      <td>Source Verified</td>\n",
       "      <td>...</td>\n",
       "      <td>0.0</td>\n",
       "      <td>1687.0</td>\n",
       "      <td>9.4</td>\n",
       "      <td>4.0</td>\n",
       "      <td>0.0</td>\n",
       "      <td>742.0</td>\n",
       "      <td>249.5</td>\n",
       "      <td>2</td>\n",
       "      <td>2</td>\n",
       "      <td>2</td>\n",
       "    </tr>\n",
       "    <tr>\n",
       "      <th>2</th>\n",
       "      <td>2400.0</td>\n",
       "      <td>2400.0</td>\n",
       "      <td>1</td>\n",
       "      <td>15.96</td>\n",
       "      <td>84.33</td>\n",
       "      <td>3</td>\n",
       "      <td>10</td>\n",
       "      <td>RENT</td>\n",
       "      <td>12252.0</td>\n",
       "      <td>Not Verified</td>\n",
       "      <td>...</td>\n",
       "      <td>0.0</td>\n",
       "      <td>2956.0</td>\n",
       "      <td>98.5</td>\n",
       "      <td>10.0</td>\n",
       "      <td>0.0</td>\n",
       "      <td>737.0</td>\n",
       "      <td>737.0</td>\n",
       "      <td>1</td>\n",
       "      <td>2</td>\n",
       "      <td>2</td>\n",
       "    </tr>\n",
       "    <tr>\n",
       "      <th>3</th>\n",
       "      <td>10000.0</td>\n",
       "      <td>10000.0</td>\n",
       "      <td>1</td>\n",
       "      <td>13.49</td>\n",
       "      <td>339.31</td>\n",
       "      <td>4</td>\n",
       "      <td>10</td>\n",
       "      <td>RENT</td>\n",
       "      <td>49200.0</td>\n",
       "      <td>Source Verified</td>\n",
       "      <td>...</td>\n",
       "      <td>0.0</td>\n",
       "      <td>5598.0</td>\n",
       "      <td>21.0</td>\n",
       "      <td>37.0</td>\n",
       "      <td>0.0</td>\n",
       "      <td>692.0</td>\n",
       "      <td>602.0</td>\n",
       "      <td>1</td>\n",
       "      <td>3</td>\n",
       "      <td>1</td>\n",
       "    </tr>\n",
       "    <tr>\n",
       "      <th>4</th>\n",
       "      <td>3000.0</td>\n",
       "      <td>3000.0</td>\n",
       "      <td>2</td>\n",
       "      <td>12.69</td>\n",
       "      <td>67.79</td>\n",
       "      <td>5</td>\n",
       "      <td>1</td>\n",
       "      <td>RENT</td>\n",
       "      <td>80000.0</td>\n",
       "      <td>Source Verified</td>\n",
       "      <td>...</td>\n",
       "      <td>0.0</td>\n",
       "      <td>27783.0</td>\n",
       "      <td>53.9</td>\n",
       "      <td>38.0</td>\n",
       "      <td>0.0</td>\n",
       "      <td>697.0</td>\n",
       "      <td>682.0</td>\n",
       "      <td>1</td>\n",
       "      <td>2</td>\n",
       "      <td>1</td>\n",
       "    </tr>\n",
       "    <tr>\n",
       "      <th>...</th>\n",
       "      <td>...</td>\n",
       "      <td>...</td>\n",
       "      <td>...</td>\n",
       "      <td>...</td>\n",
       "      <td>...</td>\n",
       "      <td>...</td>\n",
       "      <td>...</td>\n",
       "      <td>...</td>\n",
       "      <td>...</td>\n",
       "      <td>...</td>\n",
       "      <td>...</td>\n",
       "      <td>...</td>\n",
       "      <td>...</td>\n",
       "      <td>...</td>\n",
       "      <td>...</td>\n",
       "      <td>...</td>\n",
       "      <td>...</td>\n",
       "      <td>...</td>\n",
       "      <td>...</td>\n",
       "      <td>...</td>\n",
       "      <td>...</td>\n",
       "    </tr>\n",
       "    <tr>\n",
       "      <th>42530</th>\n",
       "      <td>3500.0</td>\n",
       "      <td>3500.0</td>\n",
       "      <td>1</td>\n",
       "      <td>10.28</td>\n",
       "      <td>113.39</td>\n",
       "      <td>4</td>\n",
       "      <td>1</td>\n",
       "      <td>RENT</td>\n",
       "      <td>180000.0</td>\n",
       "      <td>Not Verified</td>\n",
       "      <td>...</td>\n",
       "      <td>0.0</td>\n",
       "      <td>0.0</td>\n",
       "      <td>49.7</td>\n",
       "      <td>20.0</td>\n",
       "      <td>0.0</td>\n",
       "      <td>687.0</td>\n",
       "      <td>817.0</td>\n",
       "      <td>1</td>\n",
       "      <td>2</td>\n",
       "      <td>1</td>\n",
       "    </tr>\n",
       "    <tr>\n",
       "      <th>42531</th>\n",
       "      <td>1000.0</td>\n",
       "      <td>1000.0</td>\n",
       "      <td>1</td>\n",
       "      <td>9.64</td>\n",
       "      <td>32.11</td>\n",
       "      <td>14</td>\n",
       "      <td>1</td>\n",
       "      <td>RENT</td>\n",
       "      <td>12000.0</td>\n",
       "      <td>Not Verified</td>\n",
       "      <td>...</td>\n",
       "      <td>0.0</td>\n",
       "      <td>0.0</td>\n",
       "      <td>49.7</td>\n",
       "      <td>20.0</td>\n",
       "      <td>0.0</td>\n",
       "      <td>697.0</td>\n",
       "      <td>782.0</td>\n",
       "      <td>1</td>\n",
       "      <td>2</td>\n",
       "      <td>1</td>\n",
       "    </tr>\n",
       "    <tr>\n",
       "      <th>42532</th>\n",
       "      <td>2525.0</td>\n",
       "      <td>2525.0</td>\n",
       "      <td>1</td>\n",
       "      <td>9.33</td>\n",
       "      <td>80.69</td>\n",
       "      <td>13</td>\n",
       "      <td>1</td>\n",
       "      <td>RENT</td>\n",
       "      <td>110000.0</td>\n",
       "      <td>Not Verified</td>\n",
       "      <td>...</td>\n",
       "      <td>0.0</td>\n",
       "      <td>0.0</td>\n",
       "      <td>49.7</td>\n",
       "      <td>20.0</td>\n",
       "      <td>0.0</td>\n",
       "      <td>712.0</td>\n",
       "      <td>712.0</td>\n",
       "      <td>1</td>\n",
       "      <td>2</td>\n",
       "      <td>3</td>\n",
       "    </tr>\n",
       "    <tr>\n",
       "      <th>42533</th>\n",
       "      <td>6500.0</td>\n",
       "      <td>6500.0</td>\n",
       "      <td>1</td>\n",
       "      <td>8.38</td>\n",
       "      <td>204.84</td>\n",
       "      <td>18</td>\n",
       "      <td>1</td>\n",
       "      <td>NONE</td>\n",
       "      <td>60000.0</td>\n",
       "      <td>Not Verified</td>\n",
       "      <td>...</td>\n",
       "      <td>0.0</td>\n",
       "      <td>0.0</td>\n",
       "      <td>49.7</td>\n",
       "      <td>20.0</td>\n",
       "      <td>0.0</td>\n",
       "      <td>742.0</td>\n",
       "      <td>722.0</td>\n",
       "      <td>2</td>\n",
       "      <td>1</td>\n",
       "      <td>3</td>\n",
       "    </tr>\n",
       "    <tr>\n",
       "      <th>42534</th>\n",
       "      <td>5000.0</td>\n",
       "      <td>5000.0</td>\n",
       "      <td>1</td>\n",
       "      <td>7.75</td>\n",
       "      <td>156.11</td>\n",
       "      <td>17</td>\n",
       "      <td>10</td>\n",
       "      <td>MORTGAGE</td>\n",
       "      <td>70000.0</td>\n",
       "      <td>Not Verified</td>\n",
       "      <td>...</td>\n",
       "      <td>0.0</td>\n",
       "      <td>0.0</td>\n",
       "      <td>49.7</td>\n",
       "      <td>20.0</td>\n",
       "      <td>0.0</td>\n",
       "      <td>772.0</td>\n",
       "      <td>792.0</td>\n",
       "      <td>2</td>\n",
       "      <td>1</td>\n",
       "      <td>3</td>\n",
       "    </tr>\n",
       "  </tbody>\n",
       "</table>\n",
       "<p>42535 rows × 30 columns</p>\n",
       "</div>"
      ],
      "text/plain": [
       "       loan_amnt  funded_amnt  term  int_rate  installment  sub_grade  \\\n",
       "0         5000.0       5000.0     1     10.65       162.87          1   \n",
       "1         2500.0       2500.0     2     15.27        59.83          2   \n",
       "2         2400.0       2400.0     1     15.96        84.33          3   \n",
       "3        10000.0      10000.0     1     13.49       339.31          4   \n",
       "4         3000.0       3000.0     2     12.69        67.79          5   \n",
       "...          ...          ...   ...       ...          ...        ...   \n",
       "42530     3500.0       3500.0     1     10.28       113.39          4   \n",
       "42531     1000.0       1000.0     1      9.64        32.11         14   \n",
       "42532     2525.0       2525.0     1      9.33        80.69         13   \n",
       "42533     6500.0       6500.0     1      8.38       204.84         18   \n",
       "42534     5000.0       5000.0     1      7.75       156.11         17   \n",
       "\n",
       "       emp_length home_ownership  annual_inc verification_status  ...  \\\n",
       "0              10           RENT     24000.0            Verified  ...   \n",
       "1               1           RENT     30000.0     Source Verified  ...   \n",
       "2              10           RENT     12252.0        Not Verified  ...   \n",
       "3              10           RENT     49200.0     Source Verified  ...   \n",
       "4               1           RENT     80000.0     Source Verified  ...   \n",
       "...           ...            ...         ...                 ...  ...   \n",
       "42530           1           RENT    180000.0        Not Verified  ...   \n",
       "42531           1           RENT     12000.0        Not Verified  ...   \n",
       "42532           1           RENT    110000.0        Not Verified  ...   \n",
       "42533           1           NONE     60000.0        Not Verified  ...   \n",
       "42534          10       MORTGAGE     70000.0        Not Verified  ...   \n",
       "\n",
       "       pub_rec  revol_bal revol_util total_acc  pub_rec_bankruptcies  \\\n",
       "0          0.0    13648.0       83.7       9.0                   0.0   \n",
       "1          0.0     1687.0        9.4       4.0                   0.0   \n",
       "2          0.0     2956.0       98.5      10.0                   0.0   \n",
       "3          0.0     5598.0       21.0      37.0                   0.0   \n",
       "4          0.0    27783.0       53.9      38.0                   0.0   \n",
       "...        ...        ...        ...       ...                   ...   \n",
       "42530      0.0        0.0       49.7      20.0                   0.0   \n",
       "42531      0.0        0.0       49.7      20.0                   0.0   \n",
       "42532      0.0        0.0       49.7      20.0                   0.0   \n",
       "42533      0.0        0.0       49.7      20.0                   0.0   \n",
       "42534      0.0        0.0       49.7      20.0                   0.0   \n",
       "\n",
       "       fico_mean  last_fico_mean  fico_rating  loan_amnt_rating  \\\n",
       "0          737.0           737.0            1                 1   \n",
       "1          742.0           249.5            2                 2   \n",
       "2          737.0           737.0            1                 2   \n",
       "3          692.0           602.0            1                 3   \n",
       "4          697.0           682.0            1                 2   \n",
       "...          ...             ...          ...               ...   \n",
       "42530      687.0           817.0            1                 2   \n",
       "42531      697.0           782.0            1                 2   \n",
       "42532      712.0           712.0            1                 2   \n",
       "42533      742.0           722.0            2                 1   \n",
       "42534      772.0           792.0            2                 1   \n",
       "\n",
       "       interest_rating  \n",
       "0                    1  \n",
       "1                    2  \n",
       "2                    2  \n",
       "3                    1  \n",
       "4                    1  \n",
       "...                ...  \n",
       "42530                1  \n",
       "42531                1  \n",
       "42532                3  \n",
       "42533                3  \n",
       "42534                3  \n",
       "\n",
       "[42535 rows x 30 columns]"
      ]
     },
     "execution_count": 2,
     "metadata": {},
     "output_type": "execute_result"
    }
   ],
   "source": [
    "# wczytuje dane z poprzedniej części\n",
    "data_loan = pd.read_csv('data_loan.csv')\n",
    "data_loan.drop('Unnamed: 0', axis=1, inplace=True)\n",
    "data_loan"
   ]
  },
  {
   "cell_type": "code",
   "execution_count": 3,
   "metadata": {},
   "outputs": [
    {
     "data": {
      "text/html": [
       "<div>\n",
       "<style scoped>\n",
       "    .dataframe tbody tr th:only-of-type {\n",
       "        vertical-align: middle;\n",
       "    }\n",
       "\n",
       "    .dataframe tbody tr th {\n",
       "        vertical-align: top;\n",
       "    }\n",
       "\n",
       "    .dataframe thead th {\n",
       "        text-align: right;\n",
       "    }\n",
       "</style>\n",
       "<table border=\"1\" class=\"dataframe\">\n",
       "  <thead>\n",
       "    <tr style=\"text-align: right;\">\n",
       "      <th></th>\n",
       "      <th>annual_inc</th>\n",
       "      <th>installment</th>\n",
       "      <th>int_rate</th>\n",
       "      <th>fico_mean</th>\n",
       "      <th>last_fico_mean</th>\n",
       "      <th>loan_amnt</th>\n",
       "      <th>revol_bal</th>\n",
       "      <th>open_acc</th>\n",
       "      <th>total_acc</th>\n",
       "      <th>loan_status</th>\n",
       "    </tr>\n",
       "  </thead>\n",
       "  <tbody>\n",
       "    <tr>\n",
       "      <th>0</th>\n",
       "      <td>24000.0</td>\n",
       "      <td>162.87</td>\n",
       "      <td>10.65</td>\n",
       "      <td>737.0</td>\n",
       "      <td>737.0</td>\n",
       "      <td>5000.0</td>\n",
       "      <td>13648.0</td>\n",
       "      <td>3.0</td>\n",
       "      <td>9.0</td>\n",
       "      <td>1</td>\n",
       "    </tr>\n",
       "    <tr>\n",
       "      <th>1</th>\n",
       "      <td>30000.0</td>\n",
       "      <td>59.83</td>\n",
       "      <td>15.27</td>\n",
       "      <td>742.0</td>\n",
       "      <td>249.5</td>\n",
       "      <td>2500.0</td>\n",
       "      <td>1687.0</td>\n",
       "      <td>3.0</td>\n",
       "      <td>4.0</td>\n",
       "      <td>0</td>\n",
       "    </tr>\n",
       "    <tr>\n",
       "      <th>2</th>\n",
       "      <td>12252.0</td>\n",
       "      <td>84.33</td>\n",
       "      <td>15.96</td>\n",
       "      <td>737.0</td>\n",
       "      <td>737.0</td>\n",
       "      <td>2400.0</td>\n",
       "      <td>2956.0</td>\n",
       "      <td>2.0</td>\n",
       "      <td>10.0</td>\n",
       "      <td>1</td>\n",
       "    </tr>\n",
       "    <tr>\n",
       "      <th>3</th>\n",
       "      <td>49200.0</td>\n",
       "      <td>339.31</td>\n",
       "      <td>13.49</td>\n",
       "      <td>692.0</td>\n",
       "      <td>602.0</td>\n",
       "      <td>10000.0</td>\n",
       "      <td>5598.0</td>\n",
       "      <td>10.0</td>\n",
       "      <td>37.0</td>\n",
       "      <td>1</td>\n",
       "    </tr>\n",
       "    <tr>\n",
       "      <th>4</th>\n",
       "      <td>80000.0</td>\n",
       "      <td>67.79</td>\n",
       "      <td>12.69</td>\n",
       "      <td>697.0</td>\n",
       "      <td>682.0</td>\n",
       "      <td>3000.0</td>\n",
       "      <td>27783.0</td>\n",
       "      <td>15.0</td>\n",
       "      <td>38.0</td>\n",
       "      <td>1</td>\n",
       "    </tr>\n",
       "    <tr>\n",
       "      <th>...</th>\n",
       "      <td>...</td>\n",
       "      <td>...</td>\n",
       "      <td>...</td>\n",
       "      <td>...</td>\n",
       "      <td>...</td>\n",
       "      <td>...</td>\n",
       "      <td>...</td>\n",
       "      <td>...</td>\n",
       "      <td>...</td>\n",
       "      <td>...</td>\n",
       "    </tr>\n",
       "    <tr>\n",
       "      <th>42530</th>\n",
       "      <td>180000.0</td>\n",
       "      <td>113.39</td>\n",
       "      <td>10.28</td>\n",
       "      <td>687.0</td>\n",
       "      <td>817.0</td>\n",
       "      <td>3500.0</td>\n",
       "      <td>0.0</td>\n",
       "      <td>7.0</td>\n",
       "      <td>20.0</td>\n",
       "      <td>1</td>\n",
       "    </tr>\n",
       "    <tr>\n",
       "      <th>42531</th>\n",
       "      <td>12000.0</td>\n",
       "      <td>32.11</td>\n",
       "      <td>9.64</td>\n",
       "      <td>697.0</td>\n",
       "      <td>782.0</td>\n",
       "      <td>1000.0</td>\n",
       "      <td>0.0</td>\n",
       "      <td>7.0</td>\n",
       "      <td>20.0</td>\n",
       "      <td>1</td>\n",
       "    </tr>\n",
       "    <tr>\n",
       "      <th>42532</th>\n",
       "      <td>110000.0</td>\n",
       "      <td>80.69</td>\n",
       "      <td>9.33</td>\n",
       "      <td>712.0</td>\n",
       "      <td>712.0</td>\n",
       "      <td>2525.0</td>\n",
       "      <td>0.0</td>\n",
       "      <td>7.0</td>\n",
       "      <td>20.0</td>\n",
       "      <td>1</td>\n",
       "    </tr>\n",
       "    <tr>\n",
       "      <th>42533</th>\n",
       "      <td>60000.0</td>\n",
       "      <td>204.84</td>\n",
       "      <td>8.38</td>\n",
       "      <td>742.0</td>\n",
       "      <td>722.0</td>\n",
       "      <td>6500.0</td>\n",
       "      <td>0.0</td>\n",
       "      <td>7.0</td>\n",
       "      <td>20.0</td>\n",
       "      <td>1</td>\n",
       "    </tr>\n",
       "    <tr>\n",
       "      <th>42534</th>\n",
       "      <td>70000.0</td>\n",
       "      <td>156.11</td>\n",
       "      <td>7.75</td>\n",
       "      <td>772.0</td>\n",
       "      <td>792.0</td>\n",
       "      <td>5000.0</td>\n",
       "      <td>0.0</td>\n",
       "      <td>7.0</td>\n",
       "      <td>20.0</td>\n",
       "      <td>1</td>\n",
       "    </tr>\n",
       "  </tbody>\n",
       "</table>\n",
       "<p>42535 rows × 10 columns</p>\n",
       "</div>"
      ],
      "text/plain": [
       "       annual_inc  installment  int_rate  fico_mean  last_fico_mean  \\\n",
       "0         24000.0       162.87     10.65      737.0           737.0   \n",
       "1         30000.0        59.83     15.27      742.0           249.5   \n",
       "2         12252.0        84.33     15.96      737.0           737.0   \n",
       "3         49200.0       339.31     13.49      692.0           602.0   \n",
       "4         80000.0        67.79     12.69      697.0           682.0   \n",
       "...           ...          ...       ...        ...             ...   \n",
       "42530    180000.0       113.39     10.28      687.0           817.0   \n",
       "42531     12000.0        32.11      9.64      697.0           782.0   \n",
       "42532    110000.0        80.69      9.33      712.0           712.0   \n",
       "42533     60000.0       204.84      8.38      742.0           722.0   \n",
       "42534     70000.0       156.11      7.75      772.0           792.0   \n",
       "\n",
       "       loan_amnt  revol_bal  open_acc  total_acc  loan_status  \n",
       "0         5000.0    13648.0       3.0        9.0            1  \n",
       "1         2500.0     1687.0       3.0        4.0            0  \n",
       "2         2400.0     2956.0       2.0       10.0            1  \n",
       "3        10000.0     5598.0      10.0       37.0            1  \n",
       "4         3000.0    27783.0      15.0       38.0            1  \n",
       "...          ...        ...       ...        ...          ...  \n",
       "42530     3500.0        0.0       7.0       20.0            1  \n",
       "42531     1000.0        0.0       7.0       20.0            1  \n",
       "42532     2525.0        0.0       7.0       20.0            1  \n",
       "42533     6500.0        0.0       7.0       20.0            1  \n",
       "42534     5000.0        0.0       7.0       20.0            1  \n",
       "\n",
       "[42535 rows x 10 columns]"
      ]
     },
     "execution_count": 3,
     "metadata": {},
     "output_type": "execute_result"
    }
   ],
   "source": [
    "# wczytuje dane z poprzedniej części\n",
    "data_loan1 = pd.read_csv('data_loan1.csv')\n",
    "data_loan1.drop('Unnamed: 0', axis=1, inplace=True)\n",
    "data_loan1"
   ]
  },
  {
   "cell_type": "code",
   "execution_count": 4,
   "metadata": {},
   "outputs": [
    {
     "data": {
      "text/html": [
       "<div>\n",
       "<style scoped>\n",
       "    .dataframe tbody tr th:only-of-type {\n",
       "        vertical-align: middle;\n",
       "    }\n",
       "\n",
       "    .dataframe tbody tr th {\n",
       "        vertical-align: top;\n",
       "    }\n",
       "\n",
       "    .dataframe thead th {\n",
       "        text-align: right;\n",
       "    }\n",
       "</style>\n",
       "<table border=\"1\" class=\"dataframe\">\n",
       "  <thead>\n",
       "    <tr style=\"text-align: right;\">\n",
       "      <th></th>\n",
       "      <th>loan_amnt</th>\n",
       "      <th>funded_amnt</th>\n",
       "      <th>term</th>\n",
       "      <th>int_rate</th>\n",
       "      <th>installment</th>\n",
       "      <th>sub_grade</th>\n",
       "      <th>emp_length</th>\n",
       "      <th>annual_inc</th>\n",
       "      <th>issue_d</th>\n",
       "      <th>loan_status</th>\n",
       "      <th>...</th>\n",
       "      <th>addr_state_SD</th>\n",
       "      <th>addr_state_TN</th>\n",
       "      <th>addr_state_TX</th>\n",
       "      <th>addr_state_UT</th>\n",
       "      <th>addr_state_VA</th>\n",
       "      <th>addr_state_VT</th>\n",
       "      <th>addr_state_WA</th>\n",
       "      <th>addr_state_WI</th>\n",
       "      <th>addr_state_WV</th>\n",
       "      <th>addr_state_WY</th>\n",
       "    </tr>\n",
       "  </thead>\n",
       "  <tbody>\n",
       "    <tr>\n",
       "      <th>0</th>\n",
       "      <td>5000.0</td>\n",
       "      <td>5000.0</td>\n",
       "      <td>1</td>\n",
       "      <td>10.65</td>\n",
       "      <td>162.87</td>\n",
       "      <td>1</td>\n",
       "      <td>10</td>\n",
       "      <td>24000.0</td>\n",
       "      <td>2011</td>\n",
       "      <td>1</td>\n",
       "      <td>...</td>\n",
       "      <td>0</td>\n",
       "      <td>0</td>\n",
       "      <td>0</td>\n",
       "      <td>0</td>\n",
       "      <td>0</td>\n",
       "      <td>0</td>\n",
       "      <td>0</td>\n",
       "      <td>0</td>\n",
       "      <td>0</td>\n",
       "      <td>0</td>\n",
       "    </tr>\n",
       "    <tr>\n",
       "      <th>1</th>\n",
       "      <td>2500.0</td>\n",
       "      <td>2500.0</td>\n",
       "      <td>2</td>\n",
       "      <td>15.27</td>\n",
       "      <td>59.83</td>\n",
       "      <td>2</td>\n",
       "      <td>1</td>\n",
       "      <td>30000.0</td>\n",
       "      <td>2011</td>\n",
       "      <td>0</td>\n",
       "      <td>...</td>\n",
       "      <td>0</td>\n",
       "      <td>0</td>\n",
       "      <td>0</td>\n",
       "      <td>0</td>\n",
       "      <td>0</td>\n",
       "      <td>0</td>\n",
       "      <td>0</td>\n",
       "      <td>0</td>\n",
       "      <td>0</td>\n",
       "      <td>0</td>\n",
       "    </tr>\n",
       "    <tr>\n",
       "      <th>2</th>\n",
       "      <td>2400.0</td>\n",
       "      <td>2400.0</td>\n",
       "      <td>1</td>\n",
       "      <td>15.96</td>\n",
       "      <td>84.33</td>\n",
       "      <td>3</td>\n",
       "      <td>10</td>\n",
       "      <td>12252.0</td>\n",
       "      <td>2011</td>\n",
       "      <td>1</td>\n",
       "      <td>...</td>\n",
       "      <td>0</td>\n",
       "      <td>0</td>\n",
       "      <td>0</td>\n",
       "      <td>0</td>\n",
       "      <td>0</td>\n",
       "      <td>0</td>\n",
       "      <td>0</td>\n",
       "      <td>0</td>\n",
       "      <td>0</td>\n",
       "      <td>0</td>\n",
       "    </tr>\n",
       "    <tr>\n",
       "      <th>3</th>\n",
       "      <td>10000.0</td>\n",
       "      <td>10000.0</td>\n",
       "      <td>1</td>\n",
       "      <td>13.49</td>\n",
       "      <td>339.31</td>\n",
       "      <td>4</td>\n",
       "      <td>10</td>\n",
       "      <td>49200.0</td>\n",
       "      <td>2011</td>\n",
       "      <td>1</td>\n",
       "      <td>...</td>\n",
       "      <td>0</td>\n",
       "      <td>0</td>\n",
       "      <td>0</td>\n",
       "      <td>0</td>\n",
       "      <td>0</td>\n",
       "      <td>0</td>\n",
       "      <td>0</td>\n",
       "      <td>0</td>\n",
       "      <td>0</td>\n",
       "      <td>0</td>\n",
       "    </tr>\n",
       "    <tr>\n",
       "      <th>4</th>\n",
       "      <td>3000.0</td>\n",
       "      <td>3000.0</td>\n",
       "      <td>2</td>\n",
       "      <td>12.69</td>\n",
       "      <td>67.79</td>\n",
       "      <td>5</td>\n",
       "      <td>1</td>\n",
       "      <td>80000.0</td>\n",
       "      <td>2011</td>\n",
       "      <td>1</td>\n",
       "      <td>...</td>\n",
       "      <td>0</td>\n",
       "      <td>0</td>\n",
       "      <td>0</td>\n",
       "      <td>0</td>\n",
       "      <td>0</td>\n",
       "      <td>0</td>\n",
       "      <td>0</td>\n",
       "      <td>0</td>\n",
       "      <td>0</td>\n",
       "      <td>0</td>\n",
       "    </tr>\n",
       "    <tr>\n",
       "      <th>...</th>\n",
       "      <td>...</td>\n",
       "      <td>...</td>\n",
       "      <td>...</td>\n",
       "      <td>...</td>\n",
       "      <td>...</td>\n",
       "      <td>...</td>\n",
       "      <td>...</td>\n",
       "      <td>...</td>\n",
       "      <td>...</td>\n",
       "      <td>...</td>\n",
       "      <td>...</td>\n",
       "      <td>...</td>\n",
       "      <td>...</td>\n",
       "      <td>...</td>\n",
       "      <td>...</td>\n",
       "      <td>...</td>\n",
       "      <td>...</td>\n",
       "      <td>...</td>\n",
       "      <td>...</td>\n",
       "      <td>...</td>\n",
       "      <td>...</td>\n",
       "    </tr>\n",
       "    <tr>\n",
       "      <th>42530</th>\n",
       "      <td>3500.0</td>\n",
       "      <td>3500.0</td>\n",
       "      <td>1</td>\n",
       "      <td>10.28</td>\n",
       "      <td>113.39</td>\n",
       "      <td>4</td>\n",
       "      <td>1</td>\n",
       "      <td>180000.0</td>\n",
       "      <td>2007</td>\n",
       "      <td>1</td>\n",
       "      <td>...</td>\n",
       "      <td>0</td>\n",
       "      <td>0</td>\n",
       "      <td>0</td>\n",
       "      <td>0</td>\n",
       "      <td>0</td>\n",
       "      <td>0</td>\n",
       "      <td>0</td>\n",
       "      <td>0</td>\n",
       "      <td>0</td>\n",
       "      <td>0</td>\n",
       "    </tr>\n",
       "    <tr>\n",
       "      <th>42531</th>\n",
       "      <td>1000.0</td>\n",
       "      <td>1000.0</td>\n",
       "      <td>1</td>\n",
       "      <td>9.64</td>\n",
       "      <td>32.11</td>\n",
       "      <td>14</td>\n",
       "      <td>1</td>\n",
       "      <td>12000.0</td>\n",
       "      <td>2007</td>\n",
       "      <td>1</td>\n",
       "      <td>...</td>\n",
       "      <td>0</td>\n",
       "      <td>0</td>\n",
       "      <td>0</td>\n",
       "      <td>0</td>\n",
       "      <td>0</td>\n",
       "      <td>0</td>\n",
       "      <td>0</td>\n",
       "      <td>0</td>\n",
       "      <td>0</td>\n",
       "      <td>0</td>\n",
       "    </tr>\n",
       "    <tr>\n",
       "      <th>42532</th>\n",
       "      <td>2525.0</td>\n",
       "      <td>2525.0</td>\n",
       "      <td>1</td>\n",
       "      <td>9.33</td>\n",
       "      <td>80.69</td>\n",
       "      <td>13</td>\n",
       "      <td>1</td>\n",
       "      <td>110000.0</td>\n",
       "      <td>2007</td>\n",
       "      <td>1</td>\n",
       "      <td>...</td>\n",
       "      <td>0</td>\n",
       "      <td>0</td>\n",
       "      <td>0</td>\n",
       "      <td>0</td>\n",
       "      <td>0</td>\n",
       "      <td>0</td>\n",
       "      <td>0</td>\n",
       "      <td>0</td>\n",
       "      <td>0</td>\n",
       "      <td>0</td>\n",
       "    </tr>\n",
       "    <tr>\n",
       "      <th>42533</th>\n",
       "      <td>6500.0</td>\n",
       "      <td>6500.0</td>\n",
       "      <td>1</td>\n",
       "      <td>8.38</td>\n",
       "      <td>204.84</td>\n",
       "      <td>18</td>\n",
       "      <td>1</td>\n",
       "      <td>60000.0</td>\n",
       "      <td>2007</td>\n",
       "      <td>1</td>\n",
       "      <td>...</td>\n",
       "      <td>0</td>\n",
       "      <td>0</td>\n",
       "      <td>0</td>\n",
       "      <td>0</td>\n",
       "      <td>0</td>\n",
       "      <td>0</td>\n",
       "      <td>0</td>\n",
       "      <td>0</td>\n",
       "      <td>0</td>\n",
       "      <td>0</td>\n",
       "    </tr>\n",
       "    <tr>\n",
       "      <th>42534</th>\n",
       "      <td>5000.0</td>\n",
       "      <td>5000.0</td>\n",
       "      <td>1</td>\n",
       "      <td>7.75</td>\n",
       "      <td>156.11</td>\n",
       "      <td>17</td>\n",
       "      <td>10</td>\n",
       "      <td>70000.0</td>\n",
       "      <td>2007</td>\n",
       "      <td>1</td>\n",
       "      <td>...</td>\n",
       "      <td>0</td>\n",
       "      <td>0</td>\n",
       "      <td>0</td>\n",
       "      <td>0</td>\n",
       "      <td>0</td>\n",
       "      <td>0</td>\n",
       "      <td>0</td>\n",
       "      <td>0</td>\n",
       "      <td>0</td>\n",
       "      <td>0</td>\n",
       "    </tr>\n",
       "  </tbody>\n",
       "</table>\n",
       "<p>42535 rows × 98 columns</p>\n",
       "</div>"
      ],
      "text/plain": [
       "       loan_amnt  funded_amnt  term  int_rate  installment  sub_grade  \\\n",
       "0         5000.0       5000.0     1     10.65       162.87          1   \n",
       "1         2500.0       2500.0     2     15.27        59.83          2   \n",
       "2         2400.0       2400.0     1     15.96        84.33          3   \n",
       "3        10000.0      10000.0     1     13.49       339.31          4   \n",
       "4         3000.0       3000.0     2     12.69        67.79          5   \n",
       "...          ...          ...   ...       ...          ...        ...   \n",
       "42530     3500.0       3500.0     1     10.28       113.39          4   \n",
       "42531     1000.0       1000.0     1      9.64        32.11         14   \n",
       "42532     2525.0       2525.0     1      9.33        80.69         13   \n",
       "42533     6500.0       6500.0     1      8.38       204.84         18   \n",
       "42534     5000.0       5000.0     1      7.75       156.11         17   \n",
       "\n",
       "       emp_length  annual_inc  issue_d  loan_status  ...  addr_state_SD  \\\n",
       "0              10     24000.0     2011            1  ...              0   \n",
       "1               1     30000.0     2011            0  ...              0   \n",
       "2              10     12252.0     2011            1  ...              0   \n",
       "3              10     49200.0     2011            1  ...              0   \n",
       "4               1     80000.0     2011            1  ...              0   \n",
       "...           ...         ...      ...          ...  ...            ...   \n",
       "42530           1    180000.0     2007            1  ...              0   \n",
       "42531           1     12000.0     2007            1  ...              0   \n",
       "42532           1    110000.0     2007            1  ...              0   \n",
       "42533           1     60000.0     2007            1  ...              0   \n",
       "42534          10     70000.0     2007            1  ...              0   \n",
       "\n",
       "       addr_state_TN  addr_state_TX  addr_state_UT  addr_state_VA  \\\n",
       "0                  0              0              0              0   \n",
       "1                  0              0              0              0   \n",
       "2                  0              0              0              0   \n",
       "3                  0              0              0              0   \n",
       "4                  0              0              0              0   \n",
       "...              ...            ...            ...            ...   \n",
       "42530              0              0              0              0   \n",
       "42531              0              0              0              0   \n",
       "42532              0              0              0              0   \n",
       "42533              0              0              0              0   \n",
       "42534              0              0              0              0   \n",
       "\n",
       "       addr_state_VT  addr_state_WA  addr_state_WI  addr_state_WV  \\\n",
       "0                  0              0              0              0   \n",
       "1                  0              0              0              0   \n",
       "2                  0              0              0              0   \n",
       "3                  0              0              0              0   \n",
       "4                  0              0              0              0   \n",
       "...              ...            ...            ...            ...   \n",
       "42530              0              0              0              0   \n",
       "42531              0              0              0              0   \n",
       "42532              0              0              0              0   \n",
       "42533              0              0              0              0   \n",
       "42534              0              0              0              0   \n",
       "\n",
       "       addr_state_WY  \n",
       "0                  0  \n",
       "1                  0  \n",
       "2                  0  \n",
       "3                  0  \n",
       "4                  0  \n",
       "...              ...  \n",
       "42530              0  \n",
       "42531              0  \n",
       "42532              0  \n",
       "42533              0  \n",
       "42534              0  \n",
       "\n",
       "[42535 rows x 98 columns]"
      ]
     },
     "execution_count": 4,
     "metadata": {},
     "output_type": "execute_result"
    }
   ],
   "source": [
    "# wczytuje dane z poprzedniej części\n",
    "data_dummies = pd.read_csv('data_dummies.csv')\n",
    "data_dummies.drop('Unnamed: 0', axis=1, inplace=True)\n",
    "data_dummies"
   ]
  },
  {
   "cell_type": "code",
   "execution_count": 5,
   "metadata": {},
   "outputs": [
    {
     "data": {
      "text/plain": [
       "Index(['loan_amnt', 'funded_amnt', 'term', 'int_rate', 'installment',\n",
       "       'sub_grade', 'emp_length', 'annual_inc', 'issue_d', 'loan_status',\n",
       "       'dti', 'delinq_2yrs', 'earliest_cr_line', 'inq_last_6mths',\n",
       "       'mths_since_last_delinq', 'open_acc', 'pub_rec', 'revol_bal',\n",
       "       'revol_util', 'total_acc', 'pub_rec_bankruptcies', 'fico_mean',\n",
       "       'last_fico_mean', 'fico_rating', 'loan_amnt_rating', 'interest_rating',\n",
       "       'home_ownership_MORTGAGE', 'home_ownership_NONE',\n",
       "       'home_ownership_OTHER', 'home_ownership_OWN', 'home_ownership_RENT',\n",
       "       'verification_status_Not Verified',\n",
       "       'verification_status_Source Verified', 'verification_status_Verified',\n",
       "       'purpose_car', 'purpose_credit_card', 'purpose_debt_consolidation',\n",
       "       'purpose_educational', 'purpose_home_improvement', 'purpose_house',\n",
       "       'purpose_major_purchase', 'purpose_medical', 'purpose_moving',\n",
       "       'purpose_other', 'purpose_renewable_energy', 'purpose_small_business',\n",
       "       'purpose_vacation', 'purpose_wedding', 'addr_state_AK', 'addr_state_AL',\n",
       "       'addr_state_AR', 'addr_state_AZ', 'addr_state_CA', 'addr_state_CO',\n",
       "       'addr_state_CT', 'addr_state_DC', 'addr_state_DE', 'addr_state_FL',\n",
       "       'addr_state_GA', 'addr_state_HI', 'addr_state_IA', 'addr_state_ID',\n",
       "       'addr_state_IL', 'addr_state_IN', 'addr_state_KS', 'addr_state_KY',\n",
       "       'addr_state_LA', 'addr_state_MA', 'addr_state_MD', 'addr_state_ME',\n",
       "       'addr_state_MI', 'addr_state_MN', 'addr_state_MO', 'addr_state_MS',\n",
       "       'addr_state_MT', 'addr_state_NC', 'addr_state_NE', 'addr_state_NH',\n",
       "       'addr_state_NJ', 'addr_state_NM', 'addr_state_NV', 'addr_state_NY',\n",
       "       'addr_state_OH', 'addr_state_OK', 'addr_state_OR', 'addr_state_PA',\n",
       "       'addr_state_RI', 'addr_state_SC', 'addr_state_SD', 'addr_state_TN',\n",
       "       'addr_state_TX', 'addr_state_UT', 'addr_state_VA', 'addr_state_VT',\n",
       "       'addr_state_WA', 'addr_state_WI', 'addr_state_WV', 'addr_state_WY'],\n",
       "      dtype='object')"
      ]
     },
     "execution_count": 5,
     "metadata": {},
     "output_type": "execute_result"
    }
   ],
   "source": [
    "data_dummies.columns"
   ]
  },
  {
   "cell_type": "code",
   "execution_count": 6,
   "metadata": {
    "scrolled": true
   },
   "outputs": [
    {
     "data": {
      "text/html": [
       "<div>\n",
       "<style scoped>\n",
       "    .dataframe tbody tr th:only-of-type {\n",
       "        vertical-align: middle;\n",
       "    }\n",
       "\n",
       "    .dataframe tbody tr th {\n",
       "        vertical-align: top;\n",
       "    }\n",
       "\n",
       "    .dataframe thead th {\n",
       "        text-align: right;\n",
       "    }\n",
       "</style>\n",
       "<table border=\"1\" class=\"dataframe\">\n",
       "  <thead>\n",
       "    <tr style=\"text-align: right;\">\n",
       "      <th></th>\n",
       "      <th>loan_amnt</th>\n",
       "      <th>funded_amnt</th>\n",
       "      <th>int_rate</th>\n",
       "      <th>installment</th>\n",
       "      <th>emp_length</th>\n",
       "      <th>annual_inc</th>\n",
       "      <th>issue_d</th>\n",
       "      <th>dti</th>\n",
       "      <th>earliest_cr_line</th>\n",
       "      <th>inq_last_6mths</th>\n",
       "      <th>open_acc</th>\n",
       "      <th>revol_bal</th>\n",
       "      <th>revol_util</th>\n",
       "      <th>total_acc</th>\n",
       "      <th>fico_mean</th>\n",
       "      <th>last_fico_mean</th>\n",
       "    </tr>\n",
       "  </thead>\n",
       "  <tbody>\n",
       "    <tr>\n",
       "      <th>0</th>\n",
       "      <td>5000.0</td>\n",
       "      <td>5000.0</td>\n",
       "      <td>10.65</td>\n",
       "      <td>162.87</td>\n",
       "      <td>10.0</td>\n",
       "      <td>24000.0</td>\n",
       "      <td>2011.0</td>\n",
       "      <td>27.65</td>\n",
       "      <td>1985.0</td>\n",
       "      <td>1.0</td>\n",
       "      <td>3.0</td>\n",
       "      <td>13648.0</td>\n",
       "      <td>83.7</td>\n",
       "      <td>9.0</td>\n",
       "      <td>737.0</td>\n",
       "      <td>737.0</td>\n",
       "    </tr>\n",
       "    <tr>\n",
       "      <th>1</th>\n",
       "      <td>2500.0</td>\n",
       "      <td>2500.0</td>\n",
       "      <td>15.27</td>\n",
       "      <td>59.83</td>\n",
       "      <td>1.0</td>\n",
       "      <td>30000.0</td>\n",
       "      <td>2011.0</td>\n",
       "      <td>1.00</td>\n",
       "      <td>1999.0</td>\n",
       "      <td>5.0</td>\n",
       "      <td>3.0</td>\n",
       "      <td>1687.0</td>\n",
       "      <td>9.4</td>\n",
       "      <td>4.0</td>\n",
       "      <td>742.0</td>\n",
       "      <td>249.5</td>\n",
       "    </tr>\n",
       "    <tr>\n",
       "      <th>2</th>\n",
       "      <td>2400.0</td>\n",
       "      <td>2400.0</td>\n",
       "      <td>15.96</td>\n",
       "      <td>84.33</td>\n",
       "      <td>10.0</td>\n",
       "      <td>12252.0</td>\n",
       "      <td>2011.0</td>\n",
       "      <td>8.72</td>\n",
       "      <td>2001.0</td>\n",
       "      <td>2.0</td>\n",
       "      <td>2.0</td>\n",
       "      <td>2956.0</td>\n",
       "      <td>98.5</td>\n",
       "      <td>10.0</td>\n",
       "      <td>737.0</td>\n",
       "      <td>737.0</td>\n",
       "    </tr>\n",
       "    <tr>\n",
       "      <th>3</th>\n",
       "      <td>10000.0</td>\n",
       "      <td>10000.0</td>\n",
       "      <td>13.49</td>\n",
       "      <td>339.31</td>\n",
       "      <td>10.0</td>\n",
       "      <td>49200.0</td>\n",
       "      <td>2011.0</td>\n",
       "      <td>20.00</td>\n",
       "      <td>1996.0</td>\n",
       "      <td>1.0</td>\n",
       "      <td>10.0</td>\n",
       "      <td>5598.0</td>\n",
       "      <td>21.0</td>\n",
       "      <td>37.0</td>\n",
       "      <td>692.0</td>\n",
       "      <td>602.0</td>\n",
       "    </tr>\n",
       "    <tr>\n",
       "      <th>4</th>\n",
       "      <td>3000.0</td>\n",
       "      <td>3000.0</td>\n",
       "      <td>12.69</td>\n",
       "      <td>67.79</td>\n",
       "      <td>1.0</td>\n",
       "      <td>80000.0</td>\n",
       "      <td>2011.0</td>\n",
       "      <td>17.94</td>\n",
       "      <td>1996.0</td>\n",
       "      <td>0.0</td>\n",
       "      <td>15.0</td>\n",
       "      <td>27783.0</td>\n",
       "      <td>53.9</td>\n",
       "      <td>38.0</td>\n",
       "      <td>697.0</td>\n",
       "      <td>682.0</td>\n",
       "    </tr>\n",
       "    <tr>\n",
       "      <th>...</th>\n",
       "      <td>...</td>\n",
       "      <td>...</td>\n",
       "      <td>...</td>\n",
       "      <td>...</td>\n",
       "      <td>...</td>\n",
       "      <td>...</td>\n",
       "      <td>...</td>\n",
       "      <td>...</td>\n",
       "      <td>...</td>\n",
       "      <td>...</td>\n",
       "      <td>...</td>\n",
       "      <td>...</td>\n",
       "      <td>...</td>\n",
       "      <td>...</td>\n",
       "      <td>...</td>\n",
       "      <td>...</td>\n",
       "    </tr>\n",
       "    <tr>\n",
       "      <th>42530</th>\n",
       "      <td>3500.0</td>\n",
       "      <td>3500.0</td>\n",
       "      <td>10.28</td>\n",
       "      <td>113.39</td>\n",
       "      <td>1.0</td>\n",
       "      <td>59000.0</td>\n",
       "      <td>2011.0</td>\n",
       "      <td>10.00</td>\n",
       "      <td>2007.0</td>\n",
       "      <td>0.0</td>\n",
       "      <td>7.0</td>\n",
       "      <td>0.0</td>\n",
       "      <td>49.7</td>\n",
       "      <td>20.0</td>\n",
       "      <td>687.0</td>\n",
       "      <td>817.0</td>\n",
       "    </tr>\n",
       "    <tr>\n",
       "      <th>42531</th>\n",
       "      <td>1000.0</td>\n",
       "      <td>1000.0</td>\n",
       "      <td>9.64</td>\n",
       "      <td>32.11</td>\n",
       "      <td>1.0</td>\n",
       "      <td>12000.0</td>\n",
       "      <td>2011.0</td>\n",
       "      <td>10.00</td>\n",
       "      <td>2007.0</td>\n",
       "      <td>0.0</td>\n",
       "      <td>7.0</td>\n",
       "      <td>0.0</td>\n",
       "      <td>49.7</td>\n",
       "      <td>20.0</td>\n",
       "      <td>697.0</td>\n",
       "      <td>782.0</td>\n",
       "    </tr>\n",
       "    <tr>\n",
       "      <th>42532</th>\n",
       "      <td>2525.0</td>\n",
       "      <td>2525.0</td>\n",
       "      <td>9.33</td>\n",
       "      <td>80.69</td>\n",
       "      <td>1.0</td>\n",
       "      <td>110000.0</td>\n",
       "      <td>2011.0</td>\n",
       "      <td>10.00</td>\n",
       "      <td>2007.0</td>\n",
       "      <td>0.0</td>\n",
       "      <td>7.0</td>\n",
       "      <td>0.0</td>\n",
       "      <td>49.7</td>\n",
       "      <td>20.0</td>\n",
       "      <td>712.0</td>\n",
       "      <td>712.0</td>\n",
       "    </tr>\n",
       "    <tr>\n",
       "      <th>42533</th>\n",
       "      <td>6500.0</td>\n",
       "      <td>6500.0</td>\n",
       "      <td>8.38</td>\n",
       "      <td>204.84</td>\n",
       "      <td>1.0</td>\n",
       "      <td>60000.0</td>\n",
       "      <td>2011.0</td>\n",
       "      <td>4.00</td>\n",
       "      <td>2007.0</td>\n",
       "      <td>0.0</td>\n",
       "      <td>7.0</td>\n",
       "      <td>0.0</td>\n",
       "      <td>49.7</td>\n",
       "      <td>20.0</td>\n",
       "      <td>742.0</td>\n",
       "      <td>722.0</td>\n",
       "    </tr>\n",
       "    <tr>\n",
       "      <th>42534</th>\n",
       "      <td>5000.0</td>\n",
       "      <td>5000.0</td>\n",
       "      <td>7.75</td>\n",
       "      <td>156.11</td>\n",
       "      <td>10.0</td>\n",
       "      <td>70000.0</td>\n",
       "      <td>2011.0</td>\n",
       "      <td>8.81</td>\n",
       "      <td>2007.0</td>\n",
       "      <td>0.0</td>\n",
       "      <td>7.0</td>\n",
       "      <td>0.0</td>\n",
       "      <td>49.7</td>\n",
       "      <td>20.0</td>\n",
       "      <td>772.0</td>\n",
       "      <td>792.0</td>\n",
       "    </tr>\n",
       "  </tbody>\n",
       "</table>\n",
       "<p>42535 rows × 16 columns</p>\n",
       "</div>"
      ],
      "text/plain": [
       "       loan_amnt  funded_amnt  int_rate  installment  emp_length  annual_inc  \\\n",
       "0         5000.0       5000.0     10.65       162.87        10.0     24000.0   \n",
       "1         2500.0       2500.0     15.27        59.83         1.0     30000.0   \n",
       "2         2400.0       2400.0     15.96        84.33        10.0     12252.0   \n",
       "3        10000.0      10000.0     13.49       339.31        10.0     49200.0   \n",
       "4         3000.0       3000.0     12.69        67.79         1.0     80000.0   \n",
       "...          ...          ...       ...          ...         ...         ...   \n",
       "42530     3500.0       3500.0     10.28       113.39         1.0     59000.0   \n",
       "42531     1000.0       1000.0      9.64        32.11         1.0     12000.0   \n",
       "42532     2525.0       2525.0      9.33        80.69         1.0    110000.0   \n",
       "42533     6500.0       6500.0      8.38       204.84         1.0     60000.0   \n",
       "42534     5000.0       5000.0      7.75       156.11        10.0     70000.0   \n",
       "\n",
       "       issue_d    dti  earliest_cr_line  inq_last_6mths  open_acc  revol_bal  \\\n",
       "0       2011.0  27.65            1985.0             1.0       3.0    13648.0   \n",
       "1       2011.0   1.00            1999.0             5.0       3.0     1687.0   \n",
       "2       2011.0   8.72            2001.0             2.0       2.0     2956.0   \n",
       "3       2011.0  20.00            1996.0             1.0      10.0     5598.0   \n",
       "4       2011.0  17.94            1996.0             0.0      15.0    27783.0   \n",
       "...        ...    ...               ...             ...       ...        ...   \n",
       "42530   2011.0  10.00            2007.0             0.0       7.0        0.0   \n",
       "42531   2011.0  10.00            2007.0             0.0       7.0        0.0   \n",
       "42532   2011.0  10.00            2007.0             0.0       7.0        0.0   \n",
       "42533   2011.0   4.00            2007.0             0.0       7.0        0.0   \n",
       "42534   2011.0   8.81            2007.0             0.0       7.0        0.0   \n",
       "\n",
       "       revol_util  total_acc  fico_mean  last_fico_mean  \n",
       "0            83.7        9.0      737.0           737.0  \n",
       "1             9.4        4.0      742.0           249.5  \n",
       "2            98.5       10.0      737.0           737.0  \n",
       "3            21.0       37.0      692.0           602.0  \n",
       "4            53.9       38.0      697.0           682.0  \n",
       "...           ...        ...        ...             ...  \n",
       "42530        49.7       20.0      687.0           817.0  \n",
       "42531        49.7       20.0      697.0           782.0  \n",
       "42532        49.7       20.0      712.0           712.0  \n",
       "42533        49.7       20.0      742.0           722.0  \n",
       "42534        49.7       20.0      772.0           792.0  \n",
       "\n",
       "[42535 rows x 16 columns]"
      ]
     },
     "execution_count": 6,
     "metadata": {},
     "output_type": "execute_result"
    }
   ],
   "source": [
    "# wczytuje dane z poprzedniej części\n",
    "data_outliers = pd.read_csv('data_outliers.csv')\n",
    "data_outliers.drop('Unnamed: 0', axis=1, inplace=True)\n",
    "data_outliers"
   ]
  },
  {
   "cell_type": "markdown",
   "metadata": {},
   "source": [
    "## 4. b) Modelowanie dla różnych algorytmów\n",
    "### Model na całym zbiorze - data_dummies"
   ]
  },
  {
   "cell_type": "markdown",
   "metadata": {},
   "source": [
    "### Train Test Split"
   ]
  },
  {
   "cell_type": "code",
   "execution_count": 7,
   "metadata": {},
   "outputs": [],
   "source": [
    "X = data_dummies.drop('loan_status',axis=1) \n",
    "#target\n",
    "Y = data_dummies['loan_status']\n",
    "\n",
    "X_train, X_test, y_train, y_test = train_test_split(X, Y, test_size=0.3, random_state=0)"
   ]
  },
  {
   "cell_type": "markdown",
   "metadata": {},
   "source": [
    "### Skalowanie "
   ]
  },
  {
   "cell_type": "code",
   "execution_count": 8,
   "metadata": {},
   "outputs": [
    {
     "data": {
      "text/plain": [
       "array([[-0.95313026, -0.95140853, -0.59377133, ..., -0.10937932,\n",
       "        -0.06622215, -0.0456804 ],\n",
       "       [-1.22287358, -1.23096153, -0.59377133, ..., -0.10937932,\n",
       "        -0.06622215, -0.0456804 ],\n",
       "       [ 0.12584299, -0.31891988, -0.59377133, ..., -0.10937932,\n",
       "        -0.06622215, -0.0456804 ],\n",
       "       ...,\n",
       "       [ 0.28768898,  0.33453524, -0.59377133, ..., -0.10937932,\n",
       "        -0.06622215, -0.0456804 ],\n",
       "       [ 0.66532962,  0.72590943,  1.68415002, ..., -0.10937932,\n",
       "        -0.06622215, -0.0456804 ],\n",
       "       [ 0.12584299,  0.16680344, -0.59377133, ..., -0.10937932,\n",
       "        -0.06622215, -0.0456804 ]])"
      ]
     },
     "execution_count": 8,
     "metadata": {},
     "output_type": "execute_result"
    }
   ],
   "source": [
    "sc = StandardScaler()\n",
    "X_train = sc.fit_transform(X_train)\n",
    "X_test = sc.transform(X_test)\n",
    "X_test "
   ]
  },
  {
   "cell_type": "markdown",
   "metadata": {},
   "source": [
    "### Logistic Regression"
   ]
  },
  {
   "cell_type": "code",
   "execution_count": 9,
   "metadata": {
    "scrolled": true
   },
   "outputs": [
    {
     "name": "stdout",
     "output_type": "stream",
     "text": [
      "              precision    recall  f1-score   support\n",
      "\n",
      "           0       0.68      0.22      0.34      1978\n",
      "           1       0.87      0.98      0.92     10783\n",
      "\n",
      "    accuracy                           0.86     12761\n",
      "   macro avg       0.77      0.60      0.63     12761\n",
      "weighted avg       0.84      0.86      0.83     12761\n",
      "\n",
      "[[  443  1535]\n",
      " [  213 10570]]\n",
      "Training accuracy: 0.8655874252703701\n",
      "Test accuracy: 0.863020139487501\n"
     ]
    }
   ],
   "source": [
    "log = LogisticRegression()\n",
    "log.fit(X_train, y_train)\n",
    "\n",
    "log_pred = log.predict(X_test)\n",
    "    \n",
    "# Summary of the prediction\n",
    "print(classification_report(y_test, log_pred))\n",
    "print(confusion_matrix(y_test, log_pred))\n",
    "\n",
    "# Accuracy\n",
    "print('Training accuracy:', log.score(X_train, y_train))\n",
    "print('Test accuracy:', log.score(X_test, y_test))"
   ]
  },
  {
   "cell_type": "code",
   "execution_count": 10,
   "metadata": {},
   "outputs": [
    {
     "name": "stdout",
     "output_type": "stream",
     "text": [
      "AUROC = 0.7742488867732543\n"
     ]
    }
   ],
   "source": [
    "auroc_log = roc_auc_score(log_pred,y_test)\n",
    "print('AUROC =', auroc_log)"
   ]
  },
  {
   "cell_type": "code",
   "execution_count": 11,
   "metadata": {},
   "outputs": [
    {
     "data": {
      "image/png": "[encoded data removed]",
      "text/plain": [
       "<Figure size 432x288 with 1 Axes>"
      ]
     },
     "metadata": {
      "needs_background": "light"
     },
     "output_type": "display_data"
    }
   ],
   "source": [
    "fpr, tpr, thresholds = roc_curve(y_test, log_pred)\n",
    "plt.figure(figsize=(6,4))\n",
    "plt.plot(fpr, tpr, linewidth=2)\n",
    "plt.plot([0,1], [0,1], 'k--' )\n",
    "plt.rcParams['font.size'] = 12\n",
    "plt.title('ROC curve for Logistic Regression')\n",
    "plt.xlabel('False Positive Rate (1 - Specificity)')\n",
    "plt.ylabel('True Positive Rate (Sensitivity)')\n",
    "plt.show()"
   ]
  },
  {
   "cell_type": "markdown",
   "metadata": {},
   "source": [
    "### Logistic Regression z regularyzacją - 5 parametrów"
   ]
  },
  {
   "cell_type": "code",
   "execution_count": 12,
   "metadata": {
    "scrolled": false
   },
   "outputs": [
    {
     "name": "stdout",
     "output_type": "stream",
     "text": [
      "              precision    recall  f1-score   support\n",
      "\n",
      "           0       0.66      0.08      0.14      1978\n",
      "           1       0.85      0.99      0.92     10783\n",
      "\n",
      "    accuracy                           0.85     12761\n",
      "   macro avg       0.75      0.53      0.53     12761\n",
      "weighted avg       0.82      0.85      0.80     12761\n",
      "\n",
      "[[  150  1828]\n",
      " [   79 10704]]\n",
      "\n",
      "C: 0.001\n",
      "Training accuracy: 0.8552764156646738\n",
      "Test accuracy: 0.8505603009168561\n",
      "\n",
      "AUROC = 0.7545776262549533\n",
      "\n",
      "              precision    recall  f1-score   support\n",
      "\n",
      "           0       0.68      0.19      0.29      1978\n",
      "           1       0.87      0.98      0.92     10783\n",
      "\n",
      "    accuracy                           0.86     12761\n",
      "   macro avg       0.78      0.59      0.61     12761\n",
      "weighted avg       0.84      0.86      0.83     12761\n",
      "\n",
      "[[  371  1607]\n",
      " [  171 10612]]\n",
      "\n",
      "C: 0.01\n",
      "Training accuracy: 0.8638745213945053\n",
      "Test accuracy: 0.8606692265496434\n",
      "\n",
      "AUROC = 0.7764926771536311\n",
      "\n",
      "              precision    recall  f1-score   support\n",
      "\n",
      "           0       0.68      0.22      0.34      1978\n",
      "           1       0.87      0.98      0.92     10783\n",
      "\n",
      "    accuracy                           0.86     12761\n",
      "   macro avg       0.77      0.60      0.63     12761\n",
      "weighted avg       0.84      0.86      0.83     12761\n",
      "\n",
      "[[  443  1535]\n",
      " [  213 10570]]\n",
      "\n",
      "C: 10\n",
      "Training accuracy: 0.8655538389198629\n",
      "Test accuracy: 0.863020139487501\n",
      "\n",
      "AUROC = 0.7742488867732543\n",
      "\n",
      "              precision    recall  f1-score   support\n",
      "\n",
      "           0       0.68      0.22      0.34      1978\n",
      "           1       0.87      0.98      0.92     10783\n",
      "\n",
      "    accuracy                           0.86     12761\n",
      "   macro avg       0.77      0.60      0.63     12761\n",
      "weighted avg       0.84      0.86      0.83     12761\n",
      "\n",
      "[[  443  1535]\n",
      " [  213 10570]]\n",
      "\n",
      "C: 100\n",
      "Training accuracy: 0.8655538389198629\n",
      "Test accuracy: 0.863020139487501\n",
      "\n",
      "AUROC = 0.7742488867732543\n",
      "\n",
      "              precision    recall  f1-score   support\n",
      "\n",
      "           0       0.68      0.22      0.34      1978\n",
      "           1       0.87      0.98      0.92     10783\n",
      "\n",
      "    accuracy                           0.86     12761\n",
      "   macro avg       0.77      0.60      0.63     12761\n",
      "weighted avg       0.84      0.86      0.83     12761\n",
      "\n",
      "[[  443  1535]\n",
      " [  213 10570]]\n",
      "\n",
      "C: 1000\n",
      "Training accuracy: 0.8655538389198629\n",
      "Test accuracy: 0.863020139487501\n",
      "\n",
      "AUROC = 0.7742488867732543\n",
      "\n"
     ]
    }
   ],
   "source": [
    "C = [.001, .01, 10, 100, 1000]\n",
    "\n",
    "for c in C:\n",
    "    log1 = LogisticRegression(penalty='l1', C=c, solver='liblinear')\n",
    "    log1.fit(X_train, y_train)\n",
    "    \n",
    "    log1_pred = log1.predict(X_test)\n",
    "    \n",
    "    # Summary of the prediction\n",
    "    print(classification_report(y_test, log1_pred))\n",
    "    print(confusion_matrix(y_test, log1_pred))\n",
    "    print('')\n",
    "    print('C:', c)\n",
    "    # Accuracy\n",
    "    # print('Coefficient of each feature:', log1.coef_)\n",
    "    print('Training accuracy:', log1.score(X_train, y_train))\n",
    "    print('Test accuracy:', log1.score(X_test, y_test))\n",
    "    print('')\n",
    "    auroc_lrc = roc_auc_score(log1_pred,y_test)\n",
    "    print('AUROC =', auroc_lrc)\n",
    "    print('')"
   ]
  },
  {
   "cell_type": "code",
   "execution_count": 13,
   "metadata": {},
   "outputs": [
    {
     "data": {
      "image/png": "[encoded data removed]",
      "text/plain": [
       "<Figure size 432x288 with 1 Axes>"
      ]
     },
     "metadata": {
      "needs_background": "light"
     },
     "output_type": "display_data"
    }
   ],
   "source": [
    "fpr, tpr, thresholds = roc_curve(y_test, log1_pred)\n",
    "plt.figure(figsize=(6,4))\n",
    "plt.plot(fpr, tpr, linewidth=2)\n",
    "plt.plot([0,1], [0,1], 'k--' )\n",
    "plt.rcParams['font.size'] = 12\n",
    "plt.title('ROC curve dla Logistic Regression z regularyzacją')\n",
    "plt.xlabel('False Positive Rate (1 - Specificity)')\n",
    "plt.ylabel('True Positive Rate (Sensitivity)')\n",
    "plt.show()"
   ]
  },
  {
   "cell_type": "markdown",
   "metadata": {},
   "source": [
    "### Decision Tree"
   ]
  },
  {
   "cell_type": "markdown",
   "metadata": {},
   "source": [
    "Pierwotnie dla max_depth = None głębokość wyszła 41 \n",
    "wyniki: \n",
    "- max_depth = 41: {'f1-score': 0.89, 'accuracy': 0.81}\n",
    "- max_depth = 30: {'f1-score': 0.89, 'accuracy': 0.82} \n",
    "- max_depth = 10: {'f1-score': 0.91, 'accuracy': 0.85}\n",
    "- max_depth = 6: {'f1-score': 0.92, 'accuracy': 0.86}\n",
    "- max_depth = 2: {'f1-score': 0.92, 'accuracy': 0.86} zostawiam na wartości 2. "
   ]
  },
  {
   "cell_type": "code",
   "execution_count": 14,
   "metadata": {},
   "outputs": [],
   "source": [
    "dtree = DecisionTreeClassifier(max_depth = 2, random_state = 0)"
   ]
  },
  {
   "cell_type": "code",
   "execution_count": 15,
   "metadata": {},
   "outputs": [
    {
     "data": {
      "text/plain": [
       "{'ccp_alpha': 0.0,\n",
       " 'class_weight': None,\n",
       " 'criterion': 'gini',\n",
       " 'max_depth': 2,\n",
       " 'max_features': None,\n",
       " 'max_leaf_nodes': None,\n",
       " 'min_impurity_decrease': 0.0,\n",
       " 'min_impurity_split': None,\n",
       " 'min_samples_leaf': 1,\n",
       " 'min_samples_split': 2,\n",
       " 'min_weight_fraction_leaf': 0.0,\n",
       " 'presort': 'deprecated',\n",
       " 'random_state': 0,\n",
       " 'splitter': 'best'}"
      ]
     },
     "execution_count": 15,
     "metadata": {},
     "output_type": "execute_result"
    }
   ],
   "source": [
    "dtree.get_params()"
   ]
  },
  {
   "cell_type": "code",
   "execution_count": 16,
   "metadata": {},
   "outputs": [
    {
     "data": {
      "text/plain": [
       "DecisionTreeClassifier(max_depth=2, random_state=0)"
      ]
     },
     "execution_count": 16,
     "metadata": {},
     "output_type": "execute_result"
    }
   ],
   "source": [
    "dtree.fit(X_train,y_train)"
   ]
  },
  {
   "cell_type": "code",
   "execution_count": 17,
   "metadata": {},
   "outputs": [],
   "source": [
    "def evaluate(prediction,y_test): \n",
    "    result = classification_report(y_test,prediction,output_dict=True)\n",
    "    f1 = result['1']['f1-score']\n",
    "    accuracy = result['accuracy']\n",
    "    performance_data= {'f1-score':round(f1, 2),\n",
    "                      'accuracy':round(accuracy, 2)}\n",
    "    return performance_data"
   ]
  },
  {
   "cell_type": "code",
   "execution_count": 18,
   "metadata": {},
   "outputs": [],
   "source": [
    "dt_prediction = dtree.predict(X_test)"
   ]
  },
  {
   "cell_type": "code",
   "execution_count": 19,
   "metadata": {},
   "outputs": [
    {
     "name": "stdout",
     "output_type": "stream",
     "text": [
      "              precision    recall  f1-score   support\n",
      "\n",
      "           0       0.56      0.32      0.41      1978\n",
      "           1       0.88      0.95      0.92     10783\n",
      "\n",
      "    accuracy                           0.86     12761\n",
      "   macro avg       0.72      0.64      0.66     12761\n",
      "weighted avg       0.83      0.86      0.84     12761\n",
      "\n",
      "[[  632  1346]\n",
      " [  504 10279]]\n",
      "Training accuracy: 0.8585342916638679\n",
      "Test accuracy: 0.8550270354987853\n"
     ]
    }
   ],
   "source": [
    "dtree_pr = evaluate(dt_prediction,y_test)\n",
    "dtree_pr\n",
    "\n",
    "# Summary of the prediction\n",
    "print(classification_report(y_test, dt_prediction))\n",
    "print(confusion_matrix(y_test, dt_prediction))\n",
    "# Accuracy\n",
    "print('Training accuracy:', dtree.score(X_train, y_train))\n",
    "print('Test accuracy:', dtree.score(X_test, y_test))"
   ]
  },
  {
   "cell_type": "code",
   "execution_count": 20,
   "metadata": {},
   "outputs": [
    {
     "name": "stdout",
     "output_type": "stream",
     "text": [
      "AUROC = 0.7202765409662275\n"
     ]
    }
   ],
   "source": [
    "auroc_dtree = roc_auc_score(dt_prediction,y_test)\n",
    "print('AUROC =', auroc_dtree)"
   ]
  },
  {
   "cell_type": "code",
   "execution_count": 21,
   "metadata": {},
   "outputs": [
    {
     "data": {
      "image/png": "[encoded data removed]",
      "text/plain": [
       "<Figure size 432x288 with 1 Axes>"
      ]
     },
     "metadata": {
      "needs_background": "light"
     },
     "output_type": "display_data"
    }
   ],
   "source": [
    "fpr, tpr, thresholds = roc_curve(y_test, dt_prediction)\n",
    "plt.figure(figsize=(6,4))\n",
    "plt.plot(fpr, tpr, linewidth=2)\n",
    "plt.plot([0,1], [0,1], 'k--' )\n",
    "plt.rcParams['font.size'] = 12\n",
    "plt.title('ROC curve for DecisionTreeClassifier')\n",
    "plt.xlabel('False Positive Rate (1 - Specificity)')\n",
    "plt.ylabel('True Positive Rate (Sensitivity)')\n",
    "plt.show()"
   ]
  },
  {
   "cell_type": "code",
   "execution_count": 22,
   "metadata": {
    "scrolled": false
   },
   "outputs": [
    {
     "data": {
      "text/plain": [
       "[Text(167.4, 181.2, 'X[21] <= -0.3\\ngini = 0.254\\nsamples = 29774\\nvalue = [4453, 25321]'),\n",
       " Text(83.7, 108.72, 'X[2] <= 0.545\\ngini = 0.476\\nsamples = 8780\\nvalue = [3435, 5345]'),\n",
       " Text(41.85, 36.23999999999998, 'gini = 0.44\\nsamples = 6201\\nvalue = [2025, 4176]'),\n",
       " Text(125.55000000000001, 36.23999999999998, 'gini = 0.496\\nsamples = 2579\\nvalue = [1410, 1169]'),\n",
       " Text(251.10000000000002, 108.72, 'X[21] <= 0.01\\ngini = 0.092\\nsamples = 20994\\nvalue = [1018, 19976]'),\n",
       " Text(209.25, 36.23999999999998, 'gini = 0.256\\nsamples = 3936\\nvalue = [592, 3344]'),\n",
       " Text(292.95, 36.23999999999998, 'gini = 0.049\\nsamples = 17058\\nvalue = [426, 16632]')]"
      ]
     },
     "execution_count": 22,
     "metadata": {},
     "output_type": "execute_result"
    },
    {
     "data": {
      "image/png": "[encoded data removed]",
      "text/plain": [
       "<Figure size 432x288 with 1 Axes>"
      ]
     },
     "metadata": {
      "needs_background": "light"
     },
     "output_type": "display_data"
    }
   ],
   "source": [
    "tree.plot_tree(dtree)"
   ]
  },
  {
   "cell_type": "code",
   "execution_count": 23,
   "metadata": {},
   "outputs": [
    {
     "name": "stdout",
     "output_type": "stream",
     "text": [
      "The maximum depth of the tree 2\n"
     ]
    }
   ],
   "source": [
    "def get_depth(dtree):\n",
    "    check_is_fitted(self)\n",
    "    return dtree.tree_.max_depth\n",
    "print('The maximum depth of the tree', dtree.tree_.max_depth)"
   ]
  },
  {
   "cell_type": "markdown",
   "metadata": {},
   "source": [
    "### Random Forest Classifier"
   ]
  },
  {
   "cell_type": "code",
   "execution_count": 24,
   "metadata": {},
   "outputs": [],
   "source": [
    "rf = RandomForestClassifier(n_estimators=100, random_state=0)"
   ]
  },
  {
   "cell_type": "code",
   "execution_count": 25,
   "metadata": {},
   "outputs": [
    {
     "data": {
      "text/plain": [
       "RandomForestClassifier(random_state=0)"
      ]
     },
     "execution_count": 25,
     "metadata": {},
     "output_type": "execute_result"
    }
   ],
   "source": [
    "rf.fit(X_train, y_train)"
   ]
  },
  {
   "cell_type": "code",
   "execution_count": 26,
   "metadata": {},
   "outputs": [],
   "source": [
    "rf_prediction = rf.predict(X_test)"
   ]
  },
  {
   "cell_type": "code",
   "execution_count": 27,
   "metadata": {},
   "outputs": [
    {
     "name": "stdout",
     "output_type": "stream",
     "text": [
      "              precision    recall  f1-score   support\n",
      "\n",
      "           0       0.67      0.20      0.31      1978\n",
      "           1       0.87      0.98      0.92     10783\n",
      "\n",
      "    accuracy                           0.86     12761\n",
      "   macro avg       0.77      0.59      0.61     12761\n",
      "weighted avg       0.84      0.86      0.83     12761\n",
      "\n",
      "[[  393  1585]\n",
      " [  193 10590]]\n",
      "Training accuracy: 1.0\n",
      "Test accuracy: 0.8606692265496434\n"
     ]
    }
   ],
   "source": [
    "rf_pr = evaluate(rf_prediction,y_test)\n",
    "rf_pr\n",
    "\n",
    "# Summary of the prediction\n",
    "print(classification_report(y_test, rf_prediction))\n",
    "print(confusion_matrix(y_test, rf_prediction))\n",
    "# Accuracy\n",
    "print('Training accuracy:', rf.score(X_train, y_train))\n",
    "print('Test accuracy:', rf.score(X_test, y_test))"
   ]
  },
  {
   "cell_type": "code",
   "execution_count": 28,
   "metadata": {},
   "outputs": [
    {
     "name": "stdout",
     "output_type": "stream",
     "text": [
      "0.7702318296178455\n"
     ]
    }
   ],
   "source": [
    "auroc_rf = roc_auc_score(rf_prediction,y_test)\n",
    "print(auroc_rf)"
   ]
  },
  {
   "cell_type": "code",
   "execution_count": 29,
   "metadata": {},
   "outputs": [
    {
     "data": {
      "image/png": "[encoded data removed]",
      "text/plain": [
       "<Figure size 432x288 with 1 Axes>"
      ]
     },
     "metadata": {
      "needs_background": "light"
     },
     "output_type": "display_data"
    }
   ],
   "source": [
    "fpr, tpr, thresholds = roc_curve(y_test, rf_prediction)\n",
    "plt.figure(figsize=(6,4))\n",
    "plt.plot(fpr, tpr, linewidth=2)\n",
    "plt.plot([0,1], [0,1], 'k--' )\n",
    "plt.rcParams['font.size'] = 12\n",
    "plt.title('ROC curve for RandomForestClassifier')\n",
    "plt.xlabel('False Positive Rate (1 - Specificity)')\n",
    "plt.ylabel('True Positive Rate (Sensitivity)')\n",
    "plt.show()"
   ]
  },
  {
   "cell_type": "markdown",
   "metadata": {},
   "source": [
    "### Support Vector Machine (SVM)"
   ]
  },
  {
   "cell_type": "code",
   "execution_count": 30,
   "metadata": {},
   "outputs": [],
   "source": [
    "# model = SVC(C=100, random_state = 12)\n",
    "supvm = SVC(C=1.0, kernel='linear', random_state = 12)"
   ]
  },
  {
   "cell_type": "code",
   "execution_count": 31,
   "metadata": {},
   "outputs": [
    {
     "data": {
      "text/plain": [
       "SVC(kernel='linear', random_state=12)"
      ]
     },
     "execution_count": 31,
     "metadata": {},
     "output_type": "execute_result"
    }
   ],
   "source": [
    "supvm.fit(X_train,y_train)"
   ]
  },
  {
   "cell_type": "code",
   "execution_count": 32,
   "metadata": {},
   "outputs": [],
   "source": [
    "svm_prediction = supvm.predict(X_test)"
   ]
  },
  {
   "cell_type": "code",
   "execution_count": 33,
   "metadata": {},
   "outputs": [
    {
     "name": "stdout",
     "output_type": "stream",
     "text": [
      "              precision    recall  f1-score   support\n",
      "\n",
      "           0       0.66      0.08      0.14      1978\n",
      "           1       0.85      0.99      0.92     10783\n",
      "\n",
      "    accuracy                           0.85     12761\n",
      "   macro avg       0.75      0.54      0.53     12761\n",
      "weighted avg       0.82      0.85      0.80     12761\n",
      "\n",
      "[[  154  1824]\n",
      " [   81 10702]]\n",
      "Training accuracy: 0.8556458655202526\n",
      "Test accuracy: 0.8507170284460466\n"
     ]
    }
   ],
   "source": [
    "svm_pr = evaluate(svm_prediction,y_test)\n",
    "svm_pr\n",
    "# Summary of the prediction\n",
    "print(classification_report(y_test, svm_prediction))\n",
    "print(confusion_matrix(y_test, svm_prediction))\n",
    "\n",
    "# Accuracy\n",
    "print('Training accuracy:', supvm.score(X_train, y_train))\n",
    "print('Test accuracy:', supvm.score(X_test, y_test))"
   ]
  },
  {
   "cell_type": "code",
   "execution_count": 34,
   "metadata": {},
   "outputs": [
    {
     "name": "stdout",
     "output_type": "stream",
     "text": [
      "AUROC = 0.754851016269139\n"
     ]
    }
   ],
   "source": [
    "auroc_svm = roc_auc_score(svm_prediction,y_test)\n",
    "print('AUROC =', auroc_svm)"
   ]
  },
  {
   "cell_type": "code",
   "execution_count": 35,
   "metadata": {},
   "outputs": [
    {
     "data": {
      "image/png": "[encoded data removed]",
      "text/plain": [
       "<Figure size 432x288 with 1 Axes>"
      ]
     },
     "metadata": {
      "needs_background": "light"
     },
     "output_type": "display_data"
    }
   ],
   "source": [
    "fpr, tpr, thresholds = roc_curve(y_test, svm_prediction)\n",
    "plt.figure(figsize=(6,4))\n",
    "plt.plot(fpr, tpr, linewidth=2)\n",
    "plt.plot([0,1], [0,1], 'k--' )\n",
    "plt.rcParams['font.size'] = 12\n",
    "plt.title('ROC curve for Support Vector Machine (SVM)')\n",
    "plt.xlabel('False Positive Rate (1 - Specificity)')\n",
    "plt.ylabel('True Positive Rate (Sensitivity)')\n",
    "plt.show()"
   ]
  },
  {
   "cell_type": "markdown",
   "metadata": {},
   "source": [
    "### K Nearest Neighbors (KNN)"
   ]
  },
  {
   "cell_type": "code",
   "execution_count": 36,
   "metadata": {},
   "outputs": [],
   "source": [
    "knn = KNeighborsClassifier(n_neighbors=2)"
   ]
  },
  {
   "cell_type": "code",
   "execution_count": 37,
   "metadata": {},
   "outputs": [
    {
     "data": {
      "text/plain": [
       "{'algorithm': 'auto',\n",
       " 'leaf_size': 30,\n",
       " 'metric': 'minkowski',\n",
       " 'metric_params': None,\n",
       " 'n_jobs': None,\n",
       " 'n_neighbors': 2,\n",
       " 'p': 2,\n",
       " 'weights': 'uniform'}"
      ]
     },
     "execution_count": 37,
     "metadata": {},
     "output_type": "execute_result"
    }
   ],
   "source": [
    "knn.get_params()"
   ]
  },
  {
   "cell_type": "code",
   "execution_count": 38,
   "metadata": {},
   "outputs": [
    {
     "data": {
      "text/plain": [
       "KNeighborsClassifier(n_neighbors=2)"
      ]
     },
     "execution_count": 38,
     "metadata": {},
     "output_type": "execute_result"
    }
   ],
   "source": [
    "knn.fit(X_train,y_train)"
   ]
  },
  {
   "cell_type": "code",
   "execution_count": 39,
   "metadata": {},
   "outputs": [],
   "source": [
    "knn_prediction = knn.predict(X_test)"
   ]
  },
  {
   "cell_type": "code",
   "execution_count": 40,
   "metadata": {},
   "outputs": [
    {
     "name": "stdout",
     "output_type": "stream",
     "text": [
      "              precision    recall  f1-score   support\n",
      "\n",
      "           0       0.26      0.38      0.31      1978\n",
      "           1       0.88      0.80      0.84     10783\n",
      "\n",
      "    accuracy                           0.74     12761\n",
      "   macro avg       0.57      0.59      0.57     12761\n",
      "weighted avg       0.78      0.74      0.76     12761\n",
      "\n",
      "[[ 752 1226]\n",
      " [2129 8654]]\n",
      "Training accuracy: 0.9072009135487338\n",
      "Test accuracy: 0.7370895697829324\n"
     ]
    }
   ],
   "source": [
    "knn_pr = evaluate(knn_prediction,y_test)\n",
    "knn_pr\n",
    "# Summary of the prediction\n",
    "print(classification_report(y_test, knn_prediction))\n",
    "print(confusion_matrix(y_test, knn_prediction))\n",
    "# Accuracy\n",
    "print('Training accuracy:', knn.score(X_train, y_train))\n",
    "print('Test accuracy:', knn.score(X_test, y_test))"
   ]
  },
  {
   "cell_type": "code",
   "execution_count": 41,
   "metadata": {},
   "outputs": [
    {
     "name": "stdout",
     "output_type": "stream",
     "text": [
      "AUROC = 0.568465705087218\n"
     ]
    }
   ],
   "source": [
    "auroc_knn = roc_auc_score(knn_prediction,y_test)\n",
    "print('AUROC =', auroc_knn)"
   ]
  },
  {
   "cell_type": "code",
   "execution_count": 42,
   "metadata": {},
   "outputs": [
    {
     "data": {
      "image/png": "[encoded data removed]",
      "text/plain": [
       "<Figure size 432x288 with 1 Axes>"
      ]
     },
     "metadata": {
      "needs_background": "light"
     },
     "output_type": "display_data"
    }
   ],
   "source": [
    "fpr, tpr, thresholds = roc_curve(y_test, knn_prediction)\n",
    "plt.figure(figsize=(6,4))\n",
    "plt.plot(fpr, tpr, linewidth=2)\n",
    "plt.plot([0,1], [0,1], 'k--' )\n",
    "plt.rcParams['font.size'] = 12\n",
    "plt.title('ROC curve for K=2 Nearest Neighbors (KNN)')\n",
    "plt.xlabel('False Positive Rate (1 - Specificity)')\n",
    "plt.ylabel('True Positive Rate (Sensitivity)')\n",
    "plt.show()"
   ]
  },
  {
   "cell_type": "markdown",
   "metadata": {},
   "source": [
    "#### Szukamy optymalnej wartości k "
   ]
  },
  {
   "cell_type": "code",
   "execution_count": 43,
   "metadata": {},
   "outputs": [
    {
     "name": "stdout",
     "output_type": "stream",
     "text": [
      "n_neighbors= [0.7370895697829324]\n",
      "n_neighbors= [0.7370895697829324, 0.8308126322388527]\n",
      "n_neighbors= [0.7370895697829324, 0.8308126322388527, 0.814042786615469]\n",
      "n_neighbors= [0.7370895697829324, 0.8308126322388527, 0.814042786615469, 0.8405297390486639]\n",
      "n_neighbors= [0.7370895697829324, 0.8308126322388527, 0.814042786615469, 0.8405297390486639, 0.8352010030561868]\n",
      "n_neighbors= [0.7370895697829324, 0.8308126322388527, 0.814042786615469, 0.8405297390486639, 0.8352010030561868, 0.8442911997492359]\n",
      "n_neighbors= [0.7370895697829324, 0.8308126322388527, 0.814042786615469, 0.8405297390486639, 0.8352010030561868, 0.8442911997492359, 0.8423321056343547]\n",
      "n_neighbors= [0.7370895697829324, 0.8308126322388527, 0.814042786615469, 0.8405297390486639, 0.8352010030561868, 0.8442911997492359, 0.8423321056343547, 0.8460935663349267]\n",
      "n_neighbors= [0.7370895697829324, 0.8308126322388527, 0.814042786615469, 0.8405297390486639, 0.8352010030561868, 0.8442911997492359, 0.8423321056343547, 0.8460935663349267, 0.8441344722200455]\n"
     ]
    }
   ],
   "source": [
    "scores = [] \n",
    "\n",
    "for k in range(2, 11):\n",
    "    knn = KNeighborsClassifier(n_neighbors=k)\n",
    "    knn.fit(X_train,y_train)\n",
    "    knn_prediction = knn.predict(X_test)\n",
    "    scores.append(accuracy_score(knn_prediction,y_test)) \n",
    "    print('n_neighbors=', scores)"
   ]
  },
  {
   "cell_type": "code",
   "execution_count": 44,
   "metadata": {},
   "outputs": [
    {
     "name": "stdout",
     "output_type": "stream",
     "text": [
      "[0.2104850717028446, 0.2629104302170676, 0.16918736776114723, 0.185957213384531, 0.1594702609513361, 0.16479899694381317, 0.15570880025076406, 0.15766789436564532, 0.15390643366507328]\n"
     ]
    }
   ],
   "source": [
    "error_rate = [] \n",
    "\n",
    "max_k = 10\n",
    "\n",
    "for k in range(1, max_k):\n",
    "    knn = KNeighborsClassifier(n_neighbors=k)\n",
    "    knn.fit(X_train,y_train)\n",
    "    knn_prediction = knn.predict(X_test)\n",
    "    error_rate.append(np.mean(knn_prediction != y_test))\n",
    "print(error_rate)"
   ]
  },
  {
   "cell_type": "code",
   "execution_count": 45,
   "metadata": {},
   "outputs": [
    {
     "data": {
      "text/plain": [
       "Text(0, 0.5, 'Error Rate')"
      ]
     },
     "execution_count": 45,
     "metadata": {},
     "output_type": "execute_result"
    },
    {
     "data": {
      "image/png": "[encoded data removed]",
      "text/plain": [
       "<Figure size 720x432 with 1 Axes>"
      ]
     },
     "metadata": {
      "needs_background": "light"
     },
     "output_type": "display_data"
    }
   ],
   "source": [
    "plt.figure(figsize=(10,6))\n",
    "plt.plot(range(1, max_k), error_rate, color = 'blue', linestyle='dashed', marker='o', markerfacecolor='red', markersize=10)\n",
    "plt.title('Error Rate vs. K Value')\n",
    "plt.xlabel('K')\n",
    "plt.ylabel('Error Rate')"
   ]
  },
  {
   "cell_type": "markdown",
   "metadata": {},
   "source": [
    "### sprawdź knn dla innej wartości k "
   ]
  },
  {
   "cell_type": "code",
   "execution_count": 46,
   "metadata": {},
   "outputs": [],
   "source": [
    "knn1 = KNeighborsClassifier()"
   ]
  },
  {
   "cell_type": "code",
   "execution_count": 47,
   "metadata": {},
   "outputs": [
    {
     "data": {
      "text/plain": [
       "KNeighborsClassifier()"
      ]
     },
     "execution_count": 47,
     "metadata": {},
     "output_type": "execute_result"
    }
   ],
   "source": [
    "knn1.fit(X_train,y_train)"
   ]
  },
  {
   "cell_type": "code",
   "execution_count": 48,
   "metadata": {},
   "outputs": [],
   "source": [
    "knn1_prediction = knn.predict(X_test)"
   ]
  },
  {
   "cell_type": "code",
   "execution_count": 49,
   "metadata": {},
   "outputs": [
    {
     "name": "stdout",
     "output_type": "stream",
     "text": [
      "              precision    recall  f1-score   support\n",
      "\n",
      "           0       0.54      0.05      0.10      1978\n",
      "           1       0.85      0.99      0.92     10783\n",
      "\n",
      "    accuracy                           0.85     12761\n",
      "   macro avg       0.69      0.52      0.51     12761\n",
      "weighted avg       0.80      0.85      0.79     12761\n",
      "\n",
      "[[  104  1874]\n",
      " [   90 10693]]\n",
      "Training accuracy: 0.8720360045677437\n",
      "Test accuracy: 0.8405297390486639\n"
     ]
    }
   ],
   "source": [
    "knn1_pr = evaluate(knn1_prediction,y_test)\n",
    "knn1_pr\n",
    "# Summary of the prediction\n",
    "print(classification_report(y_test, knn1_prediction))\n",
    "print(confusion_matrix(y_test, knn1_prediction))\n",
    "# Accuracy\n",
    "print('Training accuracy:', knn1.score(X_train, y_train))\n",
    "print('Test accuracy:', knn1.score(X_test, y_test))"
   ]
  },
  {
   "cell_type": "code",
   "execution_count": 50,
   "metadata": {},
   "outputs": [
    {
     "name": "stdout",
     "output_type": "stream",
     "text": [
      "AUROC = 0.6934808806241843\n"
     ]
    }
   ],
   "source": [
    "auroc_knn1 = roc_auc_score(knn1_prediction,y_test)\n",
    "print('AUROC =', auroc_knn1)"
   ]
  },
  {
   "cell_type": "code",
   "execution_count": 51,
   "metadata": {},
   "outputs": [
    {
     "data": {
      "image/png": "[encoded data removed]",
      "text/plain": [
       "<Figure size 432x288 with 1 Axes>"
      ]
     },
     "metadata": {
      "needs_background": "light"
     },
     "output_type": "display_data"
    }
   ],
   "source": [
    "fpr, tpr, thresholds = roc_curve(y_test, knn1_prediction)\n",
    "plt.figure(figsize=(6,4))\n",
    "plt.plot(fpr, tpr, linewidth=2)\n",
    "plt.plot([0,1], [0,1], 'k--' )\n",
    "plt.rcParams['font.size'] = 12\n",
    "plt.title('ROC curve for K=5 Nearest Neighbors (KNN)')\n",
    "plt.xlabel('False Positive Rate (1 - Specificity)')\n",
    "plt.ylabel('True Positive Rate (Sensitivity)')\n",
    "plt.show()"
   ]
  },
  {
   "cell_type": "markdown",
   "metadata": {},
   "source": [
    "### Bagging Classifier"
   ]
  },
  {
   "cell_type": "code",
   "execution_count": 52,
   "metadata": {},
   "outputs": [
    {
     "name": "stdout",
     "output_type": "stream",
     "text": [
      "              precision    recall  f1-score   support\n",
      "\n",
      "           0       0.51      0.41      0.46      1978\n",
      "           1       0.90      0.93      0.91     10783\n",
      "\n",
      "    accuracy                           0.85     12761\n",
      "   macro avg       0.70      0.67      0.68     12761\n",
      "weighted avg       0.84      0.85      0.84     12761\n",
      "\n",
      "[[ 818 1160]\n",
      " [ 796 9987]]\n"
     ]
    }
   ],
   "source": [
    "xgbc = BaggingClassifier(tree.DecisionTreeClassifier(random_state=1))\n",
    "xgbc.fit(X_train,y_train)\n",
    "xgbc_prediction = xgbc.predict(X_test)\n",
    "\n",
    "xgbc = evaluate(xgbc_prediction,y_test)\n",
    "xgbc\n",
    "\n",
    "# Summary of the prediction\n",
    "print(classification_report(y_test, xgbc_prediction))\n",
    "print(confusion_matrix(y_test, xgbc_prediction))"
   ]
  },
  {
   "cell_type": "code",
   "execution_count": 53,
   "metadata": {},
   "outputs": [
    {
     "name": "stdout",
     "output_type": "stream",
     "text": [
      "AUROC = 0.7013757459317187\n"
     ]
    }
   ],
   "source": [
    "auroc_xgbc = roc_auc_score(xgbc_prediction,y_test)\n",
    "print('AUROC =', auroc_xgbc)"
   ]
  },
  {
   "cell_type": "code",
   "execution_count": 54,
   "metadata": {},
   "outputs": [
    {
     "data": {
      "image/png": "[encoded data removed]",
      "text/plain": [
       "<Figure size 432x288 with 1 Axes>"
      ]
     },
     "metadata": {
      "needs_background": "light"
     },
     "output_type": "display_data"
    }
   ],
   "source": [
    "fpr, tpr, thresholds = roc_curve(y_test, xgbc_prediction)\n",
    "plt.figure(figsize=(6,4))\n",
    "plt.plot(fpr, tpr, linewidth=2)\n",
    "plt.plot([0,1], [0,1], 'k--' )\n",
    "plt.rcParams['font.size'] = 12\n",
    "plt.title('ROC curve for Bagging Classifier')\n",
    "plt.xlabel('False Positive Rate (1 - Specificity)')\n",
    "plt.ylabel('True Positive Rate (Sensitivity)')\n",
    "plt.show()"
   ]
  },
  {
   "cell_type": "markdown",
   "metadata": {},
   "source": [
    "### ADA Boost Classifier "
   ]
  },
  {
   "cell_type": "code",
   "execution_count": 55,
   "metadata": {},
   "outputs": [
    {
     "name": "stdout",
     "output_type": "stream",
     "text": [
      "              precision    recall  f1-score   support\n",
      "\n",
      "           0       0.59      0.32      0.41      1978\n",
      "           1       0.88      0.96      0.92     10783\n",
      "\n",
      "    accuracy                           0.86     12761\n",
      "   macro avg       0.74      0.64      0.67     12761\n",
      "weighted avg       0.84      0.86      0.84     12761\n",
      "\n",
      "              precision    recall  f1-score   support\n",
      "\n",
      "           0       0.59      0.32      0.41      1978\n",
      "           1       0.88      0.96      0.92     10783\n",
      "\n",
      "    accuracy                           0.86     12761\n",
      "   macro avg       0.74      0.64      0.67     12761\n",
      "weighted avg       0.84      0.86      0.84     12761\n",
      "\n",
      "[[  629  1349]\n",
      " [  430 10353]]\n"
     ]
    }
   ],
   "source": [
    "ada = AdaBoostClassifier(random_state=1)\n",
    "ada.fit(X_train, y_train)\n",
    "ada_prediction = ada.predict(X_test)\n",
    "print(classification_report(y_test, ada_prediction))\n",
    "ada = evaluate(ada_prediction,y_test)\n",
    "ada\n",
    "\n",
    "# Summary of the prediction\n",
    "print(classification_report(y_test, ada_prediction))\n",
    "print(confusion_matrix(y_test, ada_prediction))"
   ]
  },
  {
   "cell_type": "code",
   "execution_count": 56,
   "metadata": {},
   "outputs": [
    {
     "name": "stdout",
     "output_type": "stream",
     "text": [
      "AUROC = 0.7393385616915116\n"
     ]
    }
   ],
   "source": [
    "auroc_ada = roc_auc_score(ada_prediction,y_test)\n",
    "print('AUROC =', auroc_ada)"
   ]
  },
  {
   "cell_type": "code",
   "execution_count": 57,
   "metadata": {},
   "outputs": [
    {
     "data": {
      "image/png": "[encoded data removed]",
      "text/plain": [
       "<Figure size 432x288 with 1 Axes>"
      ]
     },
     "metadata": {
      "needs_background": "light"
     },
     "output_type": "display_data"
    }
   ],
   "source": [
    "fpr, tpr, thresholds = roc_curve(y_test, ada_prediction)\n",
    "plt.figure(figsize=(6,4))\n",
    "plt.plot(fpr, tpr, linewidth=2)\n",
    "plt.plot([0,1], [0,1], 'k--' )\n",
    "plt.rcParams['font.size'] = 12\n",
    "plt.title('ROC curve for AdaBoost Classifier')\n",
    "plt.xlabel('False Positive Rate (1 - Specificity)')\n",
    "plt.ylabel('True Positive Rate (Sensitivity)')\n",
    "plt.show()"
   ]
  },
  {
   "cell_type": "markdown",
   "metadata": {},
   "source": [
    "### Gradient Boosting Classifier"
   ]
  },
  {
   "cell_type": "code",
   "execution_count": 58,
   "metadata": {},
   "outputs": [
    {
     "name": "stdout",
     "output_type": "stream",
     "text": [
      "              precision    recall  f1-score   support\n",
      "\n",
      "           0       0.81      0.06      0.10      1978\n",
      "           1       0.85      1.00      0.92     10783\n",
      "\n",
      "    accuracy                           0.85     12761\n",
      "   macro avg       0.83      0.53      0.51     12761\n",
      "weighted avg       0.85      0.85      0.79     12761\n",
      "\n",
      "[[  110  1868]\n",
      " [   26 10757]]\n"
     ]
    }
   ],
   "source": [
    "gbc= GradientBoostingClassifier(learning_rate=0.01, random_state=1)\n",
    "gbc.fit(X_train, y_train)\n",
    "gbc_prediction = gbc.predict(X_test)\n",
    "gbc = evaluate(gbc_prediction,y_test)\n",
    "gbc\n",
    "\n",
    "# Summary of the prediction\n",
    "print(classification_report(y_test, gbc_prediction))\n",
    "print(confusion_matrix(y_test, gbc_prediction))"
   ]
  },
  {
   "cell_type": "code",
   "execution_count": 59,
   "metadata": {},
   "outputs": [
    {
     "name": "stdout",
     "output_type": "stream",
     "text": [
      "AUROC = 0.8304315666860803\n"
     ]
    }
   ],
   "source": [
    "auroc_gbc = roc_auc_score(gbc_prediction,y_test)\n",
    "print('AUROC =', auroc_gbc)"
   ]
  },
  {
   "cell_type": "code",
   "execution_count": 60,
   "metadata": {},
   "outputs": [
    {
     "data": {
      "image/png": "[encoded data removed]",
      "text/plain": [
       "<Figure size 432x288 with 1 Axes>"
      ]
     },
     "metadata": {
      "needs_background": "light"
     },
     "output_type": "display_data"
    }
   ],
   "source": [
    "fpr, tpr, thresholds = roc_curve(y_test, gbc_prediction)\n",
    "plt.figure(figsize=(6,4))\n",
    "plt.plot(fpr, tpr, linewidth=2)\n",
    "plt.plot([0,1], [0,1], 'k--' )\n",
    "plt.rcParams['font.size'] = 12\n",
    "plt.title('ROC curve for GradientBoosting Classifier')\n",
    "plt.xlabel('False Positive Rate (1 - Specificity)')\n",
    "plt.ylabel('True Positive Rate (Sensitivity)')\n",
    "plt.show()"
   ]
  },
  {
   "cell_type": "markdown",
   "metadata": {},
   "source": [
    "### XGB Classifier"
   ]
  },
  {
   "cell_type": "code",
   "execution_count": 61,
   "metadata": {},
   "outputs": [
    {
     "name": "stdout",
     "output_type": "stream",
     "text": [
      "              precision    recall  f1-score   support\n",
      "\n",
      "           0       0.63      0.32      0.42      1978\n",
      "           1       0.89      0.97      0.92     10783\n",
      "\n",
      "    accuracy                           0.86     12761\n",
      "   macro avg       0.76      0.64      0.67     12761\n",
      "weighted avg       0.85      0.86      0.85     12761\n",
      "\n",
      "[[  629  1349]\n",
      " [  374 10409]]\n"
     ]
    }
   ],
   "source": [
    "import xgboost as xgb \n",
    "xgb_clas=xgb.XGBClassifier(random_state=1,learning_rate=0.01)\n",
    "xgb_clas.fit(X_train, y_train)\n",
    "xgb_clas_prediction = xgb_clas.predict(X_test)\n",
    "xgb_clas = evaluate(xgb_clas_prediction,y_test)\n",
    "xgb_clas\n",
    "\n",
    "# Summary of the prediction\n",
    "print(classification_report(y_test, xgb_clas_prediction))\n",
    "print(confusion_matrix(y_test, xgb_clas_prediction))"
   ]
  },
  {
   "cell_type": "code",
   "execution_count": 62,
   "metadata": {},
   "outputs": [
    {
     "name": "stdout",
     "output_type": "stream",
     "text": [
      "AUROC = 0.7561941238709455\n"
     ]
    }
   ],
   "source": [
    "auroc_xgb_clas = roc_auc_score(xgb_clas_prediction,y_test)\n",
    "print('AUROC =', auroc_xgb_clas)"
   ]
  },
  {
   "cell_type": "code",
   "execution_count": 63,
   "metadata": {},
   "outputs": [
    {
     "data": {
      "image/png": "[encoded data removed]",
      "text/plain": [
       "<Figure size 432x288 with 1 Axes>"
      ]
     },
     "metadata": {
      "needs_background": "light"
     },
     "output_type": "display_data"
    }
   ],
   "source": [
    "fpr, tpr, thresholds = roc_curve(y_test, xgb_clas_prediction)\n",
    "plt.figure(figsize=(6,4))\n",
    "plt.plot(fpr, tpr, linewidth=2)\n",
    "plt.plot([0,1], [0,1], 'k--' )\n",
    "plt.rcParams['font.size'] = 12\n",
    "plt.title('ROC curve for XGB Classifier')\n",
    "plt.xlabel('False Positive Rate (1 - Specificity)')\n",
    "plt.ylabel('True Positive Rate (Sensitivity)')\n",
    "plt.show()"
   ]
  },
  {
   "cell_type": "markdown",
   "metadata": {},
   "source": [
    "### Porównanie wszystkich modeli na data_dummies "
   ]
  },
  {
   "cell_type": "code",
   "execution_count": 64,
   "metadata": {},
   "outputs": [
    {
     "data": {
      "text/html": [
       "<div>\n",
       "<style scoped>\n",
       "    .dataframe tbody tr th:only-of-type {\n",
       "        vertical-align: middle;\n",
       "    }\n",
       "\n",
       "    .dataframe tbody tr th {\n",
       "        vertical-align: top;\n",
       "    }\n",
       "\n",
       "    .dataframe thead th {\n",
       "        text-align: right;\n",
       "    }\n",
       "</style>\n",
       "<table border=\"1\" class=\"dataframe\">\n",
       "  <thead>\n",
       "    <tr style=\"text-align: right;\">\n",
       "      <th></th>\n",
       "      <th>Method</th>\n",
       "      <th>AUROC</th>\n",
       "    </tr>\n",
       "  </thead>\n",
       "  <tbody>\n",
       "    <tr>\n",
       "      <th>8</th>\n",
       "      <td>Gradient Boosting Classifier</td>\n",
       "      <td>0.830432</td>\n",
       "    </tr>\n",
       "    <tr>\n",
       "      <th>0</th>\n",
       "      <td>Logistic Regression</td>\n",
       "      <td>0.774249</td>\n",
       "    </tr>\n",
       "    <tr>\n",
       "      <th>1</th>\n",
       "      <td>Logistic Regression parameters</td>\n",
       "      <td>0.774249</td>\n",
       "    </tr>\n",
       "    <tr>\n",
       "      <th>3</th>\n",
       "      <td>Random Forest</td>\n",
       "      <td>0.770232</td>\n",
       "    </tr>\n",
       "    <tr>\n",
       "      <th>9</th>\n",
       "      <td>XGB Classifier</td>\n",
       "      <td>0.756194</td>\n",
       "    </tr>\n",
       "    <tr>\n",
       "      <th>4</th>\n",
       "      <td>Support Vector Machine (SVM)</td>\n",
       "      <td>0.754851</td>\n",
       "    </tr>\n",
       "    <tr>\n",
       "      <th>7</th>\n",
       "      <td>ADA Boost Classifier</td>\n",
       "      <td>0.739339</td>\n",
       "    </tr>\n",
       "    <tr>\n",
       "      <th>2</th>\n",
       "      <td>Decision Tree</td>\n",
       "      <td>0.720277</td>\n",
       "    </tr>\n",
       "    <tr>\n",
       "      <th>6</th>\n",
       "      <td>Bagging Classifier</td>\n",
       "      <td>0.701376</td>\n",
       "    </tr>\n",
       "    <tr>\n",
       "      <th>5</th>\n",
       "      <td>KNN</td>\n",
       "      <td>0.568466</td>\n",
       "    </tr>\n",
       "  </tbody>\n",
       "</table>\n",
       "</div>"
      ],
      "text/plain": [
       "                           Method     AUROC\n",
       "8    Gradient Boosting Classifier  0.830432\n",
       "0             Logistic Regression  0.774249\n",
       "1  Logistic Regression parameters  0.774249\n",
       "3                   Random Forest  0.770232\n",
       "9                  XGB Classifier  0.756194\n",
       "4    Support Vector Machine (SVM)  0.754851\n",
       "7            ADA Boost Classifier  0.739339\n",
       "2                   Decision Tree  0.720277\n",
       "6              Bagging Classifier  0.701376\n",
       "5                             KNN  0.568466"
      ]
     },
     "execution_count": 64,
     "metadata": {},
     "output_type": "execute_result"
    }
   ],
   "source": [
    "results = pd.DataFrame({'Method':['Logistic Regression', 'Logistic Regression parameters','Decision Tree', 'Random Forest', \n",
    "                                  ' Support Vector Machine (SVM)', 'KNN', 'Bagging Classifier', 'ADA Boost Classifier', \n",
    "                                  'Gradient Boosting Classifier', 'XGB Classifier'], \n",
    "                        'AUROC': [auroc_log, auroc_lrc, auroc_dtree, auroc_rf, auroc_svm, \n",
    "                                  auroc_knn, auroc_xgbc, auroc_ada, auroc_gbc, auroc_xgb_clas]})\n",
    "results.sort_values(by = 'AUROC', ascending = False)"
   ]
  },
  {
   "cell_type": "markdown",
   "metadata": {},
   "source": [
    "### Modele na całym zbiorze - data_loan1 - cechy numeryczne"
   ]
  },
  {
   "cell_type": "markdown",
   "metadata": {},
   "source": [
    "#### Logistic Regression"
   ]
  },
  {
   "cell_type": "code",
   "execution_count": 65,
   "metadata": {},
   "outputs": [],
   "source": [
    "X1 = data_loan1.drop('loan_status',axis=1) \n",
    "#target\n",
    "y1 = data_loan1['loan_status']\n",
    "\n",
    "X1_train, X1_test, y1_train, y1_test = train_test_split(X1, y1, test_size=0.3, random_state=0)\n",
    "\n",
    "sc = StandardScaler()\n",
    "X1_train = sc.fit_transform(X1_train)\n",
    "X1_test = sc.transform(X1_test)"
   ]
  },
  {
   "cell_type": "code",
   "execution_count": 66,
   "metadata": {},
   "outputs": [
    {
     "name": "stdout",
     "output_type": "stream",
     "text": [
      "              precision    recall  f1-score   support\n",
      "\n",
      "           0       0.65      0.19      0.29      1978\n",
      "           1       0.87      0.98      0.92     10783\n",
      "\n",
      "    accuracy                           0.86     12761\n",
      "   macro avg       0.76      0.58      0.61     12761\n",
      "weighted avg       0.83      0.86      0.82     12761\n",
      "\n",
      "[[  372  1606]\n",
      " [  200 10583]]\n"
     ]
    }
   ],
   "source": [
    "log_num = LogisticRegression()\n",
    "log_num.fit(X1_train, y1_train)\n",
    "\n",
    "y1_pred = log_num.predict(X1_test)\n",
    "\n",
    "# Summary of the prediction\n",
    "print(classification_report(y1_test, y1_pred))\n",
    "print(confusion_matrix(y1_test, y1_pred))"
   ]
  },
  {
   "cell_type": "code",
   "execution_count": 67,
   "metadata": {},
   "outputs": [
    {
     "name": "stdout",
     "output_type": "stream",
     "text": [
      "AUROC = 0.7561941238709455\n"
     ]
    }
   ],
   "source": [
    "auroc_log_num = roc_auc_score(xgb_clas_prediction,y_test)\n",
    "print('AUROC =', auroc_log_num)"
   ]
  },
  {
   "cell_type": "markdown",
   "metadata": {},
   "source": [
    "#### Gradient Boosting Classifier"
   ]
  },
  {
   "cell_type": "code",
   "execution_count": 68,
   "metadata": {},
   "outputs": [
    {
     "name": "stdout",
     "output_type": "stream",
     "text": [
      "              precision    recall  f1-score   support\n",
      "\n",
      "           0       0.82      0.03      0.05      1978\n",
      "           1       0.85      1.00      0.92     10783\n",
      "\n",
      "    accuracy                           0.85     12761\n",
      "   macro avg       0.83      0.51      0.49     12761\n",
      "weighted avg       0.84      0.85      0.78     12761\n",
      "\n",
      "[[   54  1924]\n",
      " [   12 10771]]\n"
     ]
    }
   ],
   "source": [
    "gbc_num= GradientBoostingClassifier(learning_rate=0.01, random_state=1)\n",
    "gbc_num.fit(X1_train, y1_train)\n",
    "gbc_num_pred = gbc_num.predict(X1_test)\n",
    "gbc_num = evaluate(gbc_num_pred,y1_test)\n",
    "gbc_num\n",
    "\n",
    "# Summary of the prediction\n",
    "print(classification_report(y1_test, gbc_num_pred))\n",
    "print(confusion_matrix(y1_test, gbc_num_pred))"
   ]
  },
  {
   "cell_type": "code",
   "execution_count": 69,
   "metadata": {},
   "outputs": [
    {
     "name": "stdout",
     "output_type": "stream",
     "text": [
      "AUROC = 0.8333130437896094\n"
     ]
    }
   ],
   "source": [
    "auroc_gbc_num = roc_auc_score(gbc_num_pred,y_test)\n",
    "print('AUROC =', auroc_gbc_num)"
   ]
  },
  {
   "cell_type": "markdown",
   "metadata": {},
   "source": [
    "### Modele na całym zbiorze - data_outliers - z uzupełnionymi medianami"
   ]
  },
  {
   "cell_type": "markdown",
   "metadata": {},
   "source": [
    "#### Logistic Regression"
   ]
  },
  {
   "cell_type": "code",
   "execution_count": 70,
   "metadata": {},
   "outputs": [],
   "source": [
    "X2 = data_outliers \n",
    "#target\n",
    "y2 = data_loan['loan_status']\n",
    "\n",
    "X2_train, X2_test, y2_train, y2_test = train_test_split(X2, y2, test_size=0.3, random_state=0)\n",
    "\n",
    "sc = StandardScaler()\n",
    "X2_train = sc.fit_transform(X2_train)\n",
    "X2_test = sc.transform(X2_test)"
   ]
  },
  {
   "cell_type": "code",
   "execution_count": 71,
   "metadata": {},
   "outputs": [
    {
     "name": "stdout",
     "output_type": "stream",
     "text": [
      "              precision    recall  f1-score   support\n",
      "\n",
      "           0       0.65      0.20      0.31      1978\n",
      "           1       0.87      0.98      0.92     10783\n",
      "\n",
      "    accuracy                           0.86     12761\n",
      "   macro avg       0.76      0.59      0.62     12761\n",
      "weighted avg       0.84      0.86      0.83     12761\n",
      "\n",
      "[[  402  1576]\n",
      " [  217 10566]]\n"
     ]
    }
   ],
   "source": [
    "log_med = LogisticRegression()\n",
    "log_med.fit(X2_train, y2_train)\n",
    "\n",
    "y2_pred= log_med.predict(X2_test)\n",
    "\n",
    "# Summary of the prediction\n",
    "print(classification_report(y2_test, y2_pred))\n",
    "print(confusion_matrix(y2_test, y2_pred))"
   ]
  },
  {
   "cell_type": "code",
   "execution_count": 72,
   "metadata": {},
   "outputs": [
    {
     "name": "stdout",
     "output_type": "stream",
     "text": [
      "AUROC = 0.7598185872133976\n"
     ]
    }
   ],
   "source": [
    "auroc_log_med = roc_auc_score(y2_pred,y2_test)\n",
    "print('AUROC =', auroc_log_med)"
   ]
  },
  {
   "cell_type": "markdown",
   "metadata": {},
   "source": [
    "#### Gradient Boosting Classifier"
   ]
  },
  {
   "cell_type": "code",
   "execution_count": 73,
   "metadata": {},
   "outputs": [
    {
     "name": "stdout",
     "output_type": "stream",
     "text": [
      "              precision    recall  f1-score   support\n",
      "\n",
      "           0       0.83      0.02      0.04      1978\n",
      "           1       0.85      1.00      0.92     10783\n",
      "\n",
      "    accuracy                           0.85     12761\n",
      "   macro avg       0.84      0.51      0.48     12761\n",
      "weighted avg       0.85      0.85      0.78     12761\n",
      "\n",
      "[[   44  1934]\n",
      " [    9 10774]]\n"
     ]
    }
   ],
   "source": [
    "gbc_med= GradientBoostingClassifier(learning_rate=0.01, random_state=1)\n",
    "gbc_med.fit(X2_train, y2_train)\n",
    "gbc_med_pred = gbc_med.predict(X2_test)\n",
    "gbc_med = evaluate(gbc_med_pred,y2_test)\n",
    "gbc_med\n",
    "\n",
    "# Summary of the prediction\n",
    "print(classification_report(y2_test, gbc_med_pred))\n",
    "print(confusion_matrix(y2_test, gbc_med_pred))"
   ]
  },
  {
   "cell_type": "code",
   "execution_count": 74,
   "metadata": {},
   "outputs": [
    {
     "name": "stdout",
     "output_type": "stream",
     "text": [
      "AUROC = 0.8390005404410236\n"
     ]
    }
   ],
   "source": [
    "auroc_gbc_med = roc_auc_score(gbc_med_pred,y_test)\n",
    "print('AUROC =', auroc_gbc_med)"
   ]
  },
  {
   "cell_type": "markdown",
   "metadata": {},
   "source": [
    "### Podsumowanie "
   ]
  },
  {
   "cell_type": "markdown",
   "metadata": {},
   "source": [
    "Najlepsze wyniki AUROC uzyskałam na modelach Gradient Boosting Classifier, na wszystkich danych. Poniżej podsumowanie w zależności od rodzaje danych. "
   ]
  },
  {
   "cell_type": "code",
   "execution_count": 75,
   "metadata": {},
   "outputs": [
    {
     "data": {
      "text/html": [
       "<div>\n",
       "<style scoped>\n",
       "    .dataframe tbody tr th:only-of-type {\n",
       "        vertical-align: middle;\n",
       "    }\n",
       "\n",
       "    .dataframe tbody tr th {\n",
       "        vertical-align: top;\n",
       "    }\n",
       "\n",
       "    .dataframe thead th {\n",
       "        text-align: right;\n",
       "    }\n",
       "</style>\n",
       "<table border=\"1\" class=\"dataframe\">\n",
       "  <thead>\n",
       "    <tr style=\"text-align: right;\">\n",
       "      <th></th>\n",
       "      <th>Method</th>\n",
       "      <th>AUROC</th>\n",
       "      <th>Zbiór danych</th>\n",
       "    </tr>\n",
       "  </thead>\n",
       "  <tbody>\n",
       "    <tr>\n",
       "      <th>2</th>\n",
       "      <td>Gradient Boosting Classifier</td>\n",
       "      <td>0.839001</td>\n",
       "      <td>data_loan z medianami</td>\n",
       "    </tr>\n",
       "    <tr>\n",
       "      <th>1</th>\n",
       "      <td>Gradient Boosting Classifier</td>\n",
       "      <td>0.833313</td>\n",
       "      <td>data_loan numeryczne</td>\n",
       "    </tr>\n",
       "    <tr>\n",
       "      <th>0</th>\n",
       "      <td>Gradient Boosting Classifier</td>\n",
       "      <td>0.756194</td>\n",
       "      <td>data_dummies</td>\n",
       "    </tr>\n",
       "  </tbody>\n",
       "</table>\n",
       "</div>"
      ],
      "text/plain": [
       "                         Method     AUROC           Zbiór danych\n",
       "2  Gradient Boosting Classifier  0.839001  data_loan z medianami\n",
       "1  Gradient Boosting Classifier  0.833313   data_loan numeryczne\n",
       "0  Gradient Boosting Classifier  0.756194           data_dummies"
      ]
     },
     "execution_count": 75,
     "metadata": {},
     "output_type": "execute_result"
    }
   ],
   "source": [
    "results = pd.DataFrame({'Method':['Gradient Boosting Classifier','Gradient Boosting Classifier','Gradient Boosting Classifier'], \n",
    "                        'AUROC': [auroc_xgb_clas, auroc_gbc_num, auroc_gbc_med],\n",
    "                       'Zbiór danych': ['data_dummies', 'data_loan numeryczne', 'data_loan z medianami']})\n",
    "results.sort_values(by = 'AUROC', ascending = False)"
   ]
  },
  {
   "cell_type": "markdown",
   "metadata": {},
   "source": [
    "### Kolejna część w pliku \"Finalny Model część IV Projekt końcowy Data Science - Dorota Gawrońska-Popa\""
   ]
  },
  {
   "cell_type": "markdown",
   "metadata": {},
   "source": [
    "### Łódź 4.10.2020"
   ]
  }
 ],
 "metadata": {
  "kernelspec": {
   "display_name": "Python 3",
   "language": "python",
   "name": "python3"
  },
  "language_info": {
   "codemirror_mode": {
    "name": "ipython",
    "version": 3
   },
   "file_extension": ".py",
   "mimetype": "text/x-python",
   "name": "python",
   "nbconvert_exporter": "python",
   "pygments_lexer": "ipython3",
   "version": "3.8.5"
  }
 },
 "nbformat": 4,
 "nbformat_minor": 4
}
